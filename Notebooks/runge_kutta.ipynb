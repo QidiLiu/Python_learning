{
 "cells": [
  {
   "cell_type": "markdown",
   "metadata": {},
   "source": [
    "# 龙格库塔法四阶实现\n",
    "\n",
    "## 简单介绍\n",
    "\n",
    "我的表达可能不是很准确，在我的理解下龙格库塔法是求解微分方程时用到的一种由给定初值求解微分方程近似解的算法。龙格库塔法一阶是入门微积分时学的欧拉法（好像是入门时候学的，具体我记不太清了），这学期学“车辆研发模拟工具”这门课时学得更深入的是四阶。因为上周彻底把那个算法搞完了，这里趁热乎再用Python实现一遍。"
   ]
  },
  {
   "cell_type": "code",
   "execution_count": 1,
   "metadata": {},
   "outputs": [],
   "source": [
    "%matplotlib inline\n",
    "from matplotlib import pyplot\n",
    "from math import pi"
   ]
  },
  {
   "cell_type": "code",
   "execution_count": 2,
   "metadata": {},
   "outputs": [],
   "source": [
    "# 各个参数\n",
    "P = 500\n",
    "I = 200\n",
    "J = 80.1\n",
    "uL = 0.1\n",
    "uB = 0.45\n",
    "nB = 2\n",
    "nK = 2\n",
    "dK = 30\n",
    "r_eff = 320\n",
    "nn = 1000\n",
    "kn = 4700\n",
    "max_n = 5000\n",
    "nomi_P = 523.6\n",
    "Ts = 0.01\n",
    "\n",
    "# 制动器压强设置\n",
    "zp1 = 0\n",
    "zp2 = 10\n",
    "zp3 = 11\n",
    "zp4 = 25\n",
    "zp5 = 26\n",
    "zp6 = 30\n",
    "rd1 = 0\n",
    "rd2 = 0\n",
    "rd3 = 30\n",
    "rd4 = 30\n",
    "rd5 = 0\n",
    "rd6 = 0\n",
    "\n",
    "# 转速调整\n",
    "zp7 = 0\n",
    "zp8 = 5\n",
    "zp9 = 6\n",
    "zp10 = 30\n",
    "rn1 = 0\n",
    "rn2 = 0\n",
    "rn3 = 1500\n",
    "rn4 = 1500"
   ]
  },
  {
   "cell_type": "code",
   "execution_count": 3,
   "metadata": {},
   "outputs": [],
   "source": [
    "# 时间离散化\n",
    "Nt = int((zp10 - zp7)/Ts + 1)\n",
    "t = []\n",
    "t.append(zp7)\n",
    "for i in range(Nt):\n",
    "    if i < Nt-1:\n",
    "        t.append(t[i]+Ts)"
   ]
  },
  {
   "cell_type": "code",
   "execution_count": 4,
   "metadata": {},
   "outputs": [],
   "source": [
    "# 转速单位换算函数\n",
    "def rpm2radps(orig_n):\n",
    "    return orig_n*2*pi/60\n",
    "\n",
    "def radps2rpm(orig_n):\n",
    "    return orig_n*60/2/pi\n",
    "\n",
    "# 转速调整函数\n",
    "def ref(t):\n",
    "    if t < zp8:\n",
    "        return rn1 + (rn2 - rn1)/(zp8 - zp7)*(t - zp7)\n",
    "    elif t < zp9:\n",
    "        return rn2 + (rn3 - rn2)/(zp9 - zp8)*(t - zp8)\n",
    "    else:\n",
    "        return rn3 + (rn4 - rn3)/(zp10 - zp9)*(t - zp9)\n",
    "    \n",
    "# 压强调整函数\n",
    "def ist_p(t):\n",
    "    if t < zp2:\n",
    "        return rd1\n",
    "    elif t < zp3:\n",
    "        return rd2\n",
    "    elif t < zp4:\n",
    "        return rd3\n",
    "    elif t < zp5:\n",
    "        return rd4\n",
    "    elif t < zp6:\n",
    "        return rd5\n",
    "    else:\n",
    "        return rd6\n",
    "    \n",
    "# 转矩控制函数\n",
    "def n2M(ist_n, t):\n",
    "    # 限制区间（此处转矩为负的情况省略了，以后有兴趣可以加上）\n",
    "    if ist_n < nn:\n",
    "        max_M = 3e4/pi*(nomi_P/nn)\n",
    "    elif ist_n<kn:\n",
    "        max_M = 3e4/pi*(nomi_P/ist_n)\n",
    "    else:\n",
    "        max_M = 3e4/pi*(nomi_P - nomi_P*(ist_n-kn)/(max_n-kn))/ist_n\n",
    "    \n",
    "    # 积分部分时间累积\n",
    "    if t<zp8:\n",
    "        Nachstellzeit = t - zp7\n",
    "    elif t<zp9:\n",
    "        Nachstellzeit = t - zp8\n",
    "    else:\n",
    "        Nachstellzeit = t - zp9\n",
    "    \n",
    "    # PI控制器\n",
    "    e = rpm2radps(ref(t))-rpm2radps(ist_n)\n",
    "    u = P*e + I*e*Nachstellzeit\n",
    "    if u>max_M:\n",
    "        return max_M\n",
    "    else:\n",
    "        return u"
   ]
  },
  {
   "cell_type": "code",
   "execution_count": 5,
   "metadata": {},
   "outputs": [],
   "source": [
    "# 转矩、转速和标准转速的处理\n",
    "M = []\n",
    "ist_n = []\n",
    "ist_n.append(0)\n",
    "ref_n = []\n",
    "\n",
    "def dn(ist_n, t):\n",
    "    return 1/J*(n2M(ist_n, t) - 2*uL*rpm2radps(ist_n) - nB*uB*nK*(ist_p(t)*1e5)*pi*(dK*dK*1e-6)/4*r_eff*1e-3)\n",
    "\n",
    "for i in range(Nt):\n",
    "    M.append(n2M(ist_n[i], t[i]))\n",
    "    k1 = radps2rpm(Ts*dn(ist_n[i], t[i]))\n",
    "    k2 = radps2rpm(Ts*dn(ist_n[i]+k1/2, t[i]+Ts/2))\n",
    "    k3 = radps2rpm(Ts*dn(ist_n[i]+k2/2, t[i]+Ts/2))\n",
    "    k4 = radps2rpm(Ts*dn(ist_n[i]+k3, t[i]+Ts))\n",
    "    if i<Nt-1:\n",
    "        ist_n.append(ist_n[i] + (k1+2*k2+2*k3+k4)/6)\n",
    "    ref_n.append(ref(t[i]))"
   ]
  },
  {
   "cell_type": "code",
   "execution_count": 7,
   "metadata": {},
   "outputs": [
    {
     "data": {
      "image/png": "[encoded data removed]",
      "text/plain": [
       "<Figure size 1152x648 with 2 Axes>"
      ]
     },
     "metadata": {
      "needs_background": "light"
     },
     "output_type": "display_data"
    }
   ],
   "source": [
    "fig = pyplot.figure(figsize=(16, 9))\n",
    "\n",
    "ax1 = fig.add_subplot(111)\n",
    "ax1.plot(t, ist_n, 'b', label='ist_n')\n",
    "ax1.plot(t, ref_n, 'k', label='ref_n')\n",
    "ax1.set_xlabel('Zeit(s)')\n",
    "ax1.set_xlim(zp7, zp10)\n",
    "ax1.set_ylabel('Drehzahl(rpm)')\n",
    "ax1.set_ylim(0, 2000)\n",
    "pyplot.legend(loc='upper left')\n",
    "\n",
    "ax2 = ax1.twinx()\n",
    "ax2.plot(t, M, 'r', label='M')\n",
    "ax2.set_ylabel('Drehmoment(Nm)')\n",
    "ax2.set_ylim(0, 10000)\n",
    "pyplot.legend(loc='upper right')\n",
    "\n",
    "pyplot.show()"
   ]
  },
  {
   "cell_type": "code",
   "execution_count": null,
   "metadata": {},
   "outputs": [],
   "source": []
  }
 ],
 "metadata": {
  "kernelspec": {
   "display_name": "Python 3",
   "language": "python",
   "name": "python3"
  },
  "language_info": {
   "codemirror_mode": {
    "name": "ipython",
    "version": 3
   },
   "file_extension": ".py",
   "mimetype": "text/x-python",
   "name": "python",
   "nbconvert_exporter": "python",
   "pygments_lexer": "ipython3",
   "version": "3.8.0"
  }
 },
 "nbformat": 4,
 "nbformat_minor": 4
}
