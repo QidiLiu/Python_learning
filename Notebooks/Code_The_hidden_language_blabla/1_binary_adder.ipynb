{
 "cells": [
  {
   "cell_type": "markdown",
   "metadata": {},
   "source": [
    "# 1. 二进制加法器\n",
    "\n",
    "## 1.1 半加器\n",
    "\n",
    "在二进制的位运算中，进位运算即与运算"
   ]
  },
  {
   "cell_type": "code",
   "execution_count": 1,
   "metadata": {},
   "outputs": [],
   "source": [
    "def and_gate(a, b):\n",
    "    if a and b:\n",
    "        return True\n",
    "    else:\n",
    "        return False"
   ]
  },
  {
   "cell_type": "code",
   "execution_count": 2,
   "metadata": {},
   "outputs": [],
   "source": [
    "def test(function):\n",
    "    if function(0, 0):\n",
    "        print('0, 0 ==> 1')\n",
    "    else:\n",
    "        print('0, 0 ==> 0')\n",
    "    if function(0, 1):\n",
    "        print('1, 0 ==> 1')\n",
    "    else:\n",
    "        print('1, 0 ==> 0')\n",
    "    if function(0, 1):\n",
    "        print('0, 1 ==> 1')\n",
    "    else:\n",
    "        print('0, 1 ==> 0')\n",
    "    if function(1, 1):\n",
    "        print('1, 1 ==> 1')\n",
    "    else:\n",
    "        print('1, 1 ==> 0')"
   ]
  },
  {
   "cell_type": "code",
   "execution_count": 3,
   "metadata": {},
   "outputs": [
    {
     "name": "stdout",
     "output_type": "stream",
     "text": [
      "0, 0 ==> 0\n",
      "1, 0 ==> 0\n",
      "0, 1 ==> 0\n",
      "1, 1 ==> 1\n"
     ]
    }
   ],
   "source": [
    "test(and_gate)"
   ]
  },
  {
   "cell_type": "code",
   "execution_count": null,
   "metadata": {},
   "outputs": [],
   "source": []
  }
 ],
 "metadata": {
  "kernelspec": {
   "display_name": "Python 3",
   "language": "python",
   "name": "python3"
  },
  "language_info": {
   "codemirror_mode": {
    "name": "ipython",
    "version": 3
   },
   "file_extension": ".py",
   "mimetype": "text/x-python",
   "name": "python",
   "nbconvert_exporter": "python",
   "pygments_lexer": "ipython3",
   "version": "3.7.3"
  }
 },
 "nbformat": 4,
 "nbformat_minor": 2
}
