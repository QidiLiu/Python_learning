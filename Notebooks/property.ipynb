{
 "cells": [
  {
   "cell_type": "markdown",
   "metadata": {},
   "source": [
    "# 便于属性设置的类\n",
    "\n",
    "- property()返回所设属性值，其典型用法是定义一个托管属性或作为装饰器（decorator）来创建只读的特征属性。\n",
    "\n",
    "## 定义一个托管属性"
   ]
  },
  {
   "cell_type": "code",
   "execution_count": 1,
   "metadata": {},
   "outputs": [],
   "source": [
    "class C(object):\n",
    "    def __init__(self):\n",
    "        self._x = None\n",
    "        \n",
    "    def getx(self):\n",
    "        return self._x\n",
    "    \n",
    "    def setx(self, value):\n",
    "        self._x = value\n",
    "    \n",
    "    def delx(self):\n",
    "        del self._x\n",
    "        \n",
    "    x = property(getx, setx, delx, \"I'm the 'x' property.\")"
   ]
  },
  {
   "cell_type": "markdown",
   "metadata": {},
   "source": [
    "- property(fget=None, fset=None, fdel=None, doc=None)这个类中的前三个函数分别用于获取属性值，设置属性值和删除属性值，第四个是为属性对象创建文档字符串。\n",
    "\n",
    "- 在上面的例子里，前三个函数使得被property托管的_x属性能更方便地进行设置。\n",
    "\n",
    "- 关键的地方在于==>具体方便在哪呢？如果不用property显然也能在对象C中设三个函数来设置内部值，但调用时要调用这三个函数。假设c是用C的创建的一个实例，如果用了property()，在外部调用，设置和删除c的内部属性值_x时就可以直接用c.x,c.x=<某个数>以及del c.x，大大优化了代码的可读性。\n",
    "## 创建只读的特征属性\n",
    "装饰器（decorator）可以给函数动态加上功能，使用property()作为装饰器来创建只读特征属性很容易实现："
   ]
  },
  {
   "cell_type": "code",
   "execution_count": 2,
   "metadata": {},
   "outputs": [],
   "source": [
    "class Student(object):\n",
    "    \n",
    "    @property\n",
    "    def score(self):\n",
    "        \"\"\"Get the current score\"\"\"\n",
    "        return self._score\n",
    "    \n",
    "    @score.setter\n",
    "    def score(self, value):\n",
    "        if not isinstance(value, int):\n",
    "            raise ValueError('score must be an integer!')\n",
    "        if value < 0 or value > 100:\n",
    "            raise ValueError('score must between 0 ~ 100!')\n",
    "        self._score = value\n",
    "    \n",
    "    @score.deleter\n",
    "    def score(self):\n",
    "        del self._score"
   ]
  },
  {
   "cell_type": "code",
   "execution_count": 4,
   "metadata": {},
   "outputs": [
    {
     "data": {
      "text/plain": [
       "90"
      ]
     },
     "execution_count": 4,
     "metadata": {},
     "output_type": "execute_result"
    }
   ],
   "source": [
    "xiao_ming = Student()\n",
    "#xiao_ming.score = 101\n",
    "#上面这行代码如果不加井号会报错：ValueError: score must between 0 ~ 100!\n",
    "xiao_ming.score = 90\n",
    "xiao_ming.score"
   ]
  },
  {
   "cell_type": "markdown",
   "metadata": {},
   "source": [
    "## 小结\n",
    "用[廖雪峰老师](liaoxuefeng.com)的话讲，Python内置@property装饰器的意义在于定义类的内部变量时既能检查参数，又可以用属性这样简单的方式来访问和修改类的变量。"
   ]
  },
  {
   "cell_type": "code",
   "execution_count": null,
   "metadata": {},
   "outputs": [],
   "source": []
  }
 ],
 "metadata": {
  "kernelspec": {
   "display_name": "Python 3",
   "language": "python",
   "name": "python3"
  },
  "language_info": {
   "codemirror_mode": {
    "name": "ipython",
    "version": 3
   },
   "file_extension": ".py",
   "mimetype": "text/x-python",
   "name": "python",
   "nbconvert_exporter": "python",
   "pygments_lexer": "ipython3",
   "version": "3.7.3"
  }
 },
 "nbformat": 4,
 "nbformat_minor": 2
}
