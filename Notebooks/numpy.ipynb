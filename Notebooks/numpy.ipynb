{
 "cells": [
  {
   "cell_type": "markdown",
   "metadata": {},
   "source": [
    "# python科学计算常用库numpy的使用\n",
    "\n",
    "#### 数组"
   ]
  },
  {
   "cell_type": "code",
   "execution_count": 1,
   "metadata": {},
   "outputs": [
    {
     "name": "stdout",
     "output_type": "stream",
     "text": [
      "[8 7 0 7 6 6 7 7]\n"
     ]
    }
   ],
   "source": [
    "import numpy as np\n",
    "\n",
    "test_array = np.array([8, 7, 0, 7, 6, 6, 7, 7])\n",
    "\n",
    "print(test_array)"
   ]
  },
  {
   "cell_type": "code",
   "execution_count": 2,
   "metadata": {},
   "outputs": [
    {
     "name": "stdout",
     "output_type": "stream",
     "text": [
      "[[8 7 0]\n",
      " [7 6 6]\n",
      " [7 7 0]]\n"
     ]
    }
   ],
   "source": [
    "test_array_2 = np.array([[8, 7, 0],\n",
    "                         [7, 6, 6],\n",
    "                         [7, 7, 0]])\n",
    "\n",
    "print(test_array_2)"
   ]
  },
  {
   "cell_type": "code",
   "execution_count": 3,
   "metadata": {},
   "outputs": [
    {
     "name": "stdout",
     "output_type": "stream",
     "text": [
      "1\n",
      "[] <== 1\n",
      "2\n",
      "[1.] <== 2\n",
      "3\n",
      "[1. 2.] <== 3\n",
      "4\n",
      "[1. 2. 3.] <== 4\n",
      "2\n",
      "[1. 2. 3. 4.] <== 2\n",
      "\n",
      "[1. 2. 3. 4. 2.] <== \n"
     ]
    }
   ],
   "source": [
    "# 一个简单的用于构建一维数组的脚本\n",
    "\n",
    "output_array = np.array([])\n",
    "def my_input(show_text):\n",
    "    try:\n",
    "        x = input()\n",
    "        print(show_text,'<==',str(x))\n",
    "    except:\n",
    "        print(\"输入有误如1,2,3\")\n",
    "    finally:\n",
    "        try:\n",
    "            return x\n",
    "        except:\n",
    "            print(\"输入有误\")\n",
    "while(1):\n",
    "    input_number = my_input(str(output_array))\n",
    "    if(input_number.isdigit()):\n",
    "        output_array = np.concatenate((output_array, [int(input_number)]))\n",
    "    else:\n",
    "        break"
   ]
  },
  {
   "cell_type": "code",
   "execution_count": 4,
   "metadata": {},
   "outputs": [
    {
     "name": "stdout",
     "output_type": "stream",
     "text": [
      "1\n",
      "[1.]\n",
      "2\n",
      "[1. 2.]\n",
      "3\n",
      "[1. 2. 3.]\n",
      "4\n",
      "[1. 2. 3. 4.]\n",
      "2\n",
      "[1. 2. 3. 4. 2.]\n",
      "\n"
     ]
    }
   ],
   "source": [
    "# 构建一维数组的脚本 （极简版，不带输入检查）\n",
    "\n",
    "output_array = np.array([])\n",
    "\n",
    "def my_input():\n",
    "    x = input()\n",
    "    return x\n",
    "\n",
    "while(1):\n",
    "    input_number = my_input()\n",
    "    if(len(input_number) > 0):\n",
    "        output_array = np.append(output_array, int(input_number))\n",
    "        print(str(output_array))\n",
    "    else:\n",
    "        break"
   ]
  },
  {
   "cell_type": "code",
   "execution_count": 5,
   "metadata": {},
   "outputs": [
    {
     "name": "stdout",
     "output_type": "stream",
     "text": [
      "[ 0.6 -0.2 -0.4]\n"
     ]
    }
   ],
   "source": [
    "import numpy as np\n",
    "from scipy.linalg import solve\n",
    "\n",
    "a = np.array([[0, 1, 2], [3, 2, 1], [4, 1, 3]])\n",
    "b = np.array([-1, 1, 1])\n",
    "x = solve(a, b)\n",
    "\n",
    "print(x)"
   ]
  },
  {
   "cell_type": "code",
   "execution_count": 6,
   "metadata": {},
   "outputs": [],
   "source": [
    "# 有空可以考虑下怎么把上两格结合，以及怎么在输入分号时输入下一行"
   ]
  }
 ],
 "metadata": {
  "kernelspec": {
   "display_name": "Python 3",
   "language": "python",
   "name": "python3"
  },
  "language_info": {
   "codemirror_mode": {
    "name": "ipython",
    "version": 3
   },
   "file_extension": ".py",
   "mimetype": "text/x-python",
   "name": "python",
   "nbconvert_exporter": "python",
   "pygments_lexer": "ipython3",
   "version": "3.7.4"
  }
 },
 "nbformat": 4,
 "nbformat_minor": 2
}
