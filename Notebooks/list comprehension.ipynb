{
 "cells": [
  {
   "cell_type": "markdown",
   "metadata": {},
   "source": [
    "# 列表解析\n",
    "\n",
    "参考自[知乎这篇文章](https://zhuanlan.zhihu.com/p/28274410)和[简书这篇文章](https://www.jianshu.com/p/c635d3c798c2)\n",
    "\n",
    "list是python中十分重要的一种数据结构，生成新的list是python程序员每天都会进行的工作，除了机械的使用for循环，append函数等方式来生成列表，还可以考虑使用更加pythonic的方式来得到列表。\n",
    "\n",
    "简单来说，列表解析（list comprehension）提供了一种优雅的生成列表的方法，能用一行代码代替十几行代码，而且不损失任何可读性。而且，性能还快很多很多。\n",
    "\n",
    "列表解析是Python迭代机制的一种应用。是一个将一个列表（实际上是任意可迭代对象）转换成另一个列表的工具。在转换时，每个元素都可以按照某个条件被包含在新的列表中，并根据需要做出一些变换。\n",
    "\n",
    "基本表达形式[expression for iter_val in iterable if cond_expr]\n",
    "\n",
    "列表内容基本分为三部分：\n",
    "- expression 要生成的列表的元素\n",
    "- for iter_val in iterable 元素来源\n",
    "- if cond_expr 判断元素是否满足条件，满足才会放在表里\n",
    "\n",
    "## 几个例子\n"
   ]
  },
  {
   "cell_type": "code",
   "execution_count": 2,
   "metadata": {},
   "outputs": [
    {
     "name": "stdout",
     "output_type": "stream",
     "text": [
      "[1, 3, 5, 7, 9, 11, 13, 15, 17, 19, 21, 23, 25, 27, 29, 31, 33, 35, 37, 39, 41, 43, 45, 47, 49, 51, 53, 55, 57, 59, 61, 63, 65, 67, 69, 71, 73, 75, 77, 79, 81, 83, 85, 87, 89, 91, 93, 95, 97, 99]\n"
     ]
    }
   ],
   "source": [
    "# 例1 0~100所有奇数\n",
    "a = [x for x in range(101) if x%2!=0]\n",
    "print(a)"
   ]
  },
  {
   "cell_type": "code",
   "execution_count": null,
   "metadata": {},
   "outputs": [],
   "source": []
  }
 ],
 "metadata": {
  "kernelspec": {
   "display_name": "Python 3",
   "language": "python",
   "name": "python3"
  },
  "language_info": {
   "codemirror_mode": {
    "name": "ipython",
    "version": 3
   },
   "file_extension": ".py",
   "mimetype": "text/x-python",
   "name": "python",
   "nbconvert_exporter": "python",
   "pygments_lexer": "ipython3",
   "version": "3.8.0"
  }
 },
 "nbformat": 4,
 "nbformat_minor": 4
}
