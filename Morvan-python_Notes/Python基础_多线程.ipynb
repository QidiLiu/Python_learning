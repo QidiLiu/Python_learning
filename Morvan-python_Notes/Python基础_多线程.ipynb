{
  "nbformat": 4,
  "nbformat_minor": 0,
  "metadata": {
    "colab": {
      "name": "Python基础_多线程.ipynb",
      "provenance": [],
      "include_colab_link": true
    },
    "kernelspec": {
      "display_name": "Python 3",
      "language": "python",
      "name": "python3"
    },
    "language_info": {
      "codemirror_mode": {
        "name": "ipython",
        "version": 3
      },
      "file_extension": ".py",
      "mimetype": "text/x-python",
      "name": "python",
      "nbconvert_exporter": "python",
      "pygments_lexer": "ipython3",
      "version": "3.8.0"
    }
  },
  "cells": [
    {
      "cell_type": "markdown",
      "metadata": {
        "id": "view-in-github",
        "colab_type": "text"
      },
      "source": [
        "<a href=\"https://colab.research.google.com/github/QidiLiu/Python_learning/blob/master/Morvan-python_Notes/Python%E5%9F%BA%E7%A1%80_%E5%A4%9A%E7%BA%BF%E7%A8%8B.ipynb\" target=\"_parent\"><img src=\"https://colab.research.google.com/assets/colab-badge.svg\" alt=\"Open In Colab\"/></a>"
      ]
    },
    {
      "cell_type": "markdown",
      "metadata": {
        "colab_type": "text",
        "id": "oXGTIjCT52p4"
      },
      "source": [
        "# Python基础-多线程\n",
        "\n",
        "## 1. 什么是多线程\n",
        "\n",
        "根据[维基](https://zh.wikipedia.org/wiki/%E5%A4%9A%E7%BA%BF%E7%A8%8B)给的定义，是指在多个线程上并发执行的技术。注意要与[多进程](https://zh.wikipedia.org/wiki/%E5%A4%9A%E5%85%83%E8%99%95%E7%90%86)区分开。\n",
        "\n",
        "**多进程**是把CPU的运算资源分开，一个进程下又可以分为多个**线程**。想象你正在做饭，煮米饭需要15分钟，处理食材需要10分钟，炒菜需要10分钟，显然，炒菜这一步骤必须等处理食材结束才能进行，但煮饭不一样，你可以一开始就把饭煮上，在煮饭的同时处理食材、炒菜。多线程的意义就在于此，很多事情没必要等上一件事做完再做下一个，比如打开多个网页没必要依次打开，还有时甚至不能等上一件事做完，比如给程序的某个执行阶段计时。在厨房里你可以同时煮米饭、炒菜、刷碗，并不是说你有好几双手，而是你的双手在厨房不停“走位”，将这些事情**在合理安排下实现了效率最大化**，这就是程序员们所谓的“**IO密集型**”。然而，正在厨房做饭的你很难再给孩子辅导功课，不是地点的问题，即使你在厨房能用平板跟孩子视频通话，此时也无法仔细思考孩子不懂的问题，因为安排厨房的事已经很费脑子了。这就是程序员们说的“**CPU密集型**”，这种事情就要引入多进程，也就是请别人帮你。\n",
        "\n",
        "所以**多线程**和**多进程**的区别其实很简单，**多线程**是表面的同时进行，通过频繁走位实现，而**多进程**是真正的同时进行，两个进程之间的数据可以相互沟通，但本质上是相互独立的，这种相互独立的运行模式在程序员那好像叫**并行**（不太确定），在我举的例子里两个人不需要考虑对方的进度，这叫**异步**。假设我们人为地规定辅导孩子功课的人要等厨房的人切完菜才能辅导英语，确认是否切完菜地过程叫**同步**。\n",
        "\n",
        "---\n",
        "\n",
        "大佬们的专业解释👇\n",
        "\n",
        "- [知乎 | 一文讲解进程、线程、多进程、多线程的优缺点](https://zhuanlan.zhihu.com/p/63215535)\n",
        "- [知乎 | 【译】 Python 的多线程与多进程](https://zhuanlan.zhihu.com/p/43352965)\n",
        "- [博客园 | 什么是多线程？](https://www.cnblogs.com/wzhua/p/7453694.html)\n",
        "\n",
        "## 2. 添加线程 Thread\n",
        "\n",
        "用于线程定义和检测的语句必须写在main()函数之内。\n",
        "\n",
        "```python\n",
        "import threading\n",
        "\n",
        "def main()\n",
        "    new_thread = threading.Thread()\n",
        "    print(threading.active_count()) # 查看有多少激活了的线程\n",
        "    print(threading.enumerate()) # 查看激活了的线程分别是哪些\n",
        "    print(threading.current_thread()) # 查看正在运行的线程\n",
        "\n",
        "if __name__ = '__main__':\n",
        "    main()\n",
        "```\n",
        "\n",
        "创建python自带模块threading中的Thread对象，并用该对象的start()方法启动这个线程。\n",
        "\n",
        "```python\n",
        "# 此处只写了main()函数内的语句\n",
        "new_thread = threading.Thread(target=thread_job) # 显然thread_job()需要定义\n",
        "new_thread.start()\n",
        "```\n",
        "\n",
        "## 3. join功能\n",
        "\n",
        "join()需在start()执行后执行。\n",
        "\n",
        "start()之后，join()之前的语句将在线程启动后马上执行，而join()之后的语句将**在线程运行结束后才执行。**\n",
        "\n",
        "\n"
      ]
    },
    {
      "cell_type": "code",
      "metadata": {
        "id": "Qvm4_HD9RrWV",
        "colab_type": "code",
        "colab": {
          "base_uri": "https://localhost:8080/",
          "height": 139
        },
        "outputId": "82c05ff9-85bc-4e8c-fcfe-26bad0e51822"
      },
      "source": [
        "import threading\n",
        "import time\n",
        "\n",
        "def thread_job():\n",
        "    print('T1 start\\n')\n",
        "    for i in range(10):\n",
        "        time.sleep(0.1)\n",
        "    print('T1 finish\\n')\n",
        "\n",
        "def main():\n",
        "    new_thread = threading.Thread(target=thread_job, name='T1')\n",
        "    new_thread.start()\n",
        "    print('processing...\\n')\n",
        "    new_thread.join()\n",
        "    print('all done.')\n",
        "\n",
        "if __name__ == \"__main__\":\n",
        "    main()"
      ],
      "execution_count": 1,
      "outputs": [
        {
          "output_type": "stream",
          "text": [
            "T1 start\n",
            "processing...\n",
            "\n",
            "\n",
            "T1 finish\n",
            "\n",
            "all done.\n"
          ],
          "name": "stdout"
        }
      ]
    },
    {
      "cell_type": "markdown",
      "metadata": {
        "id": "67ur6oMbSrh7",
        "colab_type": "text"
      },
      "source": [
        "如果我们加一个简单的T2线程。T2线程从何时开始取决于T2线程的start()函数是在T1线程的join()**之前还是之后**。也就是说join()本质上相当于一个路障，只有等该线程结束这个路障才打开通行。"
      ]
    },
    {
      "cell_type": "code",
      "metadata": {
        "id": "-Xta419GTjSh",
        "colab_type": "code",
        "colab": {
          "base_uri": "https://localhost:8080/",
          "height": 209
        },
        "outputId": "a1e37949-7bed-4e49-c9cd-d316e64d740e"
      },
      "source": [
        "import threading\n",
        "import time\n",
        "\n",
        "def thread_job():\n",
        "    print('T1 start\\n')\n",
        "    for i in range(10):\n",
        "        time.sleep(0.1)\n",
        "    print('T1 finish\\n')\n",
        "\n",
        "def job_2():\n",
        "    print('爷来了\\n')\n",
        "    print('爷又走了\\n')\n",
        "\n",
        "def main():\n",
        "    new_thread = threading.Thread(target=thread_job, name='T1')\n",
        "    thread_2 = threading.Thread(target=job_2, name='T2')\n",
        "    new_thread.start()\n",
        "    print('first thread processing...\\n')\n",
        "    thread_2.start()\n",
        "    new_thread.join()\n",
        "    thread_2.join()\n",
        "    print('all done.')\n",
        "\n",
        "if __name__ == \"__main__\":\n",
        "    main()"
      ],
      "execution_count": 2,
      "outputs": [
        {
          "output_type": "stream",
          "text": [
            "T1 start\n",
            "\n",
            "first thread processing...\n",
            "\n",
            "爷来了\n",
            "\n",
            "爷又走了\n",
            "\n",
            "T1 finish\n",
            "\n",
            "all done.\n"
          ],
          "name": "stdout"
        }
      ]
    },
    {
      "cell_type": "markdown",
      "metadata": {
        "id": "AGxx6j-kVPTe",
        "colab_type": "text"
      },
      "source": [
        "## 4. Queue（队列）功能\n",
        "\n",
        "多线程的目标函数没有返回值，如果要用到计算结果，要先把计算结果输出到队列中。"
      ]
    },
    {
      "cell_type": "code",
      "metadata": {
        "id": "d93vCSvWV68T",
        "colab_type": "code",
        "colab": {
          "base_uri": "https://localhost:8080/",
          "height": 34
        },
        "outputId": "0eb3fea3-14ee-4d97-8b29-b1d67d1a9f38"
      },
      "source": [
        "import threading\n",
        "import time\n",
        "from queue import Queue\n",
        "\n",
        "def job(input_list, q):\n",
        "    for i in range(len(input_list)):\n",
        "        output_list = input_list # 使输出列表与输入列表维度一致\n",
        "        output_list[i] = input_list[i] ** 2\n",
        "    q.put(output_list)\n",
        "\n",
        "def multithreading():\n",
        "    q = Queue()\n",
        "    threads = []\n",
        "    data = [[1,2,3], [2,3,4], [4,4,4], [5,5,5]]\n",
        "    for i in range(4):\n",
        "        t = threading.Thread(target=job, args=(data[i],q))\n",
        "        t.start()\n",
        "        threads.append(t)\n",
        "    for thread in threads:\n",
        "        thread.join()\n",
        "\n",
        "    results = []\n",
        "    for i in range(4):\n",
        "        results.append(q.get())\n",
        "    print(results)\n",
        "\n",
        "if __name__ == '__main__':\n",
        "    multithreading()"
      ],
      "execution_count": 3,
      "outputs": [
        {
          "output_type": "stream",
          "text": [
            "[[1, 4, 9], [4, 9, 16], [16, 16, 16], [25, 25, 25]]\n"
          ],
          "name": "stdout"
        }
      ]
    },
    {
      "cell_type": "markdown",
      "metadata": {
        "id": "yPfVIH5xa0BY",
        "colab_type": "text"
      },
      "source": [
        "Queue对象相当于一个**云储存仓**，所有线程中的运算结果都能往这个对象里装，最后都算完了再用get()把结果一次全取出来。"
      ]
    },
    {
      "cell_type": "markdown",
      "metadata": {
        "id": "UL2QzjaIbejF",
        "colab_type": "text"
      },
      "source": [
        "## 5. GIL不一定更有效率\n",
        "\n",
        "这个话题已经在本篇开头对多线程的介绍中探讨过。[全局解释器锁GIL(Global Interpreter Lock)](https://zh.wikipedia.org/wiki/%E5%85%A8%E5%B1%80%E8%A7%A3%E9%87%8A%E5%99%A8%E9%94%81)是一种用来同步线程的机制，简单地说就是靠粗暴地暂时锁住的线程给其他线程让行。这里放一段[来自知乎的解释](https://zhuanlan.zhihu.com/p/20953544)：\n",
        "\n",
        "*在Python多线程下，每个线程的执行方式：*\n",
        "\n",
        "1. *获取GIL*\n",
        "2. *执行代码直到sleep或者是python虚拟机将其挂起。*\n",
        "3. *释放GIL*\n",
        "\n",
        "*可见，某个线程想要执行，必须先拿到GIL，我们可以把GIL看作是“通行证”，并且在一个python进程中，GIL只有一个。拿不到通行证的线程，就不允许进入CPU执行。*\n",
        "\n",
        "如果你看过《七龙珠》，用GIL机制实现的多线程结果就像是分身术，孙悟空并不是真的变出了分身，而是快速在不同位置间转换实现分身。用专业名词讲，这叫“并发”（详见[并发与并行的区别](https://www.zhihu.com/question/33515481)）。\n",
        "\n",
        "## 6. 线程锁 Lock\n",
        "\n",
        "当多个线程的运算都会修改同一个全局变量时，计算容易变乱。用线程锁Lock对象可以给全局变量的计算加锁，使计算更加条理。如果说GIL是系统在**自动**决定线程什么时候停/开，那么线程锁就是**人工**规定某些运算部分的停和开。\n",
        "\n",
        "来自[简书的例子](https://www.jianshu.com/p/05b6a6f6fdac)（经我简化了）："
      ]
    },
    {
      "cell_type": "code",
      "metadata": {
        "id": "pXw63QS3bZws",
        "colab_type": "code",
        "colab": {
          "base_uri": "https://localhost:8080/",
          "height": 52
        },
        "outputId": "71de044f-69b0-48f3-ba7e-66c5864a45a8"
      },
      "source": [
        "import threading\n",
        "\n",
        "BALANCE_1 = 0\n",
        "BALANCE_2 = 0\n",
        "lock = threading.Lock()\n",
        "\n",
        "def change_without_lock(n):\n",
        "    global BALANCE_1\n",
        "    for i in range(1000000):\n",
        "        BALANCE_1 += n\n",
        "        BALANCE_1 -= n\n",
        "\n",
        "def change_with_lock(n):\n",
        "    global BALANCE_2\n",
        "    lock.acquire()\n",
        "    for i in range(1000000):\n",
        "        BALANCE_2 += n\n",
        "        BALANCE_2 -= n\n",
        "    lock.release()\n",
        "\n",
        "def main():\n",
        "    t1 = threading.Thread(target=change_without_lock, args=(8,))\n",
        "    t2 = threading.Thread(target=change_without_lock, args=(10,))\n",
        "    t1.start()\n",
        "    t2.start()\n",
        "    t1.join()\n",
        "    t2.join()\n",
        "    t3 = threading.Thread(target=change_with_lock, args=(8,))\n",
        "    t4 = threading.Thread(target=change_with_lock, args=(10,))\n",
        "    t3.start()\n",
        "    t4.start()\n",
        "    t3.join()\n",
        "    t4.join()\n",
        "\n",
        "if __name__ == '__main__':\n",
        "    main()\n",
        "    print(f'without lock: {BALANCE_1}')\n",
        "    print(f'with lock: {BALANCE_2}')"
      ],
      "execution_count": 4,
      "outputs": [
        {
          "output_type": "stream",
          "text": [
            "without lock: 8\n",
            "with lock: 0\n"
          ],
          "name": "stdout"
        }
      ]
    }
  ]
}