{
 "cells": [
  {
   "cell_type": "markdown",
   "metadata": {
    "colab_type": "text",
    "id": "view-in-github"
   },
   "source": [
    "<a href=\"https://colab.research.google.com/github/QidiLiu/Python_learning/blob/master/Morvan-python_Notes/Python%E5%9F%BA%E7%A1%80_%E5%A4%9A%E7%BA%BF%E7%A8%8B.ipynb\" target=\"_parent\"><img src=\"https://colab.research.google.com/assets/colab-badge.svg\" alt=\"Open In Colab\"/></a>"
   ]
  },
  {
   "cell_type": "markdown",
   "metadata": {
    "colab_type": "text",
    "id": "oXGTIjCT52p4"
   },
   "source": [
    "# Python基础-多线程\n",
    "\n",
    "*由于threading模块无法在Jupyter notebook正常运行（听说的），这部分没有代码单元格，所有代码请看👉[code/thread.py](https://github.com/QidiLiu/Python_learning/tree/master/Morvan-python_Notes/code/thread.py)*\n",
    "\n",
    "## 1. 什么是多线程\n",
    "\n",
    "根据[维基](https://zh.wikipedia.org/wiki/%E5%A4%9A%E7%BA%BF%E7%A8%8B)给的定义，是指在多个线程上并发执行的技术。注意要与[多进程](https://zh.wikipedia.org/wiki/%E5%A4%9A%E5%85%83%E8%99%95%E7%90%86)区分开。\n",
    "\n",
    "**多进程**是把CPU的运算资源分开，一个进程下又可以分为多个**线程**。想象你正在做饭，煮米饭需要15分钟，处理食材需要10分钟，炒菜需要10分钟，显然，炒菜这一步骤必须等处理食材结束才能进行，但煮饭不一样，你可以一开始就把饭煮上，在煮饭的同时处理食材、炒菜。多线程的意义就在于此，很多事情没必要等上一件事做完再做下一个，比如打开多个网页没必要依次打开，还有时甚至不能等上一件事做完，比如给程序的某个执行阶段计时。在厨房里你可以同时煮米饭、炒菜、刷碗，并不是说你有好几双手，而是你的双手在厨房不停“走位”，将这些事情**在合理安排下实现了效率最大化**，这就是程序员们所谓的“**IO密集型**”。然而，正在厨房做饭的你很难再给孩子辅导功课，不是地点的问题，即使你在厨房能用平板跟孩子视频通话，此时也无法仔细思考孩子不懂的问题，因为安排厨房的事已经很费脑子了。这就是程序员们说的“**CPU密集型**”，这种事情就要引入多进程，也就是请别人帮你。\n",
    "\n",
    "所以**多线程**和**多进程**的区别其实很简单，**多线程**是表面的同时进行，通过频繁走位实现，而**多进程**是真正的同时进行，两个进程之间的数据可以相互沟通，但本质上是相互独立的，这种相互独立的运行模式在程序员那好像叫**并行**（不太确定），在我举的例子里两个人不需要考虑对方的进度，这叫**异步**。假设我们人为地规定辅导孩子功课的人要等厨房的人切完菜才能辅导英语，确认是否切完菜地过程叫**同步**。\n",
    "\n",
    "---\n",
    "\n",
    "大佬们的专业解释👇\n",
    "\n",
    "- [知乎 | 一文讲解进程、线程、多进程、多线程的优缺点](https://zhuanlan.zhihu.com/p/63215535)\n",
    "- [知乎 | 【译】 Python 的多线程与多进程](https://zhuanlan.zhihu.com/p/43352965)\n",
    "- [博客园 | 什么是多线程？](https://www.cnblogs.com/wzhua/p/7453694.html)\n",
    "\n",
    "## 2. 添加线程 Thread\n",
    "\n",
    "创建python自带模块threading中的Thread对象，并用该对象的start()方法启动这个线程。\n",
    "\n",
    "```python\n",
    "import threading\n",
    "new_thread = Thread(target=thread_job)\n",
    "new_thread.start()\n",
    "```\n",
    "\n"
   ]
  },
  {
   "cell_type": "code",
   "execution_count": null,
   "metadata": {
    "colab": {},
    "colab_type": "code",
    "id": "oZIRVXwX5iSd"
   },
   "outputs": [],
   "source": []
  }
 ],
 "metadata": {
  "colab": {
   "authorship_tag": "ABX9TyP3admefYBU2iWac2aYxgig",
   "include_colab_link": true,
   "name": "Python基础_多线程.ipynb",
   "provenance": []
  },
  "kernelspec": {
   "display_name": "Python 3",
   "language": "python",
   "name": "python3"
  },
  "language_info": {
   "codemirror_mode": {
    "name": "ipython",
    "version": 3
   },
   "file_extension": ".py",
   "mimetype": "text/x-python",
   "name": "python",
   "nbconvert_exporter": "python",
   "pygments_lexer": "ipython3",
   "version": "3.8.0"
  }
 },
 "nbformat": 4,
 "nbformat_minor": 4
}
