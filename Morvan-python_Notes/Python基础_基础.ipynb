{
  "nbformat": 4,
  "nbformat_minor": 0,
  "metadata": {
    "colab": {
      "name": "Python基础 - 基础.ipynb",
      "provenance": [],
      "include_colab_link": true
    },
    "kernelspec": {
      "name": "python3",
      "display_name": "Python 3"
    }
  },
  "cells": [
    {
      "cell_type": "markdown",
      "metadata": {
        "id": "view-in-github",
        "colab_type": "text"
      },
      "source": [
        "<a href=\"https://colab.research.google.com/github/QidiLiu/Python_learning/blob/master/Morvan-python_Notes/Python%E5%9F%BA%E7%A1%80_%E5%9F%BA%E7%A1%80.ipynb\" target=\"_parent\"><img src=\"https://colab.research.google.com/assets/colab-badge.svg\" alt=\"Open In Colab\"/></a>"
      ]
    },
    {
      "cell_type": "markdown",
      "metadata": {
        "id": "qNPwTvRRAUso",
        "colab_type": "text"
      },
      "source": [
        "# Python基础 - 基础\n",
        "\n",
        "## 1. 介绍\n",
        "\n",
        "*Python is a programming language that lets you work quickly and integrate systems more effectively.*\n",
        "\n",
        "*Python是一种编程语言，可让您快速工作并更有效地集成系统。*\n",
        "\n",
        "*（来自 [python官网 | 首页](https://www.python.org/)）*\n",
        "\n",
        "关于**Pythonic**，我个人理解是：\n",
        "\n",
        "- 可读性高\n",
        "- 简洁明了\n",
        "- 朴实无华\n",
        "\n",
        "python的编程精神都写在“*the zen of python*（Python之禅）”里："
      ]
    },
    {
      "cell_type": "code",
      "metadata": {
        "id": "oPYd1OvoF1TS",
        "colab_type": "code",
        "outputId": "175a1db7-a5ca-404b-8cba-daeb3dbb3ec6",
        "colab": {
          "base_uri": "https://localhost:8080/",
          "height": 384
        }
      },
      "source": [
        "import this"
      ],
      "execution_count": 1,
      "outputs": [
        {
          "output_type": "stream",
          "text": [
            "The Zen of Python, by Tim Peters\n",
            "\n",
            "Beautiful is better than ugly.\n",
            "Explicit is better than implicit.\n",
            "Simple is better than complex.\n",
            "Complex is better than complicated.\n",
            "Flat is better than nested.\n",
            "Sparse is better than dense.\n",
            "Readability counts.\n",
            "Special cases aren't special enough to break the rules.\n",
            "Although practicality beats purity.\n",
            "Errors should never pass silently.\n",
            "Unless explicitly silenced.\n",
            "In the face of ambiguity, refuse the temptation to guess.\n",
            "There should be one-- and preferably only one --obvious way to do it.\n",
            "Although that way may not be obvious at first unless you're Dutch.\n",
            "Now is better than never.\n",
            "Although never is often better than *right* now.\n",
            "If the implementation is hard to explain, it's a bad idea.\n",
            "If the implementation is easy to explain, it may be a good idea.\n",
            "Namespaces are one honking great idea -- let's do more of those!\n"
          ],
          "name": "stdout"
        }
      ]
    },
    {
      "cell_type": "markdown",
      "metadata": {
        "id": "13nRpnSjtatS",
        "colab_type": "text"
      },
      "source": [
        "#### 安装Python\n",
        "\n",
        "注意：Anaconda里包含Python，如果你已经安装了Anaconda就不用再去官网下原版的Python了。另外，为了安装外部模块时更省身，请记得勾选上“Add Python xxx to PATH”。 \n",
        "\n",
        "![](https://i.loli.net/2020/01/10/Qpn61F2ReCxAyo9.png)\n",
        "\n",
        "- 安装Anaconda能在安装依赖库时省很多事，如果你是为了做数据分析/科学计算而学Python，强烈推荐你安装这个版本：[Anaconda Distribution](https://www.anaconda.com/distribution/)。\n",
        "\n",
        "- 安装原版Python3：\n",
        "\n",
        "    - Windows平台上安装：[Python Releases for Windows](https://www.python.org/downloads/windows/)\n",
        "    - Mac OS平台上安装：[Python Releases for Mac OS X](https://www.python.org/downloads/mac-osx/)\n",
        "    - Linux平台上一般自带python3，不做赘述。\n",
        "    - 其他平台：[Download Python for Other Platforms](https://www.python.org/download/other/)"
      ]
    },
    {
      "cell_type": "markdown",
      "metadata": {
        "id": "kfYree9GGPaB",
        "colab_type": "text"
      },
      "source": [
        "## 2. 基本使用\n",
        "\n",
        "### 2.1 print 功能\n",
        "\n",
        "- 可以print字符串或数字\n",
        "- 其实基本啥都能print，这里就不展开说了。"
      ]
    },
    {
      "cell_type": "code",
      "metadata": {
        "id": "eUx63oAWHRi5",
        "colab_type": "code",
        "outputId": "76d3e878-9d4b-4634-f528-3db8c2850432",
        "colab": {
          "base_uri": "https://localhost:8080/",
          "height": 69
        }
      },
      "source": [
        "print('Hello world!')\n",
        "print(666)\n",
        "print(['这','是','列','表'])"
      ],
      "execution_count": 2,
      "outputs": [
        {
          "output_type": "stream",
          "text": [
            "Hello world!\n",
            "666\n",
            "['这', '是', '列', '表']\n"
          ],
          "name": "stdout"
        }
      ]
    },
    {
      "cell_type": "markdown",
      "metadata": {
        "id": "ozQETjk1Hn5R",
        "colab_type": "text"
      },
      "source": [
        "- 可以print用加号或逗号连接要print的内容。区别在于，逗号在输出时留一个空格，加号不留空。"
      ]
    },
    {
      "cell_type": "code",
      "metadata": {
        "id": "a_J6Gx2nHiYQ",
        "colab_type": "code",
        "outputId": "b2574d90-8155-4ae0-e51f-e3bc1632365e",
        "colab": {
          "base_uri": "https://localhost:8080/",
          "height": 34
        }
      },
      "source": [
        "print('窝窝头','一'+'块钱'+'四'+'个')"
      ],
      "execution_count": 3,
      "outputs": [
        {
          "output_type": "stream",
          "text": [
            "窝窝头 一块钱四个\n"
          ],
          "name": "stdout"
        }
      ]
    },
    {
      "cell_type": "markdown",
      "metadata": {
        "id": "YzE7kgpGKVC6",
        "colab_type": "text"
      },
      "source": [
        "- python的格式化print是个非常pythonic的地方，比其它语言的格式化print要直观得多。"
      ]
    },
    {
      "cell_type": "code",
      "metadata": {
        "id": "oS5gofIzJ5cT",
        "colab_type": "code",
        "outputId": "97e442b6-9603-4b28-d89e-2eca1dcbcbd1",
        "colab": {
          "base_uri": "https://localhost:8080/",
          "height": 34
        }
      },
      "source": [
        "price = 1\n",
        "count = 4\n",
        "\n",
        "print(f'窝窝头，{price}块钱{count}个')"
      ],
      "execution_count": 4,
      "outputs": [
        {
          "output_type": "stream",
          "text": [
            "窝窝头，1块钱4个\n"
          ],
          "name": "stdout"
        }
      ]
    },
    {
      "cell_type": "markdown",
      "metadata": {
        "id": "r-M7VeFDnZb1",
        "colab_type": "text"
      },
      "source": [
        "- 你甚至可以在print的括号里所做运算"
      ]
    },
    {
      "cell_type": "code",
      "metadata": {
        "id": "r_wnQJsenI5D",
        "colab_type": "code",
        "outputId": "b830cc02-60e2-44f7-8b4c-898965b21d54",
        "colab": {
          "base_uri": "https://localhost:8080/",
          "height": 52
        }
      },
      "source": [
        "print('窝窝头的单个价格：')\n",
        "print(1/4)"
      ],
      "execution_count": 5,
      "outputs": [
        {
          "output_type": "stream",
          "text": [
            "窝窝头的单个价格：\n",
            "0.25\n"
          ],
          "name": "stdout"
        }
      ]
    },
    {
      "cell_type": "markdown",
      "metadata": {
        "id": "mVi2QMpGnyUo",
        "colab_type": "text"
      },
      "source": [
        "python自带的数值变量只有整数型int和浮点型float。比如上边输入的print(1/4)中做运算的1和4就属于int，而输出结果0.25就是float。用函数int()可以把float取整变为int，但这不是四舍五入，而是把小数部分全切掉，只保留整数部分"
      ]
    },
    {
      "cell_type": "code",
      "metadata": {
        "id": "f3oJMhc-ntjx",
        "colab_type": "code",
        "outputId": "f1ce2275-4398-4f5e-e166-ea084388e8ef",
        "colab": {
          "base_uri": "https://localhost:8080/",
          "height": 52
        }
      },
      "source": [
        "print(int(3.1415926))\n",
        "print(int(2.71818))"
      ],
      "execution_count": 6,
      "outputs": [
        {
          "output_type": "stream",
          "text": [
            "3\n",
            "2\n"
          ],
          "name": "stdout"
        }
      ]
    },
    {
      "cell_type": "markdown",
      "metadata": {
        "id": "42_qmrt5pcQw",
        "colab_type": "text"
      },
      "source": [
        "另外，数值float和int这两种变量与字符串变量str之间也可以相互转换。\n",
        "\n"
      ]
    },
    {
      "cell_type": "code",
      "metadata": {
        "id": "JqKF5kIJpAt5",
        "colab_type": "code",
        "outputId": "86b5bb18-ce2b-49dd-b68d-d0bd8d5d819b",
        "colab": {
          "base_uri": "https://localhost:8080/",
          "height": 69
        }
      },
      "source": [
        "print(int('2')+3)\n",
        "print(str(2+3))\n",
        "print(str(2)+str(3))"
      ],
      "execution_count": 7,
      "outputs": [
        {
          "output_type": "stream",
          "text": [
            "5\n",
            "5\n",
            "23\n"
          ],
          "name": "stdout"
        }
      ]
    },
    {
      "cell_type": "markdown",
      "metadata": {
        "id": "RhqjMlkrp__o",
        "colab_type": "text"
      },
      "source": [
        "### 2.2 基础数学运算\n",
        "\n",
        "python可以直接加减乘除"
      ]
    },
    {
      "cell_type": "code",
      "metadata": {
        "id": "f33zZqRGpamK",
        "colab_type": "code",
        "outputId": "b93b393b-a93e-4845-e5b6-b8aba4cac715",
        "colab": {
          "base_uri": "https://localhost:8080/",
          "height": 0
        }
      },
      "source": [
        "(2 + 1*2 - 3/6) *2"
      ],
      "execution_count": 8,
      "outputs": [
        {
          "output_type": "execute_result",
          "data": {
            "text/plain": [
              "7.0"
            ]
          },
          "metadata": {
            "tags": []
          },
          "execution_count": 8
        }
      ]
    },
    {
      "cell_type": "markdown",
      "metadata": {
        "id": "dF4n4Attq9K7",
        "colab_type": "text"
      },
      "source": [
        "python中用两个星号**来表示次方"
      ]
    },
    {
      "cell_type": "code",
      "metadata": {
        "id": "SHOHe7S8q7eF",
        "colab_type": "code",
        "outputId": "1499b87e-74ab-4da4-8320-376c42c37cba",
        "colab": {
          "base_uri": "https://localhost:8080/",
          "height": 0
        }
      },
      "source": [
        "print('2的2次方：',str(2**2))\n",
        "print('2的3次方：',str(2**3))"
      ],
      "execution_count": 9,
      "outputs": [
        {
          "output_type": "stream",
          "text": [
            "2的2次方： 4\n",
            "2的3次方： 8\n"
          ],
          "name": "stdout"
        }
      ]
    },
    {
      "cell_type": "markdown",
      "metadata": {
        "id": "T7jWTEwu4v1N",
        "colab_type": "text"
      },
      "source": [
        "%表示取余数\n"
      ]
    },
    {
      "cell_type": "code",
      "metadata": {
        "id": "gJ_8bNHsruqA",
        "colab_type": "code",
        "outputId": "a2155c90-cda3-4caa-e9d7-ac8c45e5acae",
        "colab": {
          "base_uri": "https://localhost:8080/",
          "height": 0
        }
      },
      "source": [
        "8%3"
      ],
      "execution_count": 10,
      "outputs": [
        {
          "output_type": "execute_result",
          "data": {
            "text/plain": [
              "2"
            ]
          },
          "metadata": {
            "tags": []
          },
          "execution_count": 10
        }
      ]
    },
    {
      "cell_type": "markdown",
      "metadata": {
        "id": "eIGUHcVOr3R_",
        "colab_type": "text"
      },
      "source": [
        "### 2.3 变量 variable\n",
        "\n",
        "在创建数值、字符串自变量时，等号前是自变量名称，等号后是自变量的值，字符串要加括号（单括号或双括号都行）。"
      ]
    },
    {
      "cell_type": "code",
      "metadata": {
        "id": "MKFTf7lhryKJ",
        "colab_type": "code",
        "outputId": "5708d498-b863-438b-95bf-392e13cdc00b",
        "colab": {
          "base_uri": "https://localhost:8080/",
          "height": 0
        }
      },
      "source": [
        "name = '窝窝头'\n",
        "price = 1\n",
        "count = 4\n",
        "\n",
        "print(f'{name},{price}块钱{4}个')"
      ],
      "execution_count": 11,
      "outputs": [
        {
          "output_type": "stream",
          "text": [
            "窝窝头,1块钱4个\n"
          ],
          "name": "stdout"
        }
      ]
    },
    {
      "cell_type": "markdown",
      "metadata": {
        "id": "gU59d0Gjtt1v",
        "colab_type": "text"
      },
      "source": [
        "自变量名称不可以有空格，建议空格用下划线“_”代替，字符串自变量的值可以有空格"
      ]
    },
    {
      "cell_type": "code",
      "metadata": {
        "id": "6xLgv4tOtQC_",
        "colab_type": "code",
        "outputId": "cc3500ce-9f3d-4ae3-d5d9-7bb6428e9ceb",
        "colab": {
          "base_uri": "https://localhost:8080/",
          "height": 0
        }
      },
      "source": [
        "phone_name = '红米 5'\n",
        "print(phone_name)"
      ],
      "execution_count": 12,
      "outputs": [
        {
          "output_type": "stream",
          "text": [
            "红米 5\n"
          ],
          "name": "stdout"
        }
      ]
    },
    {
      "cell_type": "markdown",
      "metadata": {
        "id": "cSgQdUrHuA3A",
        "colab_type": "text"
      },
      "source": [
        "用逗号隔开可以一次定义多个自变量"
      ]
    },
    {
      "cell_type": "code",
      "metadata": {
        "id": "jmWegxiDtn2-",
        "colab_type": "code",
        "outputId": "e3f228c8-327e-4a6f-ce6b-4d64383419c9",
        "colab": {
          "base_uri": "https://localhost:8080/",
          "height": 0
        }
      },
      "source": [
        "a, b, c = 1, 2, 3\n",
        "print(a+b+c)\n",
        "\n",
        "d, e, f = '1', '2', '3'\n",
        "print(d+e+f)"
      ],
      "execution_count": 13,
      "outputs": [
        {
          "output_type": "stream",
          "text": [
            "6\n",
            "123\n"
          ],
          "name": "stdout"
        }
      ]
    },
    {
      "cell_type": "markdown",
      "metadata": {
        "id": "Hqrb6KGpuphK",
        "colab_type": "text"
      },
      "source": [
        "python 3.8 加入了“海象运算符 Walrus Operator”，具体用法见[Python 海象运算符的三种用法](https://www.yanxishe.com/TextTranslation/2257?from=timeline)"
      ]
    },
    {
      "cell_type": "markdown",
      "metadata": {
        "id": "MbPcWs2_ud0n",
        "colab_type": "text"
      },
      "source": [
        "## 3. while 和 for 循环\n",
        "\n",
        "### 3.1 while 循环\n",
        "\n",
        "#### 基本结构\n",
        "\n",
        "```python\n",
        "while condition:\n",
        "  expressions\n",
        "\n",
        "while(condition):\n",
        "  expressions\n",
        "```\n",
        "与其它语言动不动就加一堆大括号不同的是，python语句只用四个空格的缩进表示从属关系，所以在写python语句时应非常注意缩进。\n",
        "\n",
        "在while循环中condition是个值为True或False的布尔变量。一般而言，condition为True时将执行expressions语句，否则跳过这部分，继续往下执行。"
      ]
    },
    {
      "cell_type": "code",
      "metadata": {
        "id": "8smx6UsluK_T",
        "colab_type": "code",
        "outputId": "f90dd500-239f-4084-9f20-9c51799a08e3",
        "colab": {
          "base_uri": "https://localhost:8080/",
          "height": 244
        }
      },
      "source": [
        "from time import sleep\n",
        "\n",
        "print('倒计时开始！')\n",
        "\n",
        "left_time = 10\n",
        "\n",
        "while(left_time>0):\n",
        "  print(left_time) # print剩余秒数\n",
        "  sleep(1) # 延时1s\n",
        "  left_time -= 1 # 1秒后，剩余时间left_time也要减去一秒\n",
        "  # while语句块的所有语句运行后，将重新对循环条件进行判断\n",
        "\n",
        "# 当循环条件不再满足（由True变为False），将执行下面的语句\n",
        "print('发射！')\n",
        "print('🚀')"
      ],
      "execution_count": 14,
      "outputs": [
        {
          "output_type": "stream",
          "text": [
            "倒计时开始！\n",
            "10\n",
            "9\n",
            "8\n",
            "7\n",
            "6\n",
            "5\n",
            "4\n",
            "3\n",
            "2\n",
            "1\n",
            "发射！\n",
            "🚀\n"
          ],
          "name": "stdout"
        }
      ]
    },
    {
      "cell_type": "markdown",
      "metadata": {
        "id": "o7wsMqc10FBg",
        "colab_type": "text"
      },
      "source": [
        "如果condition一直为True，那么这个循环会一直进行下去，可以按ctrl+c终止程序"
      ]
    },
    {
      "cell_type": "markdown",
      "metadata": {
        "id": "Zb9hkODs0rLe",
        "colab_type": "text"
      },
      "source": [
        "#### 循环条件的形式\n",
        "\n",
        "- 比较常用的判断语句可以返回True或False\n",
        "\n",
        "  - 小于（<)\n",
        "  - 大于 (>)\n",
        "  - 不大于 (<=)\n",
        "  - 不小于 (>=)\n",
        "  - 等于 (==)\n",
        "  - 不等于 (!=)"
      ]
    },
    {
      "cell_type": "code",
      "metadata": {
        "id": "B_73fM-MzxIN",
        "colab_type": "code",
        "outputId": "0ec3a06f-7c26-4ddf-d260-3aa4d4fb3570",
        "colab": {
          "base_uri": "https://localhost:8080/",
          "height": 0
        }
      },
      "source": [
        "print(1<2)\n",
        "print(1>2)\n",
        "print(1<=2)\n",
        "print(1>=2)\n",
        "print(1==2)\n",
        "print(1!=2)"
      ],
      "execution_count": 15,
      "outputs": [
        {
          "output_type": "stream",
          "text": [
            "True\n",
            "False\n",
            "True\n",
            "False\n",
            "False\n",
            "True\n"
          ],
          "name": "stdout"
        }
      ]
    },
    {
      "cell_type": "markdown",
      "metadata": {
        "id": "JxqF0e3b1gWU",
        "colab_type": "text"
      },
      "source": [
        "注意：\n",
        "\n",
        "1. 相等判断是**两个**等号==\n",
        "2. 不等于中的!必须是英文版！，中文版！和英文版不一样，会报错，同理逗号和冒号也要注意用英文版的。"
      ]
    },
    {
      "cell_type": "markdown",
      "metadata": {
        "id": "kgXghp-K4UVL",
        "colab_type": "text"
      },
      "source": [
        "- 条件语句condition也可以是整数或浮点数，当值不为0或0.0时将执行expressions，当值为零时相当于condition为False"
      ]
    },
    {
      "cell_type": "code",
      "metadata": {
        "id": "9OkpppCh24Hi",
        "colab_type": "code",
        "outputId": "d3af9a0c-b3ad-4054-e1b7-bea6e03b21b8",
        "colab": {
          "base_uri": "https://localhost:8080/",
          "height": 0
        }
      },
      "source": [
        "a = 10\n",
        "while(a):\n",
        "  print(a)\n",
        "  a -= 1\n",
        "\n",
        "b = -10\n",
        "while(b):\n",
        "  print(b)\n",
        "  b += 1"
      ],
      "execution_count": 16,
      "outputs": [
        {
          "output_type": "stream",
          "text": [
            "10\n",
            "9\n",
            "8\n",
            "7\n",
            "6\n",
            "5\n",
            "4\n",
            "3\n",
            "2\n",
            "1\n",
            "-10\n",
            "-9\n",
            "-8\n",
            "-7\n",
            "-6\n",
            "-5\n",
            "-4\n",
            "-3\n",
            "-2\n",
            "-1\n"
          ],
          "name": "stdout"
        }
      ]
    },
    {
      "cell_type": "markdown",
      "metadata": {
        "id": "TES918j-5uzL",
        "colab_type": "text"
      },
      "source": [
        "- 当条件语句condition返回None时将返回False结束循环\n",
        "- 条件语句condition还可以是集合类型list/tuple/dict/set等，当集合中元素数量为0时将返回False结束循环"
      ]
    },
    {
      "cell_type": "code",
      "metadata": {
        "id": "NsbQoXX73NEr",
        "colab_type": "code",
        "outputId": "1f3d15eb-4b6d-4f0c-c600-f67bd6e54a5a",
        "colab": {
          "base_uri": "https://localhost:8080/",
          "height": 0
        }
      },
      "source": [
        "# 看不懂这一段没关系，只需要知道每次循环都会把列表a中的最后一个元素去掉就行\n",
        "a = range(10) # 创建了一个从0到9的列表list\n",
        "while a:\n",
        "    print(a[-1]) # print列表a中的倒数第一个元素\n",
        "    a = a[:len(a)-1] "
      ],
      "execution_count": 17,
      "outputs": [
        {
          "output_type": "stream",
          "text": [
            "9\n",
            "8\n",
            "7\n",
            "6\n",
            "5\n",
            "4\n",
            "3\n",
            "2\n",
            "1\n",
            "0\n"
          ],
          "name": "stdout"
        }
      ]
    },
    {
      "cell_type": "markdown",
      "metadata": {
        "id": "SsWdmw1F7zXN",
        "colab_type": "text"
      },
      "source": [
        "### 3.2 for 循环\n",
        "\n",
        "#### 基本形式\n",
        "\n",
        "```python\n",
        "for item in sequence:\n",
        "    expressions\n",
        "```\n",
        "squence是for循环要历遍的集合，一般是list格式，item是每次从集合squence中取出的对象。\n",
        "\n",
        "这个item是个代称，每次循环只从集合squence中取一个元素，而且每个元素都只会被取一次，item代表的就是循环时被取出来“正在用”的元素。这个代称可以放在expressions里用，可以指代数字，也可以指代字符串，squence里的元素是什么格式这个item代表的东西就是什么格式。\n",
        "\n",
        "上一段可能有点绕，如果你没看懂建议再看一遍仔细理解一下。只有你理解了元素的含义才能理解原列表元素和下面range数列中的元素的区别和联系。\n",
        "\n",
        "#### range()\n",
        "\n",
        "**range()**是python的for循环中常用的一种生成整数列表(list)的函数，可以才括号中传入1-3个数值参数，用法有以下三种：\n",
        "\n",
        "1. 有两个参数时，第一个参数是起始值，第二个参数为结束值。range(start, stop)将返回一个从起始值开始逐个加一，直到小于结束值的最大整数的数列。换句话说，这个数列包含了前闭后开区间[起始值, 结束值)内的所有整数，并按从小到大排列。"
      ]
    },
    {
      "cell_type": "code",
      "metadata": {
        "id": "3MtPKDCD7RgG",
        "colab_type": "code",
        "outputId": "e7051ac7-7481-4b5f-b53b-e151dc5f3ed2",
        "colab": {
          "base_uri": "https://localhost:8080/",
          "height": 0
        }
      },
      "source": [
        "for i in range(5, 9):\n",
        "  print(i)"
      ],
      "execution_count": 18,
      "outputs": [
        {
          "output_type": "stream",
          "text": [
            "5\n",
            "6\n",
            "7\n",
            "8\n"
          ],
          "name": "stdout"
        }
      ]
    },
    {
      "cell_type": "markdown",
      "metadata": {
        "id": "xSYV2Y3fEjXH",
        "colab_type": "text"
      },
      "source": [
        "2. 有一个参数时，这个参数为结束值，起始值设为0"
      ]
    },
    {
      "cell_type": "code",
      "metadata": {
        "id": "z3OVKVlxDd00",
        "colab_type": "code",
        "outputId": "e7000f23-3393-49f4-99c5-d75e2b432fd7",
        "colab": {
          "base_uri": "https://localhost:8080/",
          "height": 0
        }
      },
      "source": [
        "for i in range(9):\n",
        "  print(i)"
      ],
      "execution_count": 19,
      "outputs": [
        {
          "output_type": "stream",
          "text": [
            "0\n",
            "1\n",
            "2\n",
            "3\n",
            "4\n",
            "5\n",
            "6\n",
            "7\n",
            "8\n"
          ],
          "name": "stdout"
        }
      ]
    },
    {
      "cell_type": "markdown",
      "metadata": {
        "id": "btsO0PaMFjm0",
        "colab_type": "text"
      },
      "source": [
        "3. 有3个参数时，前两个参数还是起始值和结束值，最后一个参数为步长，表示该列表中两个相邻数字之间的差值，注意这个步长也必须是整数。"
      ]
    },
    {
      "cell_type": "code",
      "metadata": {
        "id": "2CECOqiQFDfS",
        "colab_type": "code",
        "outputId": "b4750c40-ad90-484c-8a2a-bb7ebcb591eb",
        "colab": {
          "base_uri": "https://localhost:8080/",
          "height": 0
        }
      },
      "source": [
        "for i in range(5, 9, 3):\n",
        "  print(i)"
      ],
      "execution_count": 20,
      "outputs": [
        {
          "output_type": "stream",
          "text": [
            "5\n",
            "8\n"
          ],
          "name": "stdout"
        }
      ]
    },
    {
      "cell_type": "markdown",
      "metadata": {
        "id": "UmDJQQMEF8q5",
        "colab_type": "text"
      },
      "source": [
        "关于range()，最常用在for循环中的一个写法是和len()嵌套着用：\n",
        "\n",
        "```python\n",
        "for i in range(len(some_list)):\n",
        "  expressions\n",
        "```\n",
        "\n",
        "为什么这样用呢？因为for循环在实际使用时经常用来处理列表(list)，有时我们要处理的不是列表中的元素本身，而是列表中元素的索引（标号），这时就需要先用len()获取list的大小（有多少个元素），再用range()生成整数数集，这个数集中的按大小排号的数就是元素的索引号（标号）。这里要注意的是，与直接把列表作为要历遍的集合不同，如果in后的sequence是个整数集，那么in前的item就不再代表元素，而是元素的索引，这是个新手写代码经常出bug的地方。\n",
        "\n",
        "Python 自带的集合有list, tuple, dict, set四种，这四种集合都能作为for循环的squence。"
      ]
    },
    {
      "cell_type": "code",
      "metadata": {
        "id": "ZN7YUVHmtNxw",
        "colab_type": "code",
        "outputId": "e5d6aafa-01cd-482a-90e3-da965e1299f0",
        "colab": {
          "base_uri": "https://localhost:8080/",
          "height": 0
        }
      },
      "source": [
        "# tuple 类型\n",
        "print('- tuple:')\n",
        "tup = ('python', 3.8, 64)\n",
        "for i in tup:\n",
        "    print(i)\n",
        "\n",
        "# dictionary 类型\n",
        "print('- dictionary:')\n",
        "dic = {}\n",
        "dic['lan'] = 'python'\n",
        "dic['version'] = 3.8\n",
        "dic['platform'] = 64\n",
        "for key in dic:\n",
        "    print(key, dic[key])\n",
        "\n",
        "# set 类型\n",
        "print('- set:')\n",
        "s = set(['python', 'python2', 'python3','python'])\n",
        "for item in s:\n",
        "    print(item)"
      ],
      "execution_count": 21,
      "outputs": [
        {
          "output_type": "stream",
          "text": [
            "- tuple:\n",
            "python\n",
            "3.8\n",
            "64\n",
            "- dictionary:\n",
            "lan python\n",
            "version 3.8\n",
            "platform 64\n",
            "- set:\n",
            "python3\n",
            "python\n",
            "python2\n"
          ],
          "name": "stdout"
        }
      ]
    },
    {
      "cell_type": "markdown",
      "metadata": {
        "id": "xVjJ-8UjvE1o",
        "colab_type": "text"
      },
      "source": [
        "#### 迭代器\n",
        "\n",
        "for的迭代模式并不限于+1。\n",
        "\n",
        "可以自己创建迭代器对象，在类中实现\\_\\_iter__()和\\_\\_next__()函数，就能实现自定义迭代器。"
      ]
    },
    {
      "cell_type": "code",
      "metadata": {
        "id": "5IKVrjdVFn7-",
        "colab_type": "code",
        "outputId": "8a5fad7e-5ee7-41b9-a8f3-3c0671e68197",
        "colab": {
          "base_uri": "https://localhost:8080/",
          "height": 0
        }
      },
      "source": [
        "# define a Fib class\n",
        "class Fib(object):\n",
        "    def __init__(self, max):\n",
        "        self.max = max\n",
        "        self.n, self.a, self.b = 0, 0, 1\n",
        "\n",
        "    def __iter__(self):\n",
        "        return self\n",
        "\n",
        "    def __next__(self):\n",
        "        if self.n < self.max:\n",
        "            r = self.b\n",
        "            self.a, self.b = self.b, self.a + self.b\n",
        "            self.n = self.n + 1\n",
        "            return r\n",
        "        raise StopIteration()\n",
        "\n",
        "# using Fib object\n",
        "for i in Fib(5):\n",
        "    print(i)"
      ],
      "execution_count": 22,
      "outputs": [
        {
          "output_type": "stream",
          "text": [
            "1\n",
            "1\n",
            "2\n",
            "3\n",
            "5\n"
          ],
          "name": "stdout"
        }
      ]
    },
    {
      "cell_type": "markdown",
      "metadata": {
        "id": "jYA_uYivwd55",
        "colab_type": "text"
      },
      "source": [
        "#### 生成器\n",
        "\n",
        "如果不懂什么是生成器是什么请看：\n",
        "- [彻底理解Python中的yield](https://www.jianshu.com/p/d09778f4e055)\n",
        "- [(译)Python关键字yield的解释(stackoverflow)](https://pyzh.readthedocs.io/en/latest/the-python-yield-keyword-explained.html)\n",
        "\n",
        "用yield关键字可以实现与迭代器类似的效果，生成器的好处是节约硬件资源。"
      ]
    },
    {
      "cell_type": "code",
      "metadata": {
        "id": "dDjR2bzhwYIY",
        "colab_type": "code",
        "outputId": "b2065335-a3c0-4bb3-e76e-9dfe10929238",
        "colab": {
          "base_uri": "https://localhost:8080/",
          "height": 0
        }
      },
      "source": [
        "def fib(max):\n",
        "    a, b = 0, 1\n",
        "    while max:\n",
        "        r = b\n",
        "        a, b = b, a+b\n",
        "        max -= 1\n",
        "        yield r\n",
        "\n",
        "# using generator\n",
        "for i in fib(5):\n",
        "    print(i)"
      ],
      "execution_count": 23,
      "outputs": [
        {
          "output_type": "stream",
          "text": [
            "1\n",
            "1\n",
            "2\n",
            "3\n",
            "5\n"
          ],
          "name": "stdout"
        }
      ]
    },
    {
      "cell_type": "markdown",
      "metadata": {
        "id": "9e-8CK7C1m2H",
        "colab_type": "text"
      },
      "source": [
        "## 4. if 判断\n",
        "\n",
        "### 4.1 if 判断\n",
        "\n",
        "#### 基本形式\n",
        "\n",
        "```python\n",
        "if condition:\n",
        "    expressions\n",
        "\n",
        "if(condition):\n",
        "    expressions\n",
        "```\n",
        "\n",
        "if语句中的condition与while类似，不做赘述。\n",
        "\n",
        "if的condition有个骚操作，就是判断语句可以连着用，比如：\n",
        "\n",
        "```python\n",
        "if x<y<z:\n",
        "    expressions\n",
        "```\n",
        "\n",
        "就相当于\n",
        "\n",
        "```python\n",
        "if x<y and y<z: # 这里的and是布尔值的与运算\n",
        "    expressions\n",
        "```\n",
        "\n",
        "与if并列的位置还可以加elif和else，但它俩必须在有if的前提下用，其中，elif后要加condition，else不用加。\n",
        "\n",
        "### 4.2 if else 判断\n",
        "\n",
        "#### 基本形式\n",
        "\n",
        "```python\n",
        "if condition:\n",
        "    true_expressions\n",
        "else:\n",
        "    false_expressions\n",
        "```\n",
        "\n",
        "先判断条件condition，如果为True就执行true_expressions,否则执行false_expressions。\n",
        "\n",
        "#### 三目操作符\n",
        "\n",
        "```python\n",
        "var = var1 if condition else var2\n",
        "```\n",
        "\n",
        "如果condition为True就把var1赋值给var，否则把var2赋值给var。\n"
      ]
    },
    {
      "cell_type": "code",
      "metadata": {
        "id": "ThQzoI9HxPc_",
        "colab_type": "code",
        "outputId": "5984fdab-4db5-4e6b-eecd-f352b11f55a0",
        "colab": {
          "base_uri": "https://localhost:8080/",
          "height": 34
        }
      },
      "source": [
        "worked = True\n",
        "result = 'done' if worked else 'not yet'\n",
        "print(result)"
      ],
      "execution_count": 24,
      "outputs": [
        {
          "output_type": "stream",
          "text": [
            "done\n"
          ],
          "name": "stdout"
        }
      ]
    },
    {
      "cell_type": "markdown",
      "metadata": {
        "id": "enoC2pls6CJd",
        "colab_type": "text"
      },
      "source": [
        "### 4.3 if elif else 判断\n",
        "\n",
        "#### 基本形式\n",
        "\n",
        "```python\n",
        "if condition1:\n",
        "    true1_expressions\n",
        "elif condition2:\n",
        "    true2_expressions\n",
        "elif condtion3:\n",
        "    true3_expressions\n",
        "elif ...\n",
        "    ...\n",
        "else:\n",
        "    else_expressions\n",
        "```\n",
        "\n",
        "先判断condition1，若为True则执行true1_expressions，否则判断condition2，若True则执行true2_expressions，以此类推，如果所有if和elif的condition都为False则执行else_expressions。\n",
        "\n",
        "## 5. 定义功能（函数）\n",
        "\n",
        "### 5.1 def 函数\n",
        "\n",
        "如果某个功能在程序中重复了很多次，那么我们可以把这个功能打包为一个函数，每次用到这个功能只需要调用这个函数，而不用重新写这些类似的代码。这样既节省时间，又能提高代码的可读性。\n",
        "\n",
        "#### 基本形式\n",
        "\n",
        "```python\n",
        "def function_name(parameters):\n",
        "    expressions\n",
        "```\n",
        "\n",
        "funcition_name是自己定的函数名，定义好函数后通过使用function_name()来调用这个函数。\n",
        "\n",
        "parameters可以是0个、1个或多个，是函数的传入参数，括号中定义的参数名只在函数定义内部的expressions中能用。如果函数需要输出某个量，就在expressions里用return注明输出量：\n",
        "\n",
        "```python\n",
        "def function_name(parameters):\n",
        "    expressions\n",
        "    return output\n",
        "```\n",
        "\n"
      ]
    },
    {
      "cell_type": "markdown",
      "metadata": {
        "id": "ZGSmBjlSHHSo",
        "colab_type": "text"
      },
      "source": [
        "### 5.2 函数参数\n",
        "\n",
        "有时函数需要输入量，在定义函数时就要给这些输入量留好位置，以在expressions中传入输入的参数。刚才已经提到，这个参数的位置就在括号内，自定义好参数的名字后，在expressions中用这些参数名就能使用输入量了。\n",
        "\n",
        "比如定义一个把两个数相加并输出和的函数："
      ]
    },
    {
      "cell_type": "code",
      "metadata": {
        "id": "QahTG2Z9FpdT",
        "colab_type": "code",
        "outputId": "3c07a462-ad64-4813-c7ea-6920f8ebe20c",
        "colab": {
          "base_uri": "https://localhost:8080/",
          "height": 0
        }
      },
      "source": [
        "def add(a, b):\n",
        "    c = a + b\n",
        "    return c\n",
        "\n",
        "sum = add(1, 2)\n",
        "print(sum)"
      ],
      "execution_count": 25,
      "outputs": [
        {
          "output_type": "stream",
          "text": [
            "3\n"
          ],
          "name": "stdout"
        }
      ]
    },
    {
      "cell_type": "markdown",
      "metadata": {
        "id": "HHNfuO4gJN9J",
        "colab_type": "text"
      },
      "source": [
        "### 5.3 函数默认参数\n",
        "\n",
        "有些函数的参数在大部分情况下是相同的，为了避免重复传入相同参数，我们可以为参数设定一个默认值，在调用函数时如果没给这个参数，计算时就传入默认的参数值。\n",
        "\n",
        "#### 基本形式\n",
        "\n",
        "```python\n",
        "def function_name(para_1,...,para_n=defau_n,..., para_m=defau_m):\n",
        "    expressions\n",
        "```\n",
        "\n",
        "还是以窝窝头价格为例："
      ]
    },
    {
      "cell_type": "code",
      "metadata": {
        "id": "s_lb_UGwIoTt",
        "colab_type": "code",
        "outputId": "575eeacd-d1e1-49db-ddbf-d0f5da40b93a",
        "colab": {
          "base_uri": "https://localhost:8080/",
          "height": 0
        }
      },
      "source": [
        "def how_much(quantity, price=0.25):\n",
        "    total_price = quantity * price\n",
        "    return total_price\n",
        "\n",
        "print(f'默认价格下，4个窝窝头的总价为{how_much(4)}元。')\n",
        "print(f'默认价格下，8个窝窝头的总价为{how_much(8)}元。')\n",
        "print(f'价格翻倍后，4个窝窝头的总价为{how_much(4, price=0.5)}元。')"
      ],
      "execution_count": 26,
      "outputs": [
        {
          "output_type": "stream",
          "text": [
            "默认价格下，4个窝窝头的总价为1.0元。\n",
            "默认价格下，8个窝窝头的总价为2.0元。\n",
            "价格翻倍后，4个窝窝头的总价为2.0元。\n"
          ],
          "name": "stdout"
        }
      ]
    },
    {
      "cell_type": "markdown",
      "metadata": {
        "id": "6StACnBoMCr_",
        "colab_type": "text"
      },
      "source": [
        "#### 自调用\n",
        "\n",
        "```python\n",
        "if __name__ == '__main__':\n",
        "    #code_here\n",
        "```\n",
        "\n",
        "有时我们会把一些函数放在另一个.py文件里，主程序用到其中的函数时单独调用。\n",
        "\n",
        "因为运行主程序时我们不会直接打开这个存放函数的“仓库”，所以可以在这个.py文件里写个自调用语句用于测试“仓库”里放着的各个函数好不好用。这个if语句下的程序只有在直接打开“仓库”的时候才会执行。\n",
        "\n",
        "#### 可变参数\n",
        "\n",
        "当函数需要传入随机数量的参数时，需要在这个参数名前**加个星号**，显然，这个可变参数**不能**定义在特定参数和默认参数之前。函数会将属于可变参数的几个输入值合为一个tuple，以在expressions中访问处理。\n",
        "\n",
        "假设我们要计算购物车里所有商品的总价，商品的数量种类不一定，购物车大小也就不一定，这时我们就需要在“计算总价”函数里加一个for循环并传入各个商品价格信息:"
      ]
    },
    {
      "cell_type": "code",
      "metadata": {
        "id": "PYaTSiH5LQOA",
        "colab_type": "code",
        "outputId": "280f094c-a94f-4ff5-d6f8-559cdcebb093",
        "colab": {
          "base_uri": "https://localhost:8080/",
          "height": 0
        }
      },
      "source": [
        "def total_price(*products):\n",
        "    price = 0\n",
        "    for i in products:\n",
        "        price += i\n",
        "    return price\n",
        "\n",
        "final_price = total_price(0.25, 1, 2, 2) # 输入购物车里各个商品的价格\n",
        "print(final_price)"
      ],
      "execution_count": 27,
      "outputs": [
        {
          "output_type": "stream",
          "text": [
            "5.25\n"
          ],
          "name": "stdout"
        }
      ]
    },
    {
      "cell_type": "markdown",
      "metadata": {
        "id": "ykbFHmzwVUK3",
        "colab_type": "text"
      },
      "source": [
        "#### 关键字参数\n",
        "\n",
        "这个参数要放在最后，在函数中被传入的参数会被封装为字典（dict）。"
      ]
    },
    {
      "cell_type": "code",
      "metadata": {
        "id": "Ixh2iIXgZP7I",
        "colab_type": "code",
        "outputId": "3bc8b310-fc48-40cd-9828-58aa77767a70",
        "colab": {
          "base_uri": "https://localhost:8080/",
          "height": 0
        }
      },
      "source": [
        "def test_func(*args, **kw):\n",
        "    print(f'args:{args}')\n",
        "    print(f'kw:{kw}')\n",
        "    total_price = kw['price'] * kw['sum']\n",
        "    print(f'{kw[\"sum\"]}个{kw[\"name\"]}一共{total_price}块钱。')\n",
        "\n",
        "test_func(666, 2333, 'Hello World', name='窝窝头', price=0.25, sum=4)"
      ],
      "execution_count": 28,
      "outputs": [
        {
          "output_type": "stream",
          "text": [
            "args:(666, 2333, 'Hello World')\n",
            "kw:{'name': '窝窝头', 'price': 0.25, 'sum': 4}\n",
            "4个窝窝头一共1.0块钱。\n"
          ],
          "name": "stdout"
        }
      ]
    },
    {
      "cell_type": "markdown",
      "metadata": {
        "id": "KD6lT6jerdgc",
        "colab_type": "text"
      },
      "source": [
        "## 6. 全局变量和局部变量\n",
        "\n",
        "[**全局变量**](https://zh.wikipedia.org/wiki/%E5%85%A8%E5%B1%80%E5%8F%98%E9%87%8F)和[**局部变量**](https://zh.wikipedia.org/wiki/%E5%B1%80%E9%83%A8%E5%8F%98%E9%87%8F)的定义：\n",
        "\n",
        "- 简单地说，**全局变量**是在代码所有位置都能访问（获取值或修改值）的变量\n",
        "- 而**局部变量**只能在有限位置进行访问，本文中的有限位置显然是函数内部，也就是说这种在函数expressions中创建的变量只能在expressions中活动，出了这个函数就“没人认识”。\n",
        "\n",
        "这时就出现一个矛盾：在定义函数之前创建的**全局变量**在函数内部进行修改（赋值）时所用的语句和在函数内部创建**局部变量**时所用的语句格式一样，程序在执行时如何分辨这种赋值行为的作用对象呢？\n",
        "\n",
        "答案是要看你有没有在函数内部进行声明。如果没有声明，函数内的被赋值的量就是**局部变量**。比如在下面这个例子中，定义函数func()之前就有个变量a，这个变量是**全局变量**。在函数内又出现了变量a,没有人跟函数说这个函数内被赋值1又加1的a是**全局变量**，那函数就默认它是个和之前定义的a重名的另一个a。于是可以看到两次print虽然都打印了a值，两次print出的a值却不一样。"
      ]
    },
    {
      "cell_type": "code",
      "metadata": {
        "id": "k2_df-9x57oW",
        "colab_type": "code",
        "outputId": "e27217ea-7331-47fa-90ad-bc2933ea5ee7",
        "colab": {
          "base_uri": "https://localhost:8080/",
          "height": 52
        }
      },
      "source": [
        "a = 1\n",
        "\n",
        "def func():\n",
        "    b = 2\n",
        "    a = b\n",
        "    print(f'内部变量a:{a}')\n",
        "\n",
        "func()\n",
        "print(f'全局变量a:{a}')"
      ],
      "execution_count": 29,
      "outputs": [
        {
          "output_type": "stream",
          "text": [
            "内部变量a:2\n",
            "全局变量a:1\n"
          ],
          "name": "stdout"
        }
      ]
    },
    {
      "cell_type": "markdown",
      "metadata": {
        "id": "Ng72ntHb_LX_",
        "colab_type": "text"
      },
      "source": [
        "原则上函数的**内部变量**不应该与**全局变量**重名，就算出现重名的情况程序会把函数内被赋值的变量视作内部变量（像上面演示的一样），如果想在函数内部为外部变量赋值，必须先声明该变量为**全局变量**。\n",
        "\n",
        "如何声明呢？用global："
      ]
    },
    {
      "cell_type": "code",
      "metadata": {
        "id": "O0eZIPJv_CBt",
        "colab_type": "code",
        "outputId": "23f7fa09-3973-4c90-a076-1c117184f18b",
        "colab": {
          "base_uri": "https://localhost:8080/",
          "height": 34
        }
      },
      "source": [
        "A = 1\n",
        "\n",
        "def func():\n",
        "    global A\n",
        "    b = 2\n",
        "    A = b\n",
        "\n",
        "func()\n",
        "print(f'全局变量A:{A}')"
      ],
      "execution_count": 30,
      "outputs": [
        {
          "output_type": "stream",
          "text": [
            "全局变量A:2\n"
          ],
          "name": "stdout"
        }
      ]
    },
    {
      "cell_type": "markdown",
      "metadata": {
        "id": "tEnizk9UtEmp",
        "colab_type": "text"
      },
      "source": [
        "## 7. 模块\n",
        "\n",
        "### 7.1 模块的安装和使用\n",
        "\n",
        "Python里的模块就是存放着大量函数的“工具箱”，这些函数就像是各式各样的工具，不用的时候就留在工具箱里，用的时候把箱子取出来或从箱子里把要用的工具拿出来。\n",
        "\n",
        "一般用到啥拿啥就行了，现实中你也不会在剪指甲时拿一个修车才用得到的大扳手放在面前。\n",
        "\n",
        "扯远了。可以说丰富的模块资源是Python“横行”编程语言界的重要原因之一。很多算法不用自己写，因为已经有大佬写好了现成的并封装在模块（库）里，直接用就行。\n",
        "\n",
        "![](https://imgs.xkcd.com/comics/python.png)\n",
        "\n",
        "【[图片来源：xkcd.com](https://xkcd.com/353/)】\n",
        "\n",
        "这也是为什么我要把模块比作工具箱，因为大佬们打造的工具箱实在太全面太完美了👏。当你想实现一个功能时直接在网上搜这个功能在python如何实现，你会发现网上不仅有现成的工具箱，而且往往同一个功能有好几种工具箱在等着你挑。\n",
        "\n",
        "#### 安装\n",
        "\n",
        "不同的模块安装方式可能不同，但大部分[pip（Python包管理工具）](https://baike.baidu.com/item/pip/20435212)中的模块都可以在windows的cmd或Powershell，或是Mac OS/Linux的Terminal里用“pip install [包的名字]”这样的指令安装。\n",
        "\n",
        "![](https://i.loli.net/2020/01/10/GW9jyBU2JCanqo6.png)\n",
        "\n",
        "需要注意的是，Linux系统或Mac OS X系统中往往同时带着Python2和Python3，这时往python3的环境中安装模块就得用“pip3 install [包的名字]”这样的指令。\n",
        "\n",
        "#### 使用\n",
        "\n",
        "正如前面所说，在程序里导入一个模块相当于把一个工具箱搬到工作台上，代码是“import+工具箱（模块）的名字”。"
      ]
    },
    {
      "cell_type": "code",
      "metadata": {
        "id": "Db9BMyvx8N6X",
        "colab_type": "code",
        "outputId": "40bf5666-d1ca-43bc-84b2-9e87de90d2f1",
        "colab": {
          "base_uri": "https://localhost:8080/",
          "height": 52
        }
      },
      "source": [
        "import math\n",
        "\n",
        "a = math.pi\n",
        "print(a)\n",
        "print(math.sin(a/6))"
      ],
      "execution_count": 31,
      "outputs": [
        {
          "output_type": "stream",
          "text": [
            "3.141592653589793\n",
            "0.49999999999999994\n"
          ],
          "name": "stdout"
        }
      ]
    },
    {
      "cell_type": "markdown",
      "metadata": {
        "id": "yWjpVu6v8rdf",
        "colab_type": "text"
      },
      "source": [
        "用这种方法导入时，使用模块中的变量和函数要加上模块名，上面的math就是模块名，用到模块中的pi时要写成math.pi\n",
        "\n",
        "有时为了方便操作可以给模块定一个简称，比如\n",
        "\n",
        "```python\n",
        "import tensorflow as tf\n",
        "import numpy as np\n",
        "```\n",
        "\n",
        "这里的tf和np就分别是tensorflow和numpy的简称，用的时候就直接写简称而不用写模块名，比如\n",
        "\n",
        "```python\n",
        "np.array([1, 2, 3])\n",
        "```\n",
        "\n",
        "如果只用到了一两个函数或变量就没必要把整个工具箱都搬到工作台上，这时可以用“from module import some_function”的形式。"
      ]
    },
    {
      "cell_type": "code",
      "metadata": {
        "id": "gPk9x0wJ8bGH",
        "colab_type": "code",
        "outputId": "11e2bd1b-1924-4ecb-9b52-179adcb66f6a",
        "colab": {
          "base_uri": "https://localhost:8080/",
          "height": 52
        }
      },
      "source": [
        "from math import pi, sin\n",
        "\n",
        "a = pi\n",
        "print(a)\n",
        "print(sin(a/6))"
      ],
      "execution_count": 32,
      "outputs": [
        {
          "output_type": "stream",
          "text": [
            "3.141592653589793\n",
            "0.49999999999999994\n"
          ],
          "name": "stdout"
        }
      ]
    },
    {
      "cell_type": "markdown",
      "metadata": {
        "id": "5pu9N_QT_WJq",
        "colab_type": "text"
      },
      "source": [
        "如上所示，这样导入模块后使用函数和变量时就不用写模块名了。\n",
        "\n",
        "### 7.2 自建模块\n",
        "\n",
        "除了用python自带的和第三方的模块外，我们还可以自建模块。\n",
        "\n",
        "最简单的就是把自建模块（一个.py文件）放在主程序所在的文件夹里。\n",
        "\n",
        "当程序在运行import ***时它会按一定顺序在几个提前设定好的路径找你想要的模块（也就是之前提到的工具箱所在的位置）。寻找模块时的路径基本上包括：\n",
        "\n",
        "- 当前文件夹路径\n",
        "- PYTHONPATH环境变量所对应文件路径\n",
        "- Python安装的标准链接库等文件夹路径\n",
        "- PTH文件列出的文件夹路径\n",
        "\n",
        "本段参考自👉[CSDN | python的模块查找路径](https://blog.csdn.net/colourful_sky/article/details/79672279)\n",
        "\n",
        "你可以用下面这条指令查看当前程序的所有模块来源路径："
      ]
    },
    {
      "cell_type": "code",
      "metadata": {
        "id": "1fBC3RSiKauM",
        "colab_type": "code",
        "outputId": "f71dff30-e26a-469b-c711-ed796b0b5a88",
        "colab": {
          "base_uri": "https://localhost:8080/",
          "height": 0
        }
      },
      "source": [
        "import sys\n",
        "print(sys.path) # 运行环境不同，这里print出的路径显然也不尽相同"
      ],
      "execution_count": 33,
      "outputs": [
        {
          "output_type": "stream",
          "text": [
            "['', '/env/python', '/usr/lib/python36.zip', '/usr/lib/python3.6', '/usr/lib/python3.6/lib-dynload', '/usr/local/lib/python3.6/dist-packages', '/usr/lib/python3/dist-packages', '/usr/local/lib/python3.6/dist-packages/IPython/extensions', '/root/.ipython']\n"
          ],
          "name": "stdout"
        }
      ]
    },
    {
      "cell_type": "markdown",
      "metadata": {
        "id": "q5QXa1pnNRQb",
        "colab_type": "text"
      },
      "source": [
        "自建模块的导入方式与第三方模块一样，模块名就是自建模块的文件名（不用写文件名后缀.py）"
      ]
    },
    {
      "cell_type": "markdown",
      "metadata": {
        "id": "C1oJabLOKVlu",
        "colab_type": "text"
      },
      "source": [
        "## 8. 文件读取\n",
        "\n",
        "### 8.1 读写文件（一）\n",
        "\n",
        "#### \\n 换行命令\n",
        "\n",
        "没啥好说的，就是在字符串里负责换行。"
      ]
    },
    {
      "cell_type": "code",
      "metadata": {
        "id": "XRdPnPIRADpl",
        "colab_type": "code",
        "outputId": "db48b029-f1d9-45e2-87f8-14ea7acfd74c",
        "colab": {
          "base_uri": "https://localhost:8080/",
          "height": 87
        }
      },
      "source": [
        "print('没换行符\\\\n的：一giao我里giaogiao')\n",
        "print('带换行符\\\\n的：一giao\\n我里\\ngiaogiao')"
      ],
      "execution_count": 34,
      "outputs": [
        {
          "output_type": "stream",
          "text": [
            "没换行符\\n的：一giao我里giaogiao\n",
            "带换行符\\n的：一giao\n",
            "我里\n",
            "giaogiao\n"
          ],
          "name": "stdout"
        }
      ]
    },
    {
      "cell_type": "markdown",
      "metadata": {
        "id": "p_wUp2klJoNW",
        "colab_type": "text"
      },
      "source": [
        "#### 文件读写\n",
        "\n",
        "形式1：\n",
        "\n",
        "```python\n",
        "my_file=open('my file.txt','w') # 用法: open('文件名','形式'), 其中形式有'w':write;'r':read.\n",
        "my_file.write(text) # 该语句会写入先前定义好的 text\n",
        "my_file.close() # 关闭文件\n",
        "```\n",
        "\n",
        "形式2（建议用这种，可以防止忘记关闭文件）：\n",
        "\n",
        "```python\n",
        "# 与形式1中的代码等效\n",
        "with open('my file.txt', 'w') as my_file:\n",
        "    my_file.write(text)\n",
        "```\n",
        "\n",
        "#### \\t tab对齐\n",
        "\n",
        "也没啥好说的，能实现对齐功能，常用于简单的制表：\n"
      ]
    },
    {
      "cell_type": "code",
      "metadata": {
        "id": "cdRfQA55JcHV",
        "colab_type": "code",
        "outputId": "86603f8c-40f0-4d94-8352-6687b4fa3a82",
        "colab": {
          "base_uri": "https://localhost:8080/",
          "height": 0
        }
      },
      "source": [
        "print('666\\t这就是你分手的借口，\\n6\\t如果让你重新来过，\\n2333\\t你会不会爱我，\\n7\\t爱情让人拥有快乐，\\nxxx\\t也会带来折磨，\\nohhhh\\t曾经和你一起走过\\n\\t传说中的爱河，\\n\\t已经被我泪水淹没，\\n\\t变成痛苦的爱河')"
      ],
      "execution_count": 35,
      "outputs": [
        {
          "output_type": "stream",
          "text": [
            "666\t这就是你分手的借口，\n",
            "6\t如果让你重新来过，\n",
            "2333\t你会不会爱我，\n",
            "7\t爱情让人拥有快乐，\n",
            "xxx\t也会带来折磨，\n",
            "ohhhh\t曾经和你一起走过\n",
            "\t传说中的爱河，\n",
            "\t已经被我泪水淹没，\n",
            "\t变成痛苦的爱河\n"
          ],
          "name": "stdout"
        }
      ]
    },
    {
      "cell_type": "markdown",
      "metadata": {
        "id": "TeilG6A7Moi2",
        "colab_type": "text"
      },
      "source": [
        "### 8.2 读写文件（二）\n",
        "\n",
        "（这一节在jupyter notebook中可能不太方便实操，建议单独建个.py文件试试）\n",
        "\n",
        "先在保存.py文件的文件夹里创建一个.txt文档，里面随便写点东西然后保存。\n",
        "\n",
        "![ ](https://i.loli.net/2020/01/11/lVohWsn46rgHKmy.png)\n",
        "\n",
        "![ ](https://i.loli.net/2020/01/11/5gSjuhZQqMyXWtf.png)\n",
        "\n",
        "#### 为文件加内容\n",
        "\n",
        "先创建要增加的内容\n",
        "\n",
        "```python\n",
        "append_text = '智慧！\\n智慧！\\n智慧！'\n",
        "```\n",
        "\n",
        "在以“增加”的模式打开，并写入文件，要注意编码模式，中文常用utf-8,要在打开文件时注明，不然会出现乱码。\n",
        "\n",
        "```python\n",
        "with open('test.txt', 'a', encoding='utf-8') as f:\n",
        "    f.write(append_text)\n",
        "```\n",
        "\n",
        "执行该.py文件，再查看test.txt时会发现变成了：\n",
        "\n",
        "![ ](https://i.loli.net/2020/01/11/vOncGSsa1zw7FyK.png)\n",
        "\n",
        "值得注意的是，新增的文本是从最后一行的末尾开始加的，而不是先换行再加。\n",
        "\n",
        "三种常用读写模式：\n",
        "\n",
        "- a: append增填内容\n",
        "- w: write 写内容（默认会完全覆盖原文件）\n",
        "- r: read 读内容\n",
        "\n",
        "### 8.3 读写文件（三）\n",
        "\n",
        "修改刚才那个.py文件，使其变为读取内容的程序：\n",
        "\n",
        "```python\n",
        "with open('test.txt', 'r', encoding='utf-8') as f:\n",
        "    text = f.read()\n",
        "\n",
        "print(text)\n",
        "```\n",
        "\n",
        "打印出的text就是文件中的内容：\n",
        "\n",
        "![ ](https://i.loli.net/2020/01/11/rkoH8sIedj4LgPz.png)\n",
        "\n",
        "文件读取中还有两个重要的方法是readline()和readlines()，readline()一次读一行，重复调用时会读下一行，readlines()读取整个文件，把文件中的所有内容整理为一个list，其中每一行都是list中的元素。\n",
        "\n",
        "使用linecache模块可以直接获取文件的指定行：\n",
        "\n",
        "![ ](https://i.loli.net/2020/01/11/QtxS6vYUK2Zhuzk.png)\n",
        "\n",
        "其他linecache模块的函数请参考：[linecache --- 随机读写文本行](https://docs.python.org/zh-cn/3/library/linecache.html)\n",
        "\n",
        "## 9. class 类\n",
        "\n",
        "[面向对象编程（OOP）](https://baike.baidu.com/item/%E9%9D%A2%E5%90%91%E5%AF%B9%E8%B1%A1%E7%A8%8B%E5%BA%8F%E8%AE%BE%E8%AE%A1/24792?fromtitle=%E9%9D%A2%E5%90%91%E5%AF%B9%E8%B1%A1%E7%BC%96%E7%A8%8B&fromid=254878)是一种常用的计算机编程架构，基本原则是程序由单个能够起到子程序作用的单元或对象组合而成。在python中，用class来创建类以实现OOP。\n",
        "\n",
        "如果之前没接触过OOP，建议先搞清什么是OOP再往下看👉[知乎 | 什么是面向对象编程思想？](https://www.zhihu.com/question/31021366)\n",
        "\n",
        "### 9.1 class 类\n",
        "\n",
        "创建类时,括号前为类的名称，括号中为要继承的父类，不写父类也可以，这时父类默认为object。\n",
        "\n",
        "```py\n",
        "class My_class(object):\n",
        "    expressions\n",
        "```\n",
        "\n",
        "class中定义的函数一般称为方法，与一般函数不同的是方法第一个参数必须为self，指类本身。在定义各种方法前可以先定好该类的属性，比如一些常量和说明性文字。\n",
        "\n",
        "生成类之后，用类的名称创建类型为该类的变量。用“[类名].[方法名]”调用该类的方法。\n"
      ]
    },
    {
      "cell_type": "code",
      "metadata": {
        "id": "HkonCWEzL5lk",
        "colab_type": "code",
        "outputId": "eaf3dfeb-7838-45bb-bffd-9edb2004adb8",
        "colab": {
          "base_uri": "https://localhost:8080/",
          "height": 0
        }
      },
      "source": [
        "class My_class:\n",
        "    name = 'liuqidi的实验用类'\n",
        "    some_num = 2333\n",
        "    def special_print(self):\n",
        "        print('一giao我里giaogiao')\n",
        "\n",
        "new_ob = My_class()\n",
        "print(f'new_ob的父类为{new_ob.__class__.__bases__}')\n",
        "print(f'new_ob的常量为{new_ob.some_num}')\n",
        "print(f'最后是new_ob的方法special_print(self)')\n",
        "new_ob.special_print()"
      ],
      "execution_count": 36,
      "outputs": [
        {
          "output_type": "stream",
          "text": [
            "new_ob的父类为(<class 'object'>,)\n",
            "new_ob的常量为2333\n",
            "最后是new_ob的方法special_print(self)\n",
            "一giao我里giaogiao\n"
          ],
          "name": "stdout"
        }
      ]
    },
    {
      "cell_type": "markdown",
      "metadata": {
        "id": "USkxEE3rlYY-",
        "colab_type": "text"
      },
      "source": [
        "### 9.2 class 类 init 功能\n",
        "\n",
        "\\_\\_init\\_\\_(self,...)是类用来初始化变量的方法，init为initial的缩写。注意两边各两个下划线不能省略，所有这种形式的变量或函数都是python内部的。\n",
        "\n",
        "创建这种带有初始化变量的对象后，生成这种类的变量时要传入参数作为这个变量内部的量。\n",
        "\n",
        "你可以把**面向对象编程（OPP）**理解为用模子生产东西，定义类的过程相当于做模子的过程，用定义好的对象生成变量的过程相当于用模子生产产品的过程。在不修改传入参数的情况下，用同一个模子做出来的东西显然是一样的。即使参数不同生产出来的东西也一定有某种共性，因为他们是同一类，有相同的内部方法和属性。\n",
        "\n",
        "就好比窝窝头和馒头虽然都是吃的，但原料不同工艺不同导致价格也不同。（对不起，我现在好饿啊，实在想不出别的好点的例子🙃）"
      ]
    },
    {
      "cell_type": "code",
      "metadata": {
        "id": "m9s0oC8fhghL",
        "colab_type": "code",
        "outputId": "b7608237-3b62-449a-b7a5-09014952dec5",
        "colab": {
          "base_uri": "https://localhost:8080/",
          "height": 0
        }
      },
      "source": [
        "class food(object):\n",
        "\n",
        "    def __init__(self, name, fermentation, material, quantity):\n",
        "        self.name = name\n",
        "        self.fermentation = fermentation\n",
        "        self.material = material\n",
        "        self.quantity = quantity\n",
        "    \n",
        "    def price(self):\n",
        "        if self.fermentation:\n",
        "            f = 2\n",
        "        else:\n",
        "            f = 1\n",
        "        if self.material=='flour':\n",
        "            row_price = 1.2\n",
        "        else:\n",
        "            row_price = 1\n",
        "        print(f'{self.quantity}个{self.name}的总价为{f*row_price*self.quantity}块钱')\n",
        "\n",
        "WoWoTou = food('窝窝头', False, 'maize_meal', 4)\n",
        "ManTou = food('馒头', True, 'flour', 2)\n",
        "\n",
        "WoWoTou.price()\n",
        "ManTou.price()"
      ],
      "execution_count": 37,
      "outputs": [
        {
          "output_type": "stream",
          "text": [
            "4个窝窝头的总价为4块钱\n",
            "2个馒头的总价为4.8块钱\n"
          ],
          "name": "stdout"
        }
      ]
    },
    {
      "cell_type": "markdown",
      "metadata": {
        "id": "PR_08xxkup2A",
        "colab_type": "text"
      },
      "source": [
        "以上是Python的class的基本玩法，进阶玩法推荐👉[廖雪峰的官方网站 | Python教程 - 面向对象编程](https://www.liaoxuefeng.com/wiki/1016959663602400/1017495723838528)和[廖雪峰的官方网站 | Python教程 - 面向对象高级编程](https://www.liaoxuefeng.com/wiki/1016959663602400/1017501628721248)\n",
        "\n",
        "## 10. input 输入\n",
        "\n",
        "python的input()用于以命令行形式运行程序时手动往程序输入值。\n",
        "\n",
        "输入值后按“回车键”完成输入。"
      ]
    },
    {
      "cell_type": "code",
      "metadata": {
        "id": "UhwxOjWnulBy",
        "colab_type": "code",
        "outputId": "8eb56c95-eb2b-4840-ea01-7283c7cc5f7a",
        "colab": {
          "base_uri": "https://localhost:8080/",
          "height": 52
        }
      },
      "source": [
        "a_input=input('please input a number:')\n",
        "print('this number is:',a_input)"
      ],
      "execution_count": 38,
      "outputs": [
        {
          "output_type": "stream",
          "text": [
            "please input a number:1\n",
            "this number is: 1\n"
          ],
          "name": "stdout"
        }
      ]
    },
    {
      "cell_type": "markdown",
      "metadata": {
        "id": "1Wzp_qaoxLiA",
        "colab_type": "text"
      },
      "source": [
        "不管手动输入的是是不是数字，input()返回的都是字符串变量，如果想进行计算必须先转换为整型或浮点型变量。"
      ]
    },
    {
      "cell_type": "code",
      "metadata": {
        "id": "8syObzzvw7Og",
        "colab_type": "code",
        "outputId": "55f57d87-927a-4954-e43b-3429d4ac3179",
        "colab": {
          "base_uri": "https://localhost:8080/",
          "height": 52
        }
      },
      "source": [
        "b_input=input('please input a number:')\n",
        "c = float(b_input) + 1\n",
        "print(c)"
      ],
      "execution_count": 39,
      "outputs": [
        {
          "output_type": "stream",
          "text": [
            "please input a number:1\n",
            "2.0\n"
          ],
          "name": "stdout"
        }
      ]
    },
    {
      "cell_type": "markdown",
      "metadata": {
        "id": "c1dG4R-Rx0rW",
        "colab_type": "text"
      },
      "source": [
        "input()的括号里可以放一个字符串，用来提醒使用者输入。"
      ]
    },
    {
      "cell_type": "code",
      "metadata": {
        "id": "TqCtPnHoxwdf",
        "colab_type": "code",
        "outputId": "b08b5974-dde2-45bc-c028-fa3b57620df9",
        "colab": {
          "base_uri": "https://localhost:8080/",
          "height": 52
        }
      },
      "source": [
        "ans = input('我爱你！MUA!那...你爱我吗？')\n",
        "if ans=='不爱':\n",
        "    print('NMSL')\n",
        "else:\n",
        "    print('嗯')"
      ],
      "execution_count": 40,
      "outputs": [
        {
          "output_type": "stream",
          "text": [
            "我爱你！MUA!那...你爱我吗？不爱\n",
            "NMSL\n"
          ],
          "name": "stdout"
        }
      ]
    },
    {
      "cell_type": "markdown",
      "metadata": {
        "id": "kJzZlsfjYI_y",
        "colab_type": "text"
      },
      "source": [
        "## 11. 元组, 列表, 字典\n",
        "\n",
        "### 11.1 元组 列表\n",
        "\n",
        "- 元组tuple是一串有序的元素，用小括号表达，用逗号隔开。\n",
        "- 列表list也是一串有序的元素，用中括号表达，用逗号隔开。\n",
        "\n",
        "两者都能被迭代、输出、增添元素和定位取值。"
      ]
    },
    {
      "cell_type": "code",
      "metadata": {
        "id": "zcUBGzrfyqHL",
        "colab_type": "code",
        "outputId": "86d03ee7-737a-48ec-f187-4d99ecb7947e",
        "colab": {
          "base_uri": "https://localhost:8080/",
          "height": 227
        }
      },
      "source": [
        "a_tuple = (12, 3, 5, 15 , 6)\n",
        "a_list = [12, 3, 67, 7, 82]\n",
        "\n",
        "print('a_tuple中的元素：')\n",
        "for index in range(len(a_tuple)):\n",
        "    print(\"index = \", index, \", number in tuple = \", a_tuple[index])\n",
        "\n",
        "print('a_list中的元素：')\n",
        "for index in range(len(a_list)):\n",
        "    print(\"index = \", index, \", number in list = \", a_list[index])"
      ],
      "execution_count": 41,
      "outputs": [
        {
          "output_type": "stream",
          "text": [
            "a_tuple中的元素：\n",
            "index =  0 , number in tuple =  12\n",
            "index =  1 , number in tuple =  3\n",
            "index =  2 , number in tuple =  5\n",
            "index =  3 , number in tuple =  15\n",
            "index =  4 , number in tuple =  6\n",
            "a_list中的元素：\n",
            "index =  0 , number in list =  12\n",
            "index =  1 , number in list =  3\n",
            "index =  2 , number in list =  67\n",
            "index =  3 , number in list =  7\n",
            "index =  4 , number in list =  82\n"
          ],
          "name": "stdout"
        }
      ]
    },
    {
      "cell_type": "markdown",
      "metadata": {
        "id": "jzDBYXh0aRkc",
        "colab_type": "text"
      },
      "source": [
        "关于两者的区别请参考👉[知乎 | Python 中列表和元组有哪些区别？](https://www.zhihu.com/question/37368039)\n",
        "\n",
        "### 11.2 list 列表\n",
        "\n",
        "#### list 添加\n",
        "\n",
        "list对象的添加方法有append(element)和insert(position, element)。"
      ]
    },
    {
      "cell_type": "code",
      "metadata": {
        "id": "rXbafFXJaNds",
        "colab_type": "code",
        "outputId": "573e8597-46f2-46ce-dc2f-c8626ee86aa4",
        "colab": {
          "base_uri": "https://localhost:8080/",
          "height": 87
        }
      },
      "source": [
        "a = [1,2,3,4,1,1,-1]\n",
        "print(f'添加前：{a}')\n",
        "a.append(0)  # 在a的最后面追加一个0\n",
        "print(f'添加后：{a}')\n",
        "\n",
        "b = [1,2,3,4,1,1,-1]\n",
        "print(f'添加前：{b}')\n",
        "b.insert(1,0) # 在位置1处添加0\n",
        "print(f'添加前：{b}')"
      ],
      "execution_count": 42,
      "outputs": [
        {
          "output_type": "stream",
          "text": [
            "添加前：[1, 2, 3, 4, 1, 1, -1]\n",
            "添加后：[1, 2, 3, 4, 1, 1, -1, 0]\n",
            "添加前：[1, 2, 3, 4, 1, 1, -1]\n",
            "添加前：[1, 0, 2, 3, 4, 1, 1, -1]\n"
          ],
          "name": "stdout"
        }
      ]
    },
    {
      "cell_type": "markdown",
      "metadata": {
        "id": "QbfqUAtSbn4d",
        "colab_type": "text"
      },
      "source": [
        "#### list 移除\n",
        "\n",
        "list对象的删除方法是remove(value)和pop(position)。remove()删除的是第一个等于括号中指定值的元素，pop()删除的是指定位置的元素。"
      ]
    },
    {
      "cell_type": "code",
      "metadata": {
        "id": "sm8_zdtTbim2",
        "colab_type": "code",
        "outputId": "35b2503d-6e92-4845-86e9-825efc9df5a6",
        "colab": {
          "base_uri": "https://localhost:8080/",
          "height": 0
        }
      },
      "source": [
        "a = [1,2,3,4,1,1,-1]\n",
        "print(f'删除前：{a}')\n",
        "a.remove(1)  # 删除a中第一个等于1的元素\n",
        "print(f'删除后：{a}')\n",
        "\n",
        "b = [1,2,3,4,1,1,-1]\n",
        "print(f'删除前：{b}')\n",
        "b.pop(1) # 把位置1处的元素删除\n",
        "print(f'删除前：{b}')"
      ],
      "execution_count": 43,
      "outputs": [
        {
          "output_type": "stream",
          "text": [
            "删除前：[1, 2, 3, 4, 1, 1, -1]\n",
            "删除后：[2, 3, 4, 1, 1, -1]\n",
            "删除前：[1, 2, 3, 4, 1, 1, -1]\n",
            "删除前：[1, 3, 4, 1, 1, -1]\n"
          ],
          "name": "stdout"
        }
      ]
    },
    {
      "cell_type": "markdown",
      "metadata": {
        "id": "HA0iPW6ydvvp",
        "colab_type": "text"
      },
      "source": [
        "#### list 索引\n",
        "\n",
        "从左往右找元素时，索引从0开始，依次加一。比如第二个元素的索引是1:"
      ]
    },
    {
      "cell_type": "code",
      "metadata": {
        "id": "blOZ2QFmdXdC",
        "colab_type": "code",
        "outputId": "d3f9812e-1949-45e8-f26e-ad3b1b082731",
        "colab": {
          "base_uri": "https://localhost:8080/",
          "height": 0
        }
      },
      "source": [
        "a = [1,2,3,4,1,1,-1]\n",
        "print(a[1])"
      ],
      "execution_count": 44,
      "outputs": [
        {
          "output_type": "stream",
          "text": [
            "2\n"
          ],
          "name": "stdout"
        }
      ]
    },
    {
      "cell_type": "markdown",
      "metadata": {
        "id": "SGJ6or31eW1H",
        "colab_type": "text"
      },
      "source": [
        "从右往左找元素时，索引从-1开始，依次减一，比如从右数第2个元素的索引为-2："
      ]
    },
    {
      "cell_type": "code",
      "metadata": {
        "id": "f1y2OvZ_eQtY",
        "colab_type": "code",
        "outputId": "4d033f73-6d13-4f8f-c5fe-a343e090cbf4",
        "colab": {
          "base_uri": "https://localhost:8080/",
          "height": 0
        }
      },
      "source": [
        "a = [1,2,3,4,1,1,-1]\n",
        "print(a[-2])"
      ],
      "execution_count": 45,
      "outputs": [
        {
          "output_type": "stream",
          "text": [
            "1\n"
          ],
          "name": "stdout"
        }
      ]
    },
    {
      "cell_type": "markdown",
      "metadata": {
        "id": "p8EHJXrJevqu",
        "colab_type": "text"
      },
      "source": [
        "#### list 切片\n",
        "\n",
        "索引中加**冒号**可表示**连续**的一些元素。这里可以把冒号理解为省略号，还要注意元素所在区间是个**前闭后开**区间，如[3:]代表3……（包含3），[:5]代表……5（不包含5），[1:3]代表1……3（包含1不包含3）。"
      ]
    },
    {
      "cell_type": "code",
      "metadata": {
        "id": "uwtszMpKepNt",
        "colab_type": "code",
        "outputId": "87d6ac03-16f1-42c0-a561-584f17ea805f",
        "colab": {
          "base_uri": "https://localhost:8080/",
          "height": 0
        }
      },
      "source": [
        "a = [1,2,3,4,1,1,-1]\n",
        "\n",
        "print(f'3……：{a[3:]}')\n",
        "print(f'……5：{a[:5]}')\n",
        "print(f'1……3:{a[1:3]}')"
      ],
      "execution_count": 46,
      "outputs": [
        {
          "output_type": "stream",
          "text": [
            "3……：[4, 1, 1, -1]\n",
            "……5：[1, 2, 3, 4, 1]\n",
            "1……3:[2, 3]\n"
          ],
          "name": "stdout"
        }
      ]
    },
    {
      "cell_type": "markdown",
      "metadata": {
        "id": "ssuvFo5EhiGo",
        "colab_type": "text"
      },
      "source": [
        "#### list 排序\n",
        "\n",
        "用list对象的sort()方法可以实现排序："
      ]
    },
    {
      "cell_type": "code",
      "metadata": {
        "id": "FmPz5RaxgVMK",
        "colab_type": "code",
        "outputId": "a89f1ada-898a-4bce-8fec-0442f8977a6a",
        "colab": {
          "base_uri": "https://localhost:8080/",
          "height": 0
        }
      },
      "source": [
        "a = [4,1,2,3,4,1,1,-1]\n",
        "a.sort() # 默认从小到大排序\n",
        "print(f'从小到大{a}')\n",
        "a.sort(reverse=True) # 从大到小排序\n",
        "print(f'从大到小{a}')"
      ],
      "execution_count": 47,
      "outputs": [
        {
          "output_type": "stream",
          "text": [
            "从小到大[-1, 1, 1, 1, 2, 3, 4, 4]\n",
            "从大到小[4, 4, 3, 2, 1, 1, 1, -1]\n"
          ],
          "name": "stdout"
        }
      ]
    },
    {
      "cell_type": "markdown",
      "metadata": {
        "id": "cCRHdZkGiON-",
        "colab_type": "text"
      },
      "source": [
        "### 11.3 多维列表\n",
        "\n",
        "机器学习中更常用的多维数组和矩阵是用numpy中的数组和矩阵对象实现的，这里讲的list的多维列表只是给一个直观的印象。\n",
        "\n",
        "之前的list介绍都是对一维列表进行处理，二维和多维是列表作为元素嵌在更高层的列表中。\n",
        "\n",
        "从多维列表中取值时索引的个数也随维度增加而增加，其实很好理解，既然维度增加是用嵌套的方法来实现的，那么找索引也自然得从外到内一层层地扒开。"
      ]
    },
    {
      "cell_type": "code",
      "metadata": {
        "id": "0uOPx5gZh-Xu",
        "colab_type": "code",
        "outputId": "ecb8c033-1550-4bdd-af6d-0ee0beb78688",
        "colab": {
          "base_uri": "https://localhost:8080/",
          "height": 52
        }
      },
      "source": [
        "a = [1,2,3,4,5] # 一行五列\n",
        "multi_dim_a = [[1,2,3],\n",
        "\t\t[2,3,4],\n",
        "\t\t[3,4,5]] # 三行三列\n",
        "\n",
        "print(a[1])\n",
        "print(multi_dim_a[0][1])"
      ],
      "execution_count": 48,
      "outputs": [
        {
          "output_type": "stream",
          "text": [
            "2\n",
            "2\n"
          ],
          "name": "stdout"
        }
      ]
    },
    {
      "cell_type": "markdown",
      "metadata": {
        "id": "9-H2OXNlkeZM",
        "colab_type": "text"
      },
      "source": [
        "### 11.4 dictionary 字典\n",
        "\n",
        "- 大括号{}用于创建字典dict对象。\n",
        "- 字典中的元素都由key和value组成,用冒号隔开，冒号前的是key.\n",
        "- 与列表和元组不同，字典中的元素是无序的。数值和字符串都能当key，甚至可以混着用但key不能重复。\n",
        "- 字典中的value可以是数值、文字或各种集合，这里的集合也可以是多维（嵌套）的那种。"
      ]
    },
    {
      "cell_type": "code",
      "metadata": {
        "id": "d2gH-wSKHbXB",
        "colab_type": "code",
        "outputId": "84e1be9f-0653-43ab-e4b3-312865d9b8d3",
        "colab": {
          "base_uri": "https://localhost:8080/",
          "height": 52
        }
      },
      "source": [
        "d_price = {'WoWoTou':0.25, 'ManTou':0.5}\n",
        "print(d_price)\n",
        "print(f'窝窝头的单价为{d_price[\"WoWoTou\"]}')"
      ],
      "execution_count": 49,
      "outputs": [
        {
          "output_type": "stream",
          "text": [
            "{'WoWoTou': 0.25, 'ManTou': 0.5}\n",
            "窝窝头的单价为0.25\n"
          ],
          "name": "stdout"
        }
      ]
    },
    {
      "cell_type": "markdown",
      "metadata": {
        "id": "KGgdCIYWNv1A",
        "colab_type": "text"
      },
      "source": [
        "## 12. 其他\n",
        "\n",
        "### 12.1 continue & break\n",
        "\n",
        "一般而言，for和while循环在指定条件下才能结束循环。\n",
        "\n",
        "如果在循环中运行到break，程序将无视循环条件直接结束循环。\n",
        "\n",
        "如果在循环中运行到continue，程序将直接跳过本次循环的余下内容，直接开始下一次循环。"
      ]
    },
    {
      "cell_type": "code",
      "metadata": {
        "id": "gkqETDCjH30w",
        "colab_type": "code",
        "outputId": "62cc678e-4a03-4db9-ec79-074e86100330",
        "colab": {
          "base_uri": "https://localhost:8080/",
          "height": 209
        }
      },
      "source": [
        "time = 9\n",
        "hair = 10\n",
        "while time<=24:\n",
        "    print(f'{time}点了，继续工作！')\n",
        "    time += 1\n",
        "    hair -= 1\n",
        "    if hair<=0:\n",
        "        print('这行太费头发，我不干了！')\n",
        "        break"
      ],
      "execution_count": 50,
      "outputs": [
        {
          "output_type": "stream",
          "text": [
            "9点了，继续工作！\n",
            "10点了，继续工作！\n",
            "11点了，继续工作！\n",
            "12点了，继续工作！\n",
            "13点了，继续工作！\n",
            "14点了，继续工作！\n",
            "15点了，继续工作！\n",
            "16点了，继续工作！\n",
            "17点了，继续工作！\n",
            "18点了，继续工作！\n",
            "这行太费头发，我不干了！\n"
          ],
          "name": "stdout"
        }
      ]
    },
    {
      "cell_type": "markdown",
      "metadata": {
        "id": "Q4mGXU19Xhem",
        "colab_type": "text"
      },
      "source": [
        "上面的while循环本应在time<=24才会结束，但是在18点时头发掉光触发了秃头break，于是循环提前结束。"
      ]
    },
    {
      "cell_type": "markdown",
      "metadata": {
        "id": "67GY7UD1YZT9",
        "colab_type": "text"
      },
      "source": [
        "### 12.2 用try句式进行错误处理\n",
        "\n",
        "#### 基本形式\n",
        "\n",
        "```py\n",
        "try:\n",
        "    expressions # 被检验的可能会出错的代码\n",
        "except Exception as e: # 将报告储存在e中\n",
        "    print(e)\n",
        "    expressions to fix problem\n",
        "else:\n",
        "    expressions when there's no error\n",
        "```"
      ]
    },
    {
      "cell_type": "markdown",
      "metadata": {
        "id": "_4AVZmoAcnr3",
        "colab_type": "text"
      },
      "source": [
        "这个句式可以用来判断文件是否存在。如果没有就在except之下用input交互决定是否新建一个，如果一开始的try没有报错，顺利地运行下来，就跳过except，直接运行else的指令。"
      ]
    },
    {
      "cell_type": "code",
      "metadata": {
        "id": "YjYPMGWjXCpf",
        "colab_type": "code",
        "outputId": "370cc09d-aad5-4bda-a896-d54f8a5901cd",
        "colab": {
          "base_uri": "https://localhost:8080/",
          "height": 52
        }
      },
      "source": [
        "try:\n",
        "    file=open('eeee.txt','r+')\n",
        "except Exception as e:\n",
        "    print(e)\n",
        "    response = input('do you want to create a new file:')\n",
        "    if response=='y':\n",
        "        file=open('eeee.txt','w')\n",
        "    else:\n",
        "        pass\n",
        "else:\n",
        "    file.write('ssss')\n",
        "    file.close()"
      ],
      "execution_count": 51,
      "outputs": [
        {
          "output_type": "stream",
          "text": [
            "[Errno 2] No such file or directory: 'eeee.txt'\n",
            "do you want to create a new file:n\n"
          ],
          "name": "stdout"
        }
      ]
    },
    {
      "cell_type": "markdown",
      "metadata": {
        "id": "8nwTQ5PmegXN",
        "colab_type": "text"
      },
      "source": [
        "### 12.3 zip lambda map\n",
        "\n",
        "zip()函数可将括号中的集合合并为一个zip对象，合并时位置相同的元素被合在元组tuple里，再由这些元组组成一个集合对象zip。"
      ]
    },
    {
      "cell_type": "code",
      "metadata": {
        "id": "5WsL5-AieRx3",
        "colab_type": "code",
        "outputId": "c423c2e7-3070-49c9-8fea-7a37291b97bc",
        "colab": {
          "base_uri": "https://localhost:8080/",
          "height": 52
        }
      },
      "source": [
        "a=[1,2,3]\n",
        "b=[4,5,6]\n",
        "ab=zip(a,b)\n",
        "print(ab)\n",
        "print(list(ab))"
      ],
      "execution_count": 52,
      "outputs": [
        {
          "output_type": "stream",
          "text": [
            "<zip object at 0x7fd1b46dc188>\n",
            "[(1, 4), (2, 5), (3, 6)]\n"
          ],
          "name": "stdout"
        }
      ]
    },
    {
      "cell_type": "markdown",
      "metadata": {
        "id": "VCowaZeQjtuT",
        "colab_type": "text"
      },
      "source": [
        "lambda用于快捷地生成一个简单的函数，基本形式为：\n",
        "\n",
        "```py\n",
        "small_func = lambda [自变量]:[对应法则]\n",
        "```\n",
        "\n",
        "对于对应法则只需一行的函数来说，这种写法既简单又提高了代码的可读性。"
      ]
    },
    {
      "cell_type": "code",
      "metadata": {
        "id": "-Yl6HhdCi87g",
        "colab_type": "code",
        "outputId": "54100c8b-de81-4d0a-fc3d-c8497d3d7159",
        "colab": {
          "base_uri": "https://localhost:8080/",
          "height": 34
        }
      },
      "source": [
        "func = lambda x,y:x+y\n",
        "x = 3\n",
        "y = 2\n",
        "print(func(x,y))"
      ],
      "execution_count": 53,
      "outputs": [
        {
          "output_type": "stream",
          "text": [
            "5\n"
          ],
          "name": "stdout"
        }
      ]
    },
    {
      "cell_type": "markdown",
      "metadata": {
        "id": "ksxRZy6ilSVx",
        "colab_type": "text"
      },
      "source": [
        "map用于对可迭代对象进行映射，基本形式为\n",
        "\n",
        "```py\n",
        "map([函数], [列表1], [列表2]...)\n",
        "```\n",
        "\n",
        "map()传入的函数是自定的映射方式，返回的是一个map对象，这个对象由映射方式后的可迭代对象们通过指定的映射方式计算而来。\n",
        "\n",
        "因为映射方式往往是个简单函数，常与lambda一起用："
      ]
    },
    {
      "cell_type": "code",
      "metadata": {
        "id": "HJFMkPixlOyl",
        "colab_type": "code",
        "outputId": "d6e99479-e7bc-4c7e-ce81-aa1e037c34a5",
        "colab": {
          "base_uri": "https://localhost:8080/",
          "height": 52
        }
      },
      "source": [
        "m = map(lambda x, y: x + y, [1, 3, 5, 7, 9], [2, 4, 6, 8, 10])\n",
        "print(m)\n",
        "print(list(m))"
      ],
      "execution_count": 54,
      "outputs": [
        {
          "output_type": "stream",
          "text": [
            "<map object at 0x7fd1b46c9c88>\n",
            "[3, 7, 11, 15, 19]\n"
          ],
          "name": "stdout"
        }
      ]
    },
    {
      "cell_type": "markdown",
      "metadata": {
        "id": "ICLkSTIdu9do",
        "colab_type": "text"
      },
      "source": [
        "### 12.4 copy & deepcopy 浅复制 & 深复制\n",
        "\n",
        "#### 赋值\n",
        "\n",
        "python中所有对象都有唯一的id，这个id代表着它在内存中的地址。\n",
        "\n",
        "赋值的本质是给对象起个外号，原来的对象名和新对象名都指向同一个对象。\n",
        "\n"
      ]
    },
    {
      "cell_type": "code",
      "metadata": {
        "id": "M5x-LjvpuQ0Z",
        "colab_type": "code",
        "outputId": "53e6d7b5-57fb-4d7d-d783-e51d0a3cdd36",
        "colab": {
          "base_uri": "https://localhost:8080/",
          "height": 297
        }
      },
      "source": [
        "a = 1\n",
        "b = a\n",
        "c = [1, 2, 3]\n",
        "d = c\n",
        "print(f'a:{a}\\nb:{b}\\nc:{c}\\nd:{d}')\n",
        "print(f'id(a):{id(a)}\\nid(b):{id(b)}\\nid(c):{id(c)}\\nid(d):{id(d)}')\n",
        "\n",
        "b += 1\n",
        "d += [1]\n",
        "print(f'a:{a}\\nb:{b}\\nc:{c}\\nd:{d}')\n",
        "print(f'id(a):{id(a)}\\nid(b):{id(b)}\\nid(c):{id(c)}\\nid(d):{id(d)}')"
      ],
      "execution_count": 55,
      "outputs": [
        {
          "output_type": "stream",
          "text": [
            "a:1\n",
            "b:1\n",
            "c:[1, 2, 3]\n",
            "d:[1, 2, 3]\n",
            "id(a):10914496\n",
            "id(b):10914496\n",
            "id(c):140538661011080\n",
            "id(d):140538661011080\n",
            "a:1\n",
            "b:2\n",
            "c:[1, 2, 3, 1]\n",
            "d:[1, 2, 3, 1]\n",
            "id(a):10914496\n",
            "id(b):10914528\n",
            "id(c):140538661011080\n",
            "id(d):140538661011080\n"
          ],
          "name": "stdout"
        }
      ]
    },
    {
      "cell_type": "markdown",
      "metadata": {
        "id": "8pcvcfY6BRdt",
        "colab_type": "text"
      },
      "source": [
        "然而具体操作时出现了一种诡异的情况：尽管给int对象b和list对象d赋值后对应的对象id都跟所复制的对象相同，但再经过运算后，列表对象c和d还是指向同一对象，b却不再是原来的b了。为了搞清这一点我们继续对a进行运算："
      ]
    },
    {
      "cell_type": "code",
      "metadata": {
        "id": "CgtD0dsoBxsI",
        "colab_type": "code",
        "outputId": "24d1b78c-c114-47f2-c54a-9930f5cd2454",
        "colab": {
          "base_uri": "https://localhost:8080/",
          "height": 87
        }
      },
      "source": [
        "a += 1\n",
        "print(f'a:{a}\\nb:{b}')\n",
        "print(f'id(a):{id(a)}\\nid(b):{id(b)}')"
      ],
      "execution_count": 56,
      "outputs": [
        {
          "output_type": "stream",
          "text": [
            "a:2\n",
            "b:2\n",
            "id(a):10914528\n",
            "id(b):10914528\n"
          ],
          "name": "stdout"
        }
      ]
    },
    {
      "cell_type": "markdown",
      "metadata": {
        "id": "ftnLm3VQDtfj",
        "colab_type": "text"
      },
      "source": [
        "这时我们可以发现a的id不仅变了，而且还很诡异地跟b相同了。虽然不知道为什么，但可以说，赋值操作在int对象上的效果和对list对象地效果是不同的。"
      ]
    },
    {
      "cell_type": "code",
      "metadata": {
        "id": "br-20J8RDPLN",
        "colab_type": "code",
        "outputId": "6663acfb-a1d3-4a19-d325-eff2cb36ccd0",
        "colab": {
          "base_uri": "https://localhost:8080/",
          "height": 52
        }
      },
      "source": [
        "e = 'string'\n",
        "f = e\n",
        "print(id(e)==id(f))\n",
        "\n",
        "f += '2'\n",
        "print(id(e)==id(f))"
      ],
      "execution_count": 57,
      "outputs": [
        {
          "output_type": "stream",
          "text": [
            "True\n",
            "False\n"
          ],
          "name": "stdout"
        }
      ]
    },
    {
      "cell_type": "markdown",
      "metadata": {
        "id": "HG0NzRbQFFzs",
        "colab_type": "text"
      },
      "source": [
        "str对象与int对象赋值有类似效果，无法“起外号”。\n",
        "\n",
        "#### 浅复制\n",
        "\n",
        "用python自带库copy里的copy()函数可实现浅复制。浅复制是对对象的克隆，生成的新对象拥有与被克隆对象有不同的id。显然，修改新对象时被克隆对象不会改变。"
      ]
    },
    {
      "cell_type": "code",
      "metadata": {
        "id": "B-8M-npjEqVk",
        "colab_type": "code",
        "outputId": "1d0a8281-362d-443a-faa0-be1346105ac5",
        "colab": {
          "base_uri": "https://localhost:8080/",
          "height": 157
        }
      },
      "source": [
        "import copy\n",
        "\n",
        "g = copy.copy(c)\n",
        "print(f'c:{c}\\ng:{g}')\n",
        "print(f'id(c):{id(c)}\\nid(g):{id(g)}')\n",
        "\n",
        "g[0] = 666\n",
        "print(f'c:{c}\\ng:{g}')\n",
        "print(f'id(c):{id(c)}\\nid(g):{id(g)}')"
      ],
      "execution_count": 58,
      "outputs": [
        {
          "output_type": "stream",
          "text": [
            "c:[1, 2, 3, 1]\n",
            "g:[1, 2, 3, 1]\n",
            "id(c):140538661011080\n",
            "id(g):140538651960712\n",
            "c:[1, 2, 3, 1]\n",
            "g:[666, 2, 3, 1]\n",
            "id(c):140538661011080\n",
            "id(g):140538651960712\n"
          ],
          "name": "stdout"
        }
      ]
    },
    {
      "cell_type": "markdown",
      "metadata": {
        "id": "ivHsItbSHkmJ",
        "colab_type": "text"
      },
      "source": [
        "为什么copy.copy()叫做浅复制呢？因为当被克隆对象里嵌套着list对象时，新对象与被克隆对象里的子list的id是相同的。"
      ]
    },
    {
      "cell_type": "code",
      "metadata": {
        "id": "X2-G3SO2GlWL",
        "colab_type": "code",
        "outputId": "d316043d-0d5c-4111-bab8-f8a52f32f522",
        "colab": {
          "base_uri": "https://localhost:8080/",
          "height": 157
        }
      },
      "source": [
        "h = [1, 'giao', 'wuli', ['giao', 'giao']]\n",
        "i = copy.copy(h)\n",
        "print(f'h:{h}\\ni:{i}')\n",
        "print(f'id(h):{id(h)}\\nid(i):{id(i)}')\n",
        "print(f'id(h[3]):{id(h[3])}\\nid(i[3]):{id(i[3])}')\n",
        "\n",
        "i[3][0] = 'GIAO!!!'\n",
        "print(f'h:{h}\\ni:{i}')"
      ],
      "execution_count": 59,
      "outputs": [
        {
          "output_type": "stream",
          "text": [
            "h:[1, 'giao', 'wuli', ['giao', 'giao']]\n",
            "i:[1, 'giao', 'wuli', ['giao', 'giao']]\n",
            "id(h):140538661009288\n",
            "id(i):140538652024968\n",
            "id(h[3]):140538660564552\n",
            "id(i[3]):140538660564552\n",
            "h:[1, 'giao', 'wuli', ['GIAO!!!', 'giao']]\n",
            "i:[1, 'giao', 'wuli', ['GIAO!!!', 'giao']]\n"
          ],
          "name": "stdout"
        }
      ]
    },
    {
      "cell_type": "markdown",
      "metadata": {
        "id": "XMWwhUWHJ0Oo",
        "colab_type": "text"
      },
      "source": [
        "#### 深复制\n",
        "\n",
        "深复制copy.deepcopy()可以做到完完全全地克隆，连嵌套的列表list对象也会被分配一个新id。"
      ]
    },
    {
      "cell_type": "code",
      "metadata": {
        "id": "_kwqDBboJm3I",
        "colab_type": "code",
        "outputId": "c9a33bb8-e4b0-48df-f794-f8d427a4e171",
        "colab": {
          "base_uri": "https://localhost:8080/",
          "height": 157
        }
      },
      "source": [
        "k = copy.deepcopy(h)\n",
        "print(f'h:{h}\\nk:{k}')\n",
        "print(f'id(h):{id(h)}\\nid(k):{id(k)}')\n",
        "print(f'id(h[3]):{id(h[3])}\\nid(k[3]):{id(k[3])}')\n",
        "\n",
        "k[3][1] = 'GIAO!!!'\n",
        "print(f'h:{h}\\nk:{k}')"
      ],
      "execution_count": 60,
      "outputs": [
        {
          "output_type": "stream",
          "text": [
            "h:[1, 'giao', 'wuli', ['GIAO!!!', 'giao']]\n",
            "k:[1, 'giao', 'wuli', ['GIAO!!!', 'giao']]\n",
            "id(h):140538661009288\n",
            "id(k):140538651878856\n",
            "id(h[3]):140538660564552\n",
            "id(k[3]):140538660564936\n",
            "h:[1, 'giao', 'wuli', ['GIAO!!!', 'giao']]\n",
            "k:[1, 'giao', 'wuli', ['GIAO!!!', 'GIAO!!!']]\n"
          ],
          "name": "stdout"
        }
      ]
    },
    {
      "cell_type": "markdown",
      "metadata": {
        "id": "K9Dt_85RLUXN",
        "colab_type": "text"
      },
      "source": [
        "### 12.5 pickle 保存数据\n",
        "\n",
        "在简单书数据储存读取方面，我个人更习惯用json，不过周莫凡老师python教程里讲的pickle的使用方法几乎跟json一模一样。\n",
        "\n",
        "pickle是一个用来保存和读写要储存的数据的python自带模块。可以用压缩并保存一个字典的方式使用pickle。\n",
        "\n",
        "#### pickle 保存"
      ]
    },
    {
      "cell_type": "code",
      "metadata": {
        "id": "u847m3wlKxir",
        "colab_type": "code",
        "colab": {}
      },
      "source": [
        "import pickle\n",
        "\n",
        "a_dict = {'da': 111, 2: [23,1,4], '23': {1:2,'d':'sad'}}\n",
        "\n",
        "# pickle a variable to a file\n",
        "with open('pickle_example.pickle', 'wb') as file:\n",
        "    pickle.dump(a_dict, file)"
      ],
      "execution_count": 0,
      "outputs": []
    },
    {
      "cell_type": "markdown",
      "metadata": {
        "id": "eQHRj3DSNFz6",
        "colab_type": "text"
      },
      "source": [
        "pickle的dump()函数将python的dict对象转化为pickle文件格式中的字典对象并保存在.pickle文件中。如果你亲自试了下这个操作，你会发现在程序所在目录多了个.pickle文件。\n",
        "\n",
        "#### pickle 提取\n",
        "\n",
        "提取时load()方法不会改变.pickle文件本身，提取只是读文件的过程，相当于打开自己之前记得笔记瞧一眼。"
      ]
    },
    {
      "cell_type": "code",
      "metadata": {
        "id": "vVlc1ciiM_gm",
        "colab_type": "code",
        "outputId": "f6e880fd-acd1-482f-bef7-588c9a665f9b",
        "colab": {
          "base_uri": "https://localhost:8080/",
          "height": 34
        }
      },
      "source": [
        "# reload a file to a variable\n",
        "with open('pickle_example.pickle', 'rb') as file:\n",
        "    dict_from_pickle =pickle.load(file)\n",
        "\n",
        "print(dict_from_pickle)"
      ],
      "execution_count": 62,
      "outputs": [
        {
          "output_type": "stream",
          "text": [
            "{'da': 111, 2: [23, 1, 4], '23': {1: 2, 'd': 'sad'}}\n"
          ],
          "name": "stdout"
        }
      ]
    },
    {
      "cell_type": "markdown",
      "metadata": {
        "id": "mceJ1qfxQd9r",
        "colab_type": "text"
      },
      "source": [
        "### 12.6 set 找不同\n",
        "\n",
        "当我们需要将list中所有重复元素删掉，只关注有几种元素时就可以用set()函数。"
      ]
    },
    {
      "cell_type": "code",
      "metadata": {
        "id": "9qM7f9lVQWNE",
        "colab_type": "code",
        "outputId": "8717cc0d-5224-4b43-b667-8076d073c810",
        "colab": {
          "base_uri": "https://localhost:8080/",
          "height": 34
        }
      },
      "source": [
        "giao_lang = [1, 'giao', 'wuli', 'giao', 'giao']\n",
        "print(set(giao_lang))"
      ],
      "execution_count": 63,
      "outputs": [
        {
          "output_type": "stream",
          "text": [
            "{1, 'wuli', 'giao'}\n"
          ],
          "name": "stdout"
        }
      ]
    },
    {
      "cell_type": "markdown",
      "metadata": {
        "id": "QSawWer5Sopn",
        "colab_type": "text"
      },
      "source": [
        "set()函数返回的这个变量是个set对象，这种对象相当于一个没有value的dict，也是用大括号表示。\n",
        "\n",
        "#### set对象的几种方法\n",
        "\n",
        "- add() 添加元素\n",
        "- remove()和discard()，功能都是从set对象中去掉指定的元素，区别仅在于如果没找到这个元素remove()会报错而discard()不会。\n",
        "- clear() 清除所有元素\n",
        "- difference() 查看与另一个set对象不同的元素\n",
        "- intersection() 查看与另一个set对象相同的元素"
      ]
    },
    {
      "cell_type": "code",
      "metadata": {
        "id": "Tt2oRiDnScs8",
        "colab_type": "code",
        "outputId": "07da3ebe-707b-4433-ed30-3f0e35684d4b",
        "colab": {
          "base_uri": "https://localhost:8080/",
          "height": 192
        }
      },
      "source": [
        "char_list = ['a', 'b', 'c', 'c', 'd', 'd', 'd']\n",
        "sentence = 'giao'\n",
        "\n",
        "print(set(char_list))\n",
        "print(set(sentence))\n",
        "print(f'以上两set合并后：{set(char_list+ list(sentence))}')\n",
        "\n",
        "unique_char = set(char_list)\n",
        "print(f'原set：{unique_char}')\n",
        "unique_char.add('x')\n",
        "print(f'添加x：{unique_char}')\n",
        "\n",
        "unique_char.remove('x')\n",
        "print(f'去除x：{unique_char}')\n",
        "\n",
        "unique_char.discard('d')\n",
        "print(f'去除d：{unique_char}')\n",
        "\n",
        "print(f\"与{'a', 'e', 'i'}的不同元素：{unique_char.difference({'a', 'e', 'i'})}\")\n",
        "print(f\"与{'a', 'e', 'i'}的相同元素：{unique_char.intersection({'a', 'e', 'i'})}\")\n",
        "\n",
        "unique_char.clear()\n",
        "print(f'清除所有元素：{unique_char}')"
      ],
      "execution_count": 64,
      "outputs": [
        {
          "output_type": "stream",
          "text": [
            "{'a', 'c', 'b', 'd'}\n",
            "{'a', 'o', 'g', 'i'}\n",
            "以上两set合并后：{'o', 'a', 'd', 'g', 'b', 'c', 'i'}\n",
            "原set：{'a', 'c', 'b', 'd'}\n",
            "添加x：{'x', 'a', 'd', 'b', 'c'}\n",
            "去除x：{'a', 'd', 'b', 'c'}\n",
            "去除d：{'a', 'b', 'c'}\n",
            "与('a', 'e', 'i')的不同元素：{'c', 'b'}\n",
            "与('a', 'e', 'i')的相同元素：{'a'}\n",
            "清除所有元素：set()\n"
          ],
          "name": "stdout"
        }
      ]
    },
    {
      "cell_type": "markdown",
      "metadata": {
        "id": "86iDYZonultO",
        "colab_type": "text"
      },
      "source": [
        "### 12.7 正则表达 RegEx\n",
        "\n",
        "这部分需要理解的地方并不多，主要靠实际操作积累经验，在后续网页爬虫教程会经常用到。所以这里不再整理细节，只上代码。代码依然来自👉[莫烦Python教程](https://morvanzhou.github.io/)\n",
        "\n",
        "#### 导入模块"
      ]
    },
    {
      "cell_type": "code",
      "metadata": {
        "id": "Jb3kofETWSev",
        "colab_type": "code",
        "colab": {}
      },
      "source": [
        "import re"
      ],
      "execution_count": 0,
      "outputs": []
    },
    {
      "cell_type": "markdown",
      "metadata": {
        "id": "B2o5YmnYvjnI",
        "colab_type": "text"
      },
      "source": [
        "#### 简单Python匹配"
      ]
    },
    {
      "cell_type": "code",
      "metadata": {
        "id": "E4iOgKxPvitU",
        "colab_type": "code",
        "colab": {
          "base_uri": "https://localhost:8080/",
          "height": 52
        },
        "outputId": "feb3b151-9670-4de1-c89b-847300b16418"
      },
      "source": [
        "# matching string\n",
        "pattern1 = 'cat'\n",
        "pattern2 = 'bird'\n",
        "string = 'dog runs to cat'\n",
        "print(pattern1 in string)\n",
        "print(pattern2 in string)"
      ],
      "execution_count": 66,
      "outputs": [
        {
          "output_type": "stream",
          "text": [
            "True\n",
            "False\n"
          ],
          "name": "stdout"
        }
      ]
    },
    {
      "cell_type": "markdown",
      "metadata": {
        "id": "FPfimqrawCJt",
        "colab_type": "text"
      },
      "source": [
        "#### 用正则寻找配对"
      ]
    },
    {
      "cell_type": "code",
      "metadata": {
        "id": "qPp8bVexv_JP",
        "colab_type": "code",
        "colab": {
          "base_uri": "https://localhost:8080/",
          "height": 52
        },
        "outputId": "2b699d8d-818a-4f1a-bccc-596b42f288c3"
      },
      "source": [
        "# regular expression\n",
        "pattern1 = 'cat'\n",
        "pattern2 = 'bird'\n",
        "string = 'dog runs to cat'\n",
        "print(re.search(pattern1, string))\n",
        "print(re.search(pattern2, string))"
      ],
      "execution_count": 67,
      "outputs": [
        {
          "output_type": "stream",
          "text": [
            "<_sre.SRE_Match object; span=(12, 15), match='cat'>\n",
            "None\n"
          ],
          "name": "stdout"
        }
      ]
    },
    {
      "cell_type": "markdown",
      "metadata": {
        "id": "wJIqMaC7w9yX",
        "colab_type": "text"
      },
      "source": [
        "#### 匹配多种可能 使用[]"
      ]
    },
    {
      "cell_type": "code",
      "metadata": {
        "id": "9NlYtDpVw5bu",
        "colab_type": "code",
        "colab": {
          "base_uri": "https://localhost:8080/",
          "height": 34
        },
        "outputId": "a5b1ef19-acbd-4217-bd35-bbcc0cc9d0b3"
      },
      "source": [
        "# multiple patterns ('run' or 'ran')\n",
        "ptn = r'r[au]n'\n",
        "print(re.search(ptn, 'dog runs to cat'))"
      ],
      "execution_count": 68,
      "outputs": [
        {
          "output_type": "stream",
          "text": [
            "<_sre.SRE_Match object; span=(4, 7), match='run'>\n"
          ],
          "name": "stdout"
        }
      ]
    },
    {
      "cell_type": "markdown",
      "metadata": {
        "id": "bNZMpKMQxcRv",
        "colab_type": "text"
      },
      "source": [
        "#### 匹配更多种可能"
      ]
    },
    {
      "cell_type": "code",
      "metadata": {
        "id": "lmhHNOPGxXt3",
        "colab_type": "code",
        "colab": {
          "base_uri": "https://localhost:8080/",
          "height": 87
        },
        "outputId": "7c53c897-0a2d-42d4-b03c-422d1bfed96c"
      },
      "source": [
        "# continue\n",
        "print(re.search(r'r[A-Z]n', 'dog runs to cat'))\n",
        "print(re.search(r'r[a-z]n', 'dog runs to cat'))\n",
        "print(re.search(r'r[0-9]n', 'dog runs to cat'))\n",
        "print(re.search(r'r[0-9a-z]n', 'dog runs to cat'))"
      ],
      "execution_count": 69,
      "outputs": [
        {
          "output_type": "stream",
          "text": [
            "None\n",
            "<_sre.SRE_Match object; span=(4, 7), match='run'>\n",
            "None\n",
            "<_sre.SRE_Match object; span=(4, 7), match='run'>\n"
          ],
          "name": "stdout"
        }
      ]
    },
    {
      "cell_type": "markdown",
      "metadata": {
        "id": "XMJLBmdByL17",
        "colab_type": "text"
      },
      "source": [
        "#### 特殊种类匹配\n",
        "\n",
        "##### 数字"
      ]
    },
    {
      "cell_type": "code",
      "metadata": {
        "id": "dMJQwqMIyKFp",
        "colab_type": "code",
        "colab": {
          "base_uri": "https://localhost:8080/",
          "height": 52
        },
        "outputId": "deef027f-e200-442e-c54c-8954a5cf3109"
      },
      "source": [
        "# \\d: decimal digit\n",
        "print(re.search(r'r\\dn', 'run r4n'))\n",
        "# \\D: any non-decimal digit\n",
        "print(re.search(r'r\\Dn', 'run r4n'))"
      ],
      "execution_count": 70,
      "outputs": [
        {
          "output_type": "stream",
          "text": [
            "<_sre.SRE_Match object; span=(4, 7), match='r4n'>\n",
            "<_sre.SRE_Match object; span=(0, 3), match='run'>\n"
          ],
          "name": "stdout"
        }
      ]
    },
    {
      "cell_type": "markdown",
      "metadata": {
        "id": "kQKevkvPyvNf",
        "colab_type": "text"
      },
      "source": [
        "##### 空白"
      ]
    },
    {
      "cell_type": "code",
      "metadata": {
        "id": "xYXNgudfytoy",
        "colab_type": "code",
        "colab": {
          "base_uri": "https://localhost:8080/",
          "height": 52
        },
        "outputId": "a52f6685-4cfb-41a9-de6e-2ef1c97bffee"
      },
      "source": [
        "# \\s: any white space [\\t\\n\\r\\f\\v]\n",
        "print(re.search(r'r\\sn', 'r\\nn r4n'))\n",
        "# \\S: opposite to \\s, any non-white space\n",
        "print(re.search(r'r\\Sn', r'\\nn r4n'))"
      ],
      "execution_count": 71,
      "outputs": [
        {
          "output_type": "stream",
          "text": [
            "<_sre.SRE_Match object; span=(0, 3), match='r\\nn'>\n",
            "<_sre.SRE_Match object; span=(4, 7), match='r4n'>\n"
          ],
          "name": "stdout"
        }
      ]
    },
    {
      "cell_type": "markdown",
      "metadata": {
        "id": "0C3ksgA1zaZ2",
        "colab_type": "text"
      },
      "source": [
        "##### 所有字母数字和下划线"
      ]
    },
    {
      "cell_type": "code",
      "metadata": {
        "id": "NuCFpAYbzSlv",
        "colab_type": "code",
        "colab": {
          "base_uri": "https://localhost:8080/",
          "height": 52
        },
        "outputId": "a600655c-09f5-48a5-fa10-dfe12150faeb"
      },
      "source": [
        "# \\w: [a-zA-Z0-9_]\n",
        "print(re.search(r'r\\wn', 'r\\nn r4n'))\n",
        "# \\W: opposite to \\w\n",
        "print(re.search(r'r\\Wn', 'r\\nn r4n'))"
      ],
      "execution_count": 72,
      "outputs": [
        {
          "output_type": "stream",
          "text": [
            "<_sre.SRE_Match object; span=(4, 7), match='r4n'>\n",
            "<_sre.SRE_Match object; span=(0, 3), match='r\\nn'>\n"
          ],
          "name": "stdout"
        }
      ]
    },
    {
      "cell_type": "markdown",
      "metadata": {
        "id": "tqNWZR8W0DDM",
        "colab_type": "text"
      },
      "source": [
        "###### 空白字符"
      ]
    },
    {
      "cell_type": "code",
      "metadata": {
        "id": "rWFjcaZp0B3y",
        "colab_type": "code",
        "colab": {
          "base_uri": "https://localhost:8080/",
          "height": 52
        },
        "outputId": "39b9a1fc-d647-478d-98f4-09f2ce223e6f"
      },
      "source": [
        "# \\b: empty string (only at the start or end of the world)\n",
        "print(re.search(r'\\bruns\\b', 'dog runs to cat'))\n",
        "# \\B: empty string (but not at the start or end of a word)\n",
        "print(re.search(r'\\B runs \\B', 'dog  runs  to cat'))"
      ],
      "execution_count": 73,
      "outputs": [
        {
          "output_type": "stream",
          "text": [
            "<_sre.SRE_Match object; span=(4, 8), match='runs'>\n",
            "<_sre.SRE_Match object; span=(4, 10), match=' runs '>\n"
          ],
          "name": "stdout"
        }
      ]
    },
    {
      "cell_type": "markdown",
      "metadata": {
        "id": "SxdUI66w04UD",
        "colab_type": "text"
      },
      "source": [
        "##### 特殊字符 任意字符"
      ]
    },
    {
      "cell_type": "code",
      "metadata": {
        "id": "P1g0mWrE0lIY",
        "colab_type": "code",
        "colab": {
          "base_uri": "https://localhost:8080/",
          "height": 52
        },
        "outputId": "c2ff1502-a492-4fe3-e0b9-a698a779728b"
      },
      "source": [
        "# \\\\ : match \\\n",
        "print(re.search(r'runs\\\\', 'runs\\ to me'))\n",
        "# . : match anything (except \\n)\n",
        "print(re.search(r'r.n', 'r[ns to me'))"
      ],
      "execution_count": 74,
      "outputs": [
        {
          "output_type": "stream",
          "text": [
            "<_sre.SRE_Match object; span=(0, 5), match='runs\\\\'>\n",
            "<_sre.SRE_Match object; span=(0, 3), match='r[n'>\n"
          ],
          "name": "stdout"
        }
      ]
    },
    {
      "cell_type": "markdown",
      "metadata": {
        "id": "ew2ERkWl1f14",
        "colab_type": "text"
      },
      "source": [
        "##### 句尾句首"
      ]
    },
    {
      "cell_type": "code",
      "metadata": {
        "id": "E4VOwdVk1c1W",
        "colab_type": "code",
        "colab": {
          "base_uri": "https://localhost:8080/",
          "height": 52
        },
        "outputId": "e2f47a08-aa84-40d1-f7ec-aae80119185c"
      },
      "source": [
        "# ^ : match line beginning\n",
        "print(re.search(r'^dog', 'dog runs to cat'))\n",
        "# $ : match line ending\n",
        "print(re.search(r'cat$', 'dog runs to cat'))"
      ],
      "execution_count": 75,
      "outputs": [
        {
          "output_type": "stream",
          "text": [
            "<_sre.SRE_Match object; span=(0, 3), match='dog'>\n",
            "<_sre.SRE_Match object; span=(12, 15), match='cat'>\n"
          ],
          "name": "stdout"
        }
      ]
    },
    {
      "cell_type": "markdown",
      "metadata": {
        "id": "Go8uBBZ22DyL",
        "colab_type": "text"
      },
      "source": [
        "##### 是否"
      ]
    },
    {
      "cell_type": "code",
      "metadata": {
        "id": "iUsoqwCP2DIX",
        "colab_type": "code",
        "colab": {
          "base_uri": "https://localhost:8080/",
          "height": 52
        },
        "outputId": "04b64b83-a4f1-49c8-81bb-7e2e48beb9cc"
      },
      "source": [
        "# ? : may or may not occur\n",
        "print(re.search(r'Mon(day)?', 'Monday'))\n",
        "print(re.search(r'Mon(day)?', 'Mon'))"
      ],
      "execution_count": 76,
      "outputs": [
        {
          "output_type": "stream",
          "text": [
            "<_sre.SRE_Match object; span=(0, 6), match='Monday'>\n",
            "<_sre.SRE_Match object; span=(0, 3), match='Mon'>\n"
          ],
          "name": "stdout"
        }
      ]
    },
    {
      "cell_type": "markdown",
      "metadata": {
        "id": "vqfyRMXt2myw",
        "colab_type": "text"
      },
      "source": [
        "#### 多行匹配"
      ]
    },
    {
      "cell_type": "code",
      "metadata": {
        "id": "lbmeiKGp2lVF",
        "colab_type": "code",
        "colab": {
          "base_uri": "https://localhost:8080/",
          "height": 52
        },
        "outputId": "499b1ee0-64e3-4c39-c91e-d527bf22edb9"
      },
      "source": [
        "# multi-line\n",
        "string = '''\n",
        "dog runs to cat.\n",
        "I run to dog.\n",
        "'''\n",
        "print(re.search(r'^I', string))\n",
        "print(re.search(r'^I', string, flags=re.M))"
      ],
      "execution_count": 77,
      "outputs": [
        {
          "output_type": "stream",
          "text": [
            "None\n",
            "<_sre.SRE_Match object; span=(18, 19), match='I'>\n"
          ],
          "name": "stdout"
        }
      ]
    },
    {
      "cell_type": "markdown",
      "metadata": {
        "id": "zIoyZNbD8Za-",
        "colab_type": "text"
      },
      "source": [
        "#### 0或多次"
      ]
    },
    {
      "cell_type": "code",
      "metadata": {
        "id": "F1vH8C_V3LFk",
        "colab_type": "code",
        "colab": {
          "base_uri": "https://localhost:8080/",
          "height": 52
        },
        "outputId": "3f6c6004-ee30-4cef-fef8-ee3030610530"
      },
      "source": [
        "# * : occur 0 or more times\n",
        "print(re.search(r'ab*', 'a'))\n",
        "print(re.search(r'ab*', 'abbbbb'))"
      ],
      "execution_count": 78,
      "outputs": [
        {
          "output_type": "stream",
          "text": [
            "<_sre.SRE_Match object; span=(0, 1), match='a'>\n",
            "<_sre.SRE_Match object; span=(0, 6), match='abbbbb'>\n"
          ],
          "name": "stdout"
        }
      ]
    },
    {
      "cell_type": "markdown",
      "metadata": {
        "id": "2SECL_Mc8uaS",
        "colab_type": "text"
      },
      "source": [
        "#### 1或多次"
      ]
    },
    {
      "cell_type": "code",
      "metadata": {
        "id": "lE012YZs8tM5",
        "colab_type": "code",
        "colab": {
          "base_uri": "https://localhost:8080/",
          "height": 52
        },
        "outputId": "559198cc-f975-4d53-db05-4e8c58092a95"
      },
      "source": [
        "# + : occur 1 or more times\n",
        "print(re.search(r'ab+', 'a'))\n",
        "print(re.search(r'ab+', 'abbbbb'))"
      ],
      "execution_count": 79,
      "outputs": [
        {
          "output_type": "stream",
          "text": [
            "None\n",
            "<_sre.SRE_Match object; span=(0, 6), match='abbbbb'>\n"
          ],
          "name": "stdout"
        }
      ]
    },
    {
      "cell_type": "markdown",
      "metadata": {
        "id": "sVpfmhHK9Aum",
        "colab_type": "text"
      },
      "source": [
        "#### 可选次数"
      ]
    },
    {
      "cell_type": "code",
      "metadata": {
        "id": "La-gENpY8_dC",
        "colab_type": "code",
        "colab": {
          "base_uri": "https://localhost:8080/",
          "height": 52
        },
        "outputId": "b3546e7f-91b2-400a-e531-b4eb9949866c"
      },
      "source": [
        "# {n, m} : occur n to m times\n",
        "print(re.search(r'ab{2,10}', 'a'))\n",
        "print(re.search(r'ab{2,10}', 'abbbbb'))"
      ],
      "execution_count": 80,
      "outputs": [
        {
          "output_type": "stream",
          "text": [
            "None\n",
            "<_sre.SRE_Match object; span=(0, 6), match='abbbbb'>\n"
          ],
          "name": "stdout"
        }
      ]
    },
    {
      "cell_type": "markdown",
      "metadata": {
        "id": "uETjhQf49oR-",
        "colab_type": "text"
      },
      "source": [
        "#### group组"
      ]
    },
    {
      "cell_type": "code",
      "metadata": {
        "id": "pn-N8jkG9Up-",
        "colab_type": "code",
        "colab": {
          "base_uri": "https://localhost:8080/",
          "height": 69
        },
        "outputId": "a71dc704-ade8-4be9-ba07-0b6b1ac78749"
      },
      "source": [
        "# group\n",
        "match = re.search(r'(\\d+), Date: (.+)', 'ID: 021523, Date: Feb/12/2017')\n",
        "print(match.group())\n",
        "print(match.group(1))\n",
        "print(match.group(2))"
      ],
      "execution_count": 81,
      "outputs": [
        {
          "output_type": "stream",
          "text": [
            "021523, Date: Feb/12/2017\n",
            "021523\n",
            "Feb/12/2017\n"
          ],
          "name": "stdout"
        }
      ]
    },
    {
      "cell_type": "code",
      "metadata": {
        "id": "Cjo2H2rZ-Bol",
        "colab_type": "code",
        "colab": {
          "base_uri": "https://localhost:8080/",
          "height": 52
        },
        "outputId": "facc1870-7f35-46b2-976a-8e1e9bd75109"
      },
      "source": [
        "match = re.search(r'(?P<id>\\d+), Date: (?P<date>.+)', 'ID: 021523, Date: Feb/12/2017')\n",
        "print(match.group('id'))\n",
        "print(match.group('date'))"
      ],
      "execution_count": 82,
      "outputs": [
        {
          "output_type": "stream",
          "text": [
            "021523\n",
            "Feb/12/2017\n"
          ],
          "name": "stdout"
        }
      ]
    },
    {
      "cell_type": "markdown",
      "metadata": {
        "id": "qiZnmzZL-htQ",
        "colab_type": "text"
      },
      "source": [
        "#### 寻找所有匹配"
      ]
    },
    {
      "cell_type": "code",
      "metadata": {
        "id": "QCRRtNGt-deh",
        "colab_type": "code",
        "colab": {
          "base_uri": "https://localhost:8080/",
          "height": 34
        },
        "outputId": "9d0b25a7-e556-4a41-8cfa-46030e388014"
      },
      "source": [
        "# findall\n",
        "print(re.findall(r'r[ua]n', 'run ran ren'))"
      ],
      "execution_count": 83,
      "outputs": [
        {
          "output_type": "stream",
          "text": [
            "['run', 'ran']\n"
          ],
          "name": "stdout"
        }
      ]
    },
    {
      "cell_type": "code",
      "metadata": {
        "id": "J-wVn9Ox-uDH",
        "colab_type": "code",
        "colab": {
          "base_uri": "https://localhost:8080/",
          "height": 34
        },
        "outputId": "9fc39305-c7be-439c-cfca-94e576c2bcc5"
      },
      "source": [
        "# / : or\n",
        "print(re.findall(r'(run|ran)', 'run ran ren'))"
      ],
      "execution_count": 84,
      "outputs": [
        {
          "output_type": "stream",
          "text": [
            "['run', 'ran']\n"
          ],
          "name": "stdout"
        }
      ]
    },
    {
      "cell_type": "markdown",
      "metadata": {
        "id": "YoPVe18b_Co0",
        "colab_type": "text"
      },
      "source": [
        "#### 替换"
      ]
    },
    {
      "cell_type": "code",
      "metadata": {
        "id": "zO9vLzeu_AQH",
        "colab_type": "code",
        "colab": {
          "base_uri": "https://localhost:8080/",
          "height": 34
        },
        "outputId": "9689c114-34d0-4300-cd26-8f032e6d4bcc"
      },
      "source": [
        "# re.sub() replace\n",
        "print(re.sub(r'r[au]ns', 'catches', 'dog runs to cat'))"
      ],
      "execution_count": 85,
      "outputs": [
        {
          "output_type": "stream",
          "text": [
            "dog catches to cat\n"
          ],
          "name": "stdout"
        }
      ]
    },
    {
      "cell_type": "markdown",
      "metadata": {
        "id": "FjQxQhki_d8E",
        "colab_type": "text"
      },
      "source": [
        "#### 分裂"
      ]
    },
    {
      "cell_type": "code",
      "metadata": {
        "id": "gZthp_sm_Z9j",
        "colab_type": "code",
        "colab": {
          "base_uri": "https://localhost:8080/",
          "height": 34
        },
        "outputId": "4a356273-5fd8-467a-eb1f-086f37d00559"
      },
      "source": [
        "# re.split()\n",
        "print(re.split(r'[, ;\\.]', 'a;b,c.d;e'))"
      ],
      "execution_count": 86,
      "outputs": [
        {
          "output_type": "stream",
          "text": [
            "['a', 'b', 'c', 'd', 'e']\n"
          ],
          "name": "stdout"
        }
      ]
    },
    {
      "cell_type": "markdown",
      "metadata": {
        "id": "HL1ekT-Z_taN",
        "colab_type": "text"
      },
      "source": [
        "#### compile"
      ]
    },
    {
      "cell_type": "code",
      "metadata": {
        "id": "TFo3hKx-_sN5",
        "colab_type": "code",
        "colab": {
          "base_uri": "https://localhost:8080/",
          "height": 34
        },
        "outputId": "4d810b58-caba-4c74-d0d9-8dfff935e964"
      },
      "source": [
        "# compile\n",
        "compiled_re = re.compile(r'r[ua]n')\n",
        "print(compiled_re.search('dog ran to cat'))"
      ],
      "execution_count": 87,
      "outputs": [
        {
          "output_type": "stream",
          "text": [
            "<_sre.SRE_Match object; span=(4, 7), match='ran'>\n"
          ],
          "name": "stdout"
        }
      ]
    },
    {
      "cell_type": "code",
      "metadata": {
        "id": "AuT1A5qEACUm",
        "colab_type": "code",
        "colab": {}
      },
      "source": [
        ""
      ],
      "execution_count": 0,
      "outputs": []
    }
  ]
}