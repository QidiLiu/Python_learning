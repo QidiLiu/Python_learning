{
  "nbformat": 4,
  "nbformat_minor": 0,
  "metadata": {
    "colab": {
      "name": "Python基础_多进程.ipynb",
      "provenance": [],
      "collapsed_sections": [],
      "authorship_tag": "ABX9TyOZKQQdN/0kIJdAS29C+VGt",
      "include_colab_link": true
    },
    "kernelspec": {
      "name": "python3",
      "display_name": "Python 3"
    }
  },
  "cells": [
    {
      "cell_type": "markdown",
      "metadata": {
        "id": "view-in-github",
        "colab_type": "text"
      },
      "source": [
        "<a href=\"https://colab.research.google.com/github/QidiLiu/Python_learning/blob/master/Morvan-python_Notes/Python%E5%9F%BA%E7%A1%80_%E5%A4%9A%E8%BF%9B%E7%A8%8B.ipynb\" target=\"_parent\"><img src=\"https://colab.research.google.com/assets/colab-badge.svg\" alt=\"Open In Colab\"/></a>"
      ]
    },
    {
      "cell_type": "markdown",
      "metadata": {
        "id": "0-onHc5emHnA",
        "colab_type": "text"
      },
      "source": [
        "# Python基础-多进程\n",
        "\n",
        "## 1. 为什么要多进程\n",
        "\n",
        "正如之前在“[Python基础-多线程](https://github.com/QidiLiu/Python_learning/blob/master/Morvan-python_Notes/Python%E5%9F%BA%E7%A1%80_%E5%A4%9A%E7%BA%BF%E7%A8%8B.ipynb)”中说的一样：\n",
        "\n",
        "*多线程是表面的同时进行，通过频繁走位实现，而多进程是真正的同时进行，两个进程之间的数据可以相互沟通，但本质上是相互独立的*\n",
        "\n",
        "一般而言，多线程适合处理“I/O密集型”的任务，而多进程则适合处理“CPU密集型”的任务。\n",
        "\n",
        "## 2. 添加进程 Process\n",
        "\n",
        "跟[多线程中的Thread对象使用方式](https://github.com/QidiLiu/Python_learning/blob/master/Morvan-python_Notes/Python%E5%9F%BA%E7%A1%80_%E5%A4%9A%E7%BA%BF%E7%A8%8B.ipynb)非常像。"
      ]
    },
    {
      "cell_type": "code",
      "metadata": {
        "id": "3yv67kv7m2PJ",
        "colab_type": "code",
        "colab": {
          "base_uri": "https://localhost:8080/",
          "height": 52
        },
        "outputId": "40d078ef-9ef1-41a8-86c1-84e51fa3aacf"
      },
      "source": [
        "import multiprocessing as mp\n",
        "\n",
        "def job(a, b):\n",
        "    print(a+b)\n",
        "    print('blablabla...')\n",
        "\n",
        "if __name__ == '__main__':\n",
        "    p1 = mp.Process(target=job, args=(1,2)) # 创建进程\n",
        "    p1.start() # 启动进程\n",
        "    p1.join() # 连接进程"
      ],
      "execution_count": 1,
      "outputs": [
        {
          "output_type": "stream",
          "text": [
            "3\n",
            "blablabla...\n"
          ],
          "name": "stdout"
        }
      ]
    },
    {
      "cell_type": "markdown",
      "metadata": {
        "id": "uX5_qLP0oszo",
        "colab_type": "text"
      },
      "source": [
        "## 3. Queue进程输出\n",
        "\n",
        "功能与[Queue在多线程中的应用](https://github.com/QidiLiu/Python_learning/blob/master/Morvan-python_Notes/Python%E5%9F%BA%E7%A1%80_%E5%A4%9A%E7%BA%BF%E7%A8%8B.ipynb)类似，不再赘述。\n",
        "\n"
      ]
    },
    {
      "cell_type": "code",
      "metadata": {
        "id": "gtw-hywvqLYz",
        "colab_type": "code",
        "colab": {
          "base_uri": "https://localhost:8080/",
          "height": 34
        },
        "outputId": "95408701-df4d-4f1a-ff81-faf99fd350db"
      },
      "source": [
        "import multiprocessing as mp\n",
        "\n",
        "def job(q):\n",
        "    output = 0\n",
        "    for i in range(1000):\n",
        "        output += i + i**2 + i**3\n",
        "    q.put(output) # queue\n",
        "\n",
        "if __name__ == '__main__':\n",
        "    q = mp.Queue()\n",
        "    p1 = mp.Process(target=job, args=(q,))\n",
        "    p2 = mp.Process(target=job, args=(q,))\n",
        "    p1.start()\n",
        "    p2.start()\n",
        "    p1.join()\n",
        "    p2.join()\n",
        "    result_1 = q.get()\n",
        "    result_2 = q.get()\n",
        "    print(result_1 + result_2)"
      ],
      "execution_count": 2,
      "outputs": [
        {
          "output_type": "stream",
          "text": [
            "499667166000\n"
          ],
          "name": "stdout"
        }
      ]
    },
    {
      "cell_type": "markdown",
      "metadata": {
        "id": "K9xcyPM0tSjF",
        "colab_type": "text"
      },
      "source": [
        "## 4. 进程池 Pool\n",
        "\n",
        "把所有东西放在一个进程池里，让Python自己解决怎么分配进程。"
      ]
    },
    {
      "cell_type": "code",
      "metadata": {
        "id": "emUuZ3nPnhXE",
        "colab_type": "code",
        "colab": {
          "base_uri": "https://localhost:8080/",
          "height": 69
        },
        "outputId": "cb8da205-90b5-4f56-d0e8-97e0fae8ce98"
      },
      "source": [
        "import multiprocessing as mp\n",
        "\n",
        "def job(x):\n",
        "    return x**2 # 用Pool时可以直接出返回值\n",
        "\n",
        "def multicore():\n",
        "    pool = mp.Pool()\n",
        "    # 大锅炖式分配map()\n",
        "    result = pool.map(job, range(15))\n",
        "    print(result)\n",
        "    # 精准异步分配apply_async()\n",
        "    result = pool.apply_async(job, (2,))\n",
        "    print(result.get())\n",
        "    multi_result = [pool.apply_async(job, (i,)) for i in range(15)]\n",
        "    print([result.get() for result in multi_result])\n",
        "\n",
        "if __name__ == '__main__':\n",
        "    multicore()"
      ],
      "execution_count": 3,
      "outputs": [
        {
          "output_type": "stream",
          "text": [
            "[0, 1, 4, 9, 16, 25, 36, 49, 64, 81, 100, 121, 144, 169, 196]\n",
            "4\n",
            "[0, 1, 4, 9, 16, 25, 36, 49, 64, 81, 100, 121, 144, 169, 196]\n"
          ],
          "name": "stdout"
        }
      ]
    },
    {
      "cell_type": "markdown",
      "metadata": {
        "id": "ZwcmETffzKAY",
        "colab_type": "text"
      },
      "source": [
        "## 5. 共享内存\n",
        "\n",
        "共享内存指各个CPU中的进程都能读写某些变量，我个人把它理解为**多进程中的全局变量**。"
      ]
    },
    {
      "cell_type": "code",
      "metadata": {
        "id": "18mU2FKRyQPw",
        "colab_type": "code",
        "colab": {
          "base_uri": "https://localhost:8080/",
          "height": 72
        },
        "outputId": "d45de53f-674f-456a-a378-a3fc8e4f60c9"
      },
      "source": [
        "import multiprocessing as mp\n",
        "\n",
        "value = mp.Value('d', 1) # 多进程共享值，其中'd'指该变量的数据类型为double\n",
        "array = mp.Array('i', [1, 2, 3]) # 多进程共享列表,与numpy中的array不同，只能是1维列表\n",
        "\n",
        "print(value)\n",
        "print(array)"
      ],
      "execution_count": 4,
      "outputs": [
        {
          "output_type": "stream",
          "text": [
            "<Synchronized wrapper for c_double(1.0)>\n",
            "<SynchronizedArray wrapper for <multiprocessing.sharedctypes.c_int_Array_3 object at 0x7f3e4f6de488>>\n"
          ],
          "name": "stdout"
        }
      ]
    },
    {
      "cell_type": "markdown",
      "metadata": {
        "id": "twLTuwKezIgg",
        "colab_type": "text"
      },
      "source": [
        "## 6. 进程锁 Lock\n",
        "\n",
        "在没上锁的多进程运算中，各个进程会“抢夺”共享内存的变量。为了避免计算在“抢夺”中出错，要用进程锁Lock锁住处理共享变量的计算部分。"
      ]
    },
    {
      "cell_type": "code",
      "metadata": {
        "id": "CmHofowauQvz",
        "colab_type": "code",
        "colab": {
          "base_uri": "https://localhost:8080/",
          "height": 52
        },
        "outputId": "a4a3600c-6dbd-42fe-a22d-68cf38f7a9b7"
      },
      "source": [
        "import multiprocessing as mp\n",
        "\n",
        "BALANCE_1 = mp.Value('i', 0)\n",
        "BALANCE_2 = mp.Value('i', 0)\n",
        "lock = mp.Lock()\n",
        "\n",
        "def change_without_lock(n):\n",
        "    for i in range(1000000):\n",
        "        BALANCE_1.value += n\n",
        "        BALANCE_1.value -= n\n",
        "\n",
        "def change_with_lock(n):\n",
        "    lock.acquire()\n",
        "    for i in range(1000000):\n",
        "        BALANCE_2.value += n\n",
        "        BALANCE_2.value -= n\n",
        "    lock.release()\n",
        "\n",
        "if __name__ == '__main__':\n",
        "    p1 = mp.Process(target=change_without_lock, args=(8,))\n",
        "    p2 = mp.Process(target=change_without_lock, args=(10,))\n",
        "    p1.start()\n",
        "    p2.start()\n",
        "    p1.join()\n",
        "    p2.join()\n",
        "    p3 = mp.Process(target=change_with_lock, args=(8,))\n",
        "    p4 = mp.Process(target=change_with_lock, args=(10,))\n",
        "    p3.start()\n",
        "    p4.start()\n",
        "    p3.join()\n",
        "    p4.join()\n",
        "    print(f'without lock: {BALANCE_1.value}')\n",
        "    print(f'with lock: {BALANCE_2.value}')"
      ],
      "execution_count": 5,
      "outputs": [
        {
          "output_type": "stream",
          "text": [
            "without lock: 982\n",
            "with lock: 0\n"
          ],
          "name": "stdout"
        }
      ]
    },
    {
      "cell_type": "markdown",
      "metadata": {
        "id": "WNJSGget39cn",
        "colab_type": "text"
      },
      "source": [
        "这个计算结果很诡异，可能跟Google Colab的运算机制有关系。"
      ]
    }
  ]
}