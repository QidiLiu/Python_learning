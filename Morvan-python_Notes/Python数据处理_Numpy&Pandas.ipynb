{
  "nbformat": 4,
  "nbformat_minor": 0,
  "metadata": {
    "colab": {
      "name": "Python数据处理_Numpy&Pandas.ipynb",
      "provenance": [],
      "authorship_tag": "ABX9TyOgli07hsTXCGU9AgMd62EV",
      "include_colab_link": true
    },
    "kernelspec": {
      "name": "python3",
      "display_name": "Python 3"
    }
  },
  "cells": [
    {
      "cell_type": "markdown",
      "metadata": {
        "id": "view-in-github",
        "colab_type": "text"
      },
      "source": [
        "<a href=\"https://colab.research.google.com/github/QidiLiu/Python_learning/blob/master/Morvan-python_Notes/Python%E6%95%B0%E6%8D%AE%E5%A4%84%E7%90%86_Numpy%26Pandas.ipynb\" target=\"_parent\"><img src=\"https://colab.research.google.com/assets/colab-badge.svg\" alt=\"Open In Colab\"/></a>"
      ]
    },
    {
      "cell_type": "markdown",
      "metadata": {
        "id": "4ZqcM_qPpsgl",
        "colab_type": "text"
      },
      "source": [
        "# Python数据处理 - Numpy&Pandas\n",
        "\n",
        "## 1. Numpy & Pandas 简介\n",
        "\n",
        "### 1.1 介绍\n",
        "**NumPy**是使用Python进行科学计算的基本软件包。\n",
        "\n",
        "它包含以下内容：\n",
        "- 强大的N维数组对象\n",
        "- 复杂的（广播）函数\n",
        "- 集成C/C++和Fortran代码的工具\n",
        "- 有用的线性代数，傅立叶变换和随机数功能\n",
        "\n",
        "**Pandas**是为Python编程语言编写的用于数据处理和分析的软件库。它提供了用于操纵数值表和时间序列的数据结构和操作。\n",
        "\n",
        "Numpy和Pandas的**优势**：\n",
        "- 运算速度快\n",
        "- 消耗资源少\n",
        "- 业界通用\n",
        "\n",
        "### 1.2 安装\n",
        "\n",
        "Terminal/Powershell执行：\n",
        "\n",
        "```\n",
        "pip install numpy //Windows or MacOS\n",
        "pip install pandas //Windows or MacOS\n",
        "sudo apt-get install python-numpy //Linux\n",
        "sudo apt-get install python-pandas //Linux\n",
        "```\n",
        "\n",
        "## 2. Numpy 学习\n",
        "\n",
        "### 2.1 Numpy 属性\n",
        "\n",
        "引用numpy常简写为np"
      ]
    },
    {
      "cell_type": "code",
      "metadata": {
        "id": "Es5tS3mtoD1a",
        "colab_type": "code",
        "colab": {
          "base_uri": "https://localhost:8080/",
          "height": 52
        },
        "outputId": "5e596f68-d010-4e3c-e5d7-0e7222735c4d"
      },
      "source": [
        "import numpy as np\n",
        "\n",
        "array = np.array([[1,2,3], [2,3,4]])\n",
        "print(array)\n",
        "def show_info(array):\n",
        "    print(f'number of dim: {array.ndim}')\n",
        "    print(f'shape: {array.shape}')\n",
        "    print(f'size: {array.size}')"
      ],
      "execution_count": 1,
      "outputs": [
        {
          "output_type": "stream",
          "text": [
            "[[1 2 3]\n",
            " [2 3 4]]\n"
          ],
          "name": "stdout"
        }
      ]
    },
    {
      "cell_type": "markdown",
      "metadata": {
        "id": "g1rS0zDtvvEB",
        "colab_type": "text"
      },
      "source": [
        "### 2.2 创建数组对象array\n",
        "\n",
        "dtype代表数组对象的格式"
      ]
    },
    {
      "cell_type": "code",
      "metadata": {
        "id": "wPvYIwWXvteD",
        "colab_type": "code",
        "colab": {
          "base_uri": "https://localhost:8080/",
          "height": 52
        },
        "outputId": "c2483bb7-0677-459b-f9d2-332fac7dcb98"
      },
      "source": [
        "a = np.array([2,23,4])\n",
        "print(a.dtype)\n",
        "\n",
        "b = np.array([2,2.2,3.1415926])\n",
        "print(b.dtype)"
      ],
      "execution_count": 2,
      "outputs": [
        {
          "output_type": "stream",
          "text": [
            "int64\n",
            "float64\n"
          ],
          "name": "stdout"
        }
      ]
    },
    {
      "cell_type": "markdown",
      "metadata": {
        "id": "zGP6uvA7y3YP",
        "colab_type": "text"
      },
      "source": [
        "表示多维数组就要“套娃”，如下所示的three_dim_array是一个三维数组"
      ]
    },
    {
      "cell_type": "code",
      "metadata": {
        "id": "HVxohLUvwSsz",
        "colab_type": "code",
        "colab": {
          "base_uri": "https://localhost:8080/",
          "height": 69
        },
        "outputId": "3549089b-7207-460e-9ebb-fdd5788fdc9d"
      },
      "source": [
        "three_dim_array = np.array([[[1,2,3],[4,5,6],[7,8,9]], [[10,11,12],[13,14,15],[16,17,18]], [[19,20,21],[22,23,24],[25,26,27]]])\n",
        "show_info(three_dim_array)"
      ],
      "execution_count": 3,
      "outputs": [
        {
          "output_type": "stream",
          "text": [
            "number of dim: 3\n",
            "shape: (3, 3, 3)\n",
            "size: 27\n"
          ],
          "name": "stdout"
        }
      ]
    },
    {
      "cell_type": "code",
      "metadata": {
        "id": "O3xUGPzB3Ocv",
        "colab_type": "code",
        "colab": {}
      },
      "source": [
        ""
      ],
      "execution_count": 0,
      "outputs": []
    }
  ]
}