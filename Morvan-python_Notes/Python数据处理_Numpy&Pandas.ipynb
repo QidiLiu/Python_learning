{
  "nbformat": 4,
  "nbformat_minor": 0,
  "metadata": {
    "colab": {
      "name": "Python数据处理_Numpy&Pandas.ipynb",
      "provenance": [],
      "authorship_tag": "ABX9TyMT6dUrjoBwGO5As9o0Usu+",
      "include_colab_link": true
    },
    "kernelspec": {
      "name": "python3",
      "display_name": "Python 3"
    }
  },
  "cells": [
    {
      "cell_type": "markdown",
      "metadata": {
        "id": "view-in-github",
        "colab_type": "text"
      },
      "source": [
        "<a href=\"https://colab.research.google.com/github/QidiLiu/Python_learning/blob/master/Morvan-python_Notes/Python%E6%95%B0%E6%8D%AE%E5%A4%84%E7%90%86_Numpy%26Pandas.ipynb\" target=\"_parent\"><img src=\"https://colab.research.google.com/assets/colab-badge.svg\" alt=\"Open In Colab\"/></a>"
      ]
    },
    {
      "cell_type": "markdown",
      "metadata": {
        "id": "4ZqcM_qPpsgl",
        "colab_type": "text"
      },
      "source": [
        "# Python数据处理 - Numpy&Pandas\n",
        "\n",
        "## 1. Numpy & Pandas 简介\n",
        "\n",
        "### 1.1 介绍\n",
        "**NumPy**是使用Python进行科学计算的基本软件包。\n",
        "\n",
        "它包含以下内容：\n",
        "- 强大的N维数组对象\n",
        "- 复杂的（广播）函数\n",
        "- 集成C/C++和Fortran代码的工具\n",
        "- 有用的线性代数，傅立叶变换和随机数功能\n",
        "\n",
        "**Pandas**是为Python编程语言编写的用于数据处理和分析的软件库。它提供了用于操纵数值表和时间序列的数据结构和操作。\n",
        "\n",
        "Numpy和Pandas的**优势**：\n",
        "- 运算速度快\n",
        "- 消耗资源少\n",
        "- 业界通用\n",
        "\n",
        "### 1.2 安装\n",
        "\n",
        "Terminal/Powershell执行：\n",
        "\n",
        "```\n",
        "pip install numpy //Windows or MacOS\n",
        "pip install pandas //Windows or MacOS\n",
        "sudo apt-get install python-numpy //Linux\n",
        "sudo apt-get install python-pandas //Linux\n",
        "```\n",
        "\n",
        "## 2. Numpy 学习\n",
        "\n",
        "### 2.1 Numpy 属性\n",
        "\n",
        "引用numpy常简写为np"
      ]
    },
    {
      "cell_type": "code",
      "metadata": {
        "id": "Es5tS3mtoD1a",
        "colab_type": "code",
        "outputId": "2fe84899-7834-489a-bb32-0015affc27c8",
        "colab": {
          "base_uri": "https://localhost:8080/",
          "height": 53
        }
      },
      "source": [
        "import numpy as np\n",
        "\n",
        "array = np.array([[1,2,3], [2,3,4]])\n",
        "print(array)\n",
        "def show_info(array):\n",
        "    print(f'number of dim: {array.ndim}')\n",
        "    print(f'shape: {array.shape}')\n",
        "    print(f'size: {array.size}')"
      ],
      "execution_count": 1,
      "outputs": [
        {
          "output_type": "stream",
          "text": [
            "[[1 2 3]\n",
            " [2 3 4]]\n"
          ],
          "name": "stdout"
        }
      ]
    },
    {
      "cell_type": "markdown",
      "metadata": {
        "id": "g1rS0zDtvvEB",
        "colab_type": "text"
      },
      "source": [
        "### 2.2 创建数组对象array\n",
        "\n",
        "关键字：\n",
        "- array: 创建数组\n",
        "- dtype: 指定数据类型\n",
        "- zeros: 创建数据全部为0\n",
        "- ones: 创建数据全部为1\n",
        "- empty: 创建数据接近0\n",
        "- arrange: 按指定范围创建数据\n",
        "- linspace: 创建均分线段\n",
        "\n",
        "dtype代表数组对象的数据类型↓↓↓"
      ]
    },
    {
      "cell_type": "code",
      "metadata": {
        "id": "wPvYIwWXvteD",
        "colab_type": "code",
        "outputId": "a8d36a3a-444f-428f-e103-31ceb07a22b7",
        "colab": {
          "base_uri": "https://localhost:8080/",
          "height": 53
        }
      },
      "source": [
        "a = np.array([2,23,4])\n",
        "print(a.dtype)\n",
        "\n",
        "b = np.array([2,2.2,3.1415926])\n",
        "print(b.dtype)"
      ],
      "execution_count": 2,
      "outputs": [
        {
          "output_type": "stream",
          "text": [
            "int64\n",
            "float64\n"
          ],
          "name": "stdout"
        }
      ]
    },
    {
      "cell_type": "markdown",
      "metadata": {
        "id": "zGP6uvA7y3YP",
        "colab_type": "text"
      },
      "source": [
        "表示多维数组就要“套娃”，如下所示的three_dim_array是一个三维数组"
      ]
    },
    {
      "cell_type": "code",
      "metadata": {
        "id": "HVxohLUvwSsz",
        "colab_type": "code",
        "outputId": "d4a1a118-b2ba-43dc-8cba-ac0818369f86",
        "colab": {
          "base_uri": "https://localhost:8080/",
          "height": 71
        }
      },
      "source": [
        "three_dim_array = np.array([[[1,2,3],[4,5,6],[7,8,9]], [[10,11,12],[13,14,15],[16,17,18]], [[19,20,21],[22,23,24],[25,26,27]]])\n",
        "show_info(three_dim_array)"
      ],
      "execution_count": 3,
      "outputs": [
        {
          "output_type": "stream",
          "text": [
            "number of dim: 3\n",
            "shape: (3, 3, 3)\n",
            "size: 27\n"
          ],
          "name": "stdout"
        }
      ]
    },
    {
      "cell_type": "markdown",
      "metadata": {
        "id": "u1gKIAx0No4k",
        "colab_type": "text"
      },
      "source": [
        "创建全零数组"
      ]
    },
    {
      "cell_type": "code",
      "metadata": {
        "id": "O3xUGPzB3Ocv",
        "colab_type": "code",
        "outputId": "1c1fb7a2-822c-452b-ef51-35b9526f4922",
        "colab": {
          "base_uri": "https://localhost:8080/",
          "height": 71
        }
      },
      "source": [
        "z = np.zeros((3,4))\n",
        "print(z)"
      ],
      "execution_count": 4,
      "outputs": [
        {
          "output_type": "stream",
          "text": [
            "[[0. 0. 0. 0.]\n",
            " [0. 0. 0. 0.]\n",
            " [0. 0. 0. 0.]]\n"
          ],
          "name": "stdout"
        }
      ]
    },
    {
      "cell_type": "markdown",
      "metadata": {
        "id": "7hT0IaYqOChu",
        "colab_type": "text"
      },
      "source": [
        "创建全空数组"
      ]
    },
    {
      "cell_type": "code",
      "metadata": {
        "id": "UcxCEHNBN-WI",
        "colab_type": "code",
        "outputId": "203a2fed-68af-4565-cb3a-dcc354f01596",
        "colab": {
          "base_uri": "https://localhost:8080/",
          "height": 53
        }
      },
      "source": [
        "e = np.empty((2,3))\n",
        "print(e)"
      ],
      "execution_count": 5,
      "outputs": [
        {
          "output_type": "stream",
          "text": [
            "[[1.92533034e-316 0.00000000e+000 0.00000000e+000]\n",
            " [0.00000000e+000 0.00000000e+000 0.00000000e+000]]\n"
          ],
          "name": "stdout"
        }
      ]
    },
    {
      "cell_type": "markdown",
      "metadata": {
        "id": "8NYT54t6ORfd",
        "colab_type": "text"
      },
      "source": [
        "创建连续数组"
      ]
    },
    {
      "cell_type": "code",
      "metadata": {
        "id": "XQ2dQvmeOPQi",
        "colab_type": "code",
        "outputId": "d7790a20-ce43-4fb4-fed3-f16f207502bd",
        "colab": {
          "base_uri": "https://localhost:8080/",
          "height": 35
        }
      },
      "source": [
        "ar = np.arange(10,21,2) # 10-21的数据，步长为2\n",
        "print(ar)"
      ],
      "execution_count": 6,
      "outputs": [
        {
          "output_type": "stream",
          "text": [
            "[10 12 14 16 18 20]\n"
          ],
          "name": "stdout"
        }
      ]
    },
    {
      "cell_type": "markdown",
      "metadata": {
        "id": "RXqpWrahOtJA",
        "colab_type": "text"
      },
      "source": [
        "使用reshape改变数据形状"
      ]
    },
    {
      "cell_type": "code",
      "metadata": {
        "id": "15-WQGFKOjd_",
        "colab_type": "code",
        "outputId": "a9e25787-f09a-4981-f9d4-7ba78e881656",
        "colab": {
          "base_uri": "https://localhost:8080/",
          "height": 89
        }
      },
      "source": [
        "print(f'数组ar的原型: {ar}')\n",
        "print(f'数组ar变为2行3列: \\n{ar.reshape((2,3))}')"
      ],
      "execution_count": 7,
      "outputs": [
        {
          "output_type": "stream",
          "text": [
            "数组ar的原型: [10 12 14 16 18 20]\n",
            "数组ar变为2行3列: \n",
            "[[10 12 14]\n",
            " [16 18 20]]\n"
          ],
          "name": "stdout"
        }
      ]
    },
    {
      "cell_type": "markdown",
      "metadata": {
        "id": "wI2uMmGKPnBJ",
        "colab_type": "text"
      },
      "source": [
        "用linspace创建均分线段，与arange不同的是，第三个参数指分成几个数（段数+1）"
      ]
    },
    {
      "cell_type": "code",
      "metadata": {
        "id": "00GR_QR4PSBm",
        "colab_type": "code",
        "outputId": "b1d37e9f-c315-4448-95cb-e02017ec44d3",
        "colab": {
          "base_uri": "https://localhost:8080/",
          "height": 35
        }
      },
      "source": [
        "lin = np.linspace(10,21,6)\n",
        "print(lin)"
      ],
      "execution_count": 8,
      "outputs": [
        {
          "output_type": "stream",
          "text": [
            "[10.  12.2 14.4 16.6 18.8 21. ]\n"
          ],
          "name": "stdout"
        }
      ]
    },
    {
      "cell_type": "markdown",
      "metadata": {
        "id": "oE5Qsic_Qecf",
        "colab_type": "text"
      },
      "source": [
        "也能用reshape重塑"
      ]
    },
    {
      "cell_type": "code",
      "metadata": {
        "id": "X56CWVoqQJcF",
        "colab_type": "code",
        "outputId": "835c5902-3c6a-412f-bc3f-8baffdc23d21",
        "colab": {
          "base_uri": "https://localhost:8080/",
          "height": 89
        }
      },
      "source": [
        "print(f'数组lin的原型: {lin}')\n",
        "print(f'数组lin变为2行3列: \\n{lin.reshape((2,3))}')"
      ],
      "execution_count": 9,
      "outputs": [
        {
          "output_type": "stream",
          "text": [
            "数组lin的原型: [10.  12.2 14.4 16.6 18.8 21. ]\n",
            "数组lin变为2行3列: \n",
            "[[10.  12.2 14.4]\n",
            " [16.6 18.8 21. ]]\n"
          ],
          "name": "stdout"
        }
      ]
    },
    {
      "cell_type": "markdown",
      "metadata": {
        "id": "AXPmkitPRJfw",
        "colab_type": "text"
      },
      "source": [
        "### 2.3 Numpy 基础运算\n",
        "\n",
        "#### 元素运算\n",
        "\n",
        "形状相同的两个数组可做元素加减乘除运算。元素的几次方用双星符号**实现。"
      ]
    },
    {
      "cell_type": "code",
      "metadata": {
        "id": "xJXm5Q8rQo-u",
        "colab_type": "code",
        "outputId": "df7e4bc6-2b57-44cf-e30b-f287da6013d5",
        "colab": {
          "base_uri": "https://localhost:8080/",
          "height": 395
        }
      },
      "source": [
        "a = np.array([[1,2,3],[4,5,6]])\n",
        "b = np.array([[4,5,6],[7,8,9]])\n",
        "print(f'a:\\n{a}')\n",
        "print(f'b:\\n{b}')\n",
        "print(f'a+b:\\n{a+b}')\n",
        "print(f'b-a:\\n{b-a}')\n",
        "print(f'a*b:\\n{a*b}')\n",
        "print(f'b/a:\\n{b/a}')\n",
        "print(f'a**2:\\n{a**2}')"
      ],
      "execution_count": 10,
      "outputs": [
        {
          "output_type": "stream",
          "text": [
            "a:\n",
            "[[1 2 3]\n",
            " [4 5 6]]\n",
            "b:\n",
            "[[4 5 6]\n",
            " [7 8 9]]\n",
            "a+b:\n",
            "[[ 5  7  9]\n",
            " [11 13 15]]\n",
            "b-a:\n",
            "[[3 3 3]\n",
            " [3 3 3]]\n",
            "a*b:\n",
            "[[ 4 10 18]\n",
            " [28 40 54]]\n",
            "b/a:\n",
            "[[4.   2.5  2.  ]\n",
            " [1.75 1.6  1.5 ]]\n",
            "a**2:\n",
            "[[ 1  4  9]\n",
            " [16 25 36]]\n"
          ],
          "name": "stdout"
        }
      ]
    },
    {
      "cell_type": "markdown",
      "metadata": {
        "id": "BD9J7DoZVmYz",
        "colab_type": "text"
      },
      "source": [
        "Numpy中还自带一些[基本运算函数](https://www.numpy.org.cn/reference/routines/math.html#%E4%B8%89%E8%A7%92%E5%87%BD%E6%95%B0)，比如np.sin()"
      ]
    },
    {
      "cell_type": "code",
      "metadata": {
        "id": "H4-l44-pVXnB",
        "colab_type": "code",
        "outputId": "5bcb0576-b233-4d0c-c60c-b86ed3b4e6f0",
        "colab": {
          "base_uri": "https://localhost:8080/",
          "height": 53
        }
      },
      "source": [
        "c = 10*np.sin(a)\n",
        "print(f'c: {c}')"
      ],
      "execution_count": 11,
      "outputs": [
        {
          "output_type": "stream",
          "text": [
            "c: [[ 8.41470985  9.09297427  1.41120008]\n",
            " [-7.56802495 -9.58924275 -2.79415498]]\n"
          ],
          "name": "stdout"
        }
      ]
    },
    {
      "cell_type": "markdown",
      "metadata": {
        "id": "05hTGM6MXGAL",
        "colab_type": "text"
      },
      "source": [
        "矩阵乘法（叉乘）在线性代数运算中经常用到，注意此处与matlab表达方式正好相反。在Python中，np.dot()表示叉乘，而默认的*表示点乘（即元素相乘）。"
      ]
    },
    {
      "cell_type": "code",
      "metadata": {
        "id": "qXU4ivm7WfJP",
        "colab_type": "code",
        "outputId": "1f933322-fafb-4abf-db44-b07809d3400a",
        "colab": {
          "base_uri": "https://localhost:8080/",
          "height": 197
        }
      },
      "source": [
        "print(f'a:\\n{a}')\n",
        "print(f'b:\\n{b.reshape(3,2)}') # 注意矩阵乘法的条件\n",
        "print(f'a·b:\\n{np.dot(a,b.reshape(3,2))}')"
      ],
      "execution_count": 12,
      "outputs": [
        {
          "output_type": "stream",
          "text": [
            "a:\n",
            "[[1 2 3]\n",
            " [4 5 6]]\n",
            "b:\n",
            "[[4 5]\n",
            " [6 7]\n",
            " [8 9]]\n",
            "a·b:\n",
            "[[ 40  46]\n",
            " [ 94 109]]\n"
          ],
          "name": "stdout"
        }
      ]
    },
    {
      "cell_type": "markdown",
      "metadata": {
        "id": "Pk14h7BpYf_8",
        "colab_type": "text"
      },
      "source": [
        "元素求总和，最大值，最小值"
      ]
    },
    {
      "cell_type": "code",
      "metadata": {
        "id": "bJykf_VQYRY0",
        "colab_type": "code",
        "outputId": "6ffb5c35-a5fd-494c-826e-0fb67971a986",
        "colab": {
          "base_uri": "https://localhost:8080/",
          "height": 107
        }
      },
      "source": [
        "print(a)\n",
        "print(f'元素总和：{np.sum(a)}')\n",
        "print(f'最大值：{np.max(a)}')\n",
        "print(f'最小值：{np.min(a)}')"
      ],
      "execution_count": 13,
      "outputs": [
        {
          "output_type": "stream",
          "text": [
            "[[1 2 3]\n",
            " [4 5 6]]\n",
            "元素总和：21\n",
            "最大值：6\n",
            "最小值：1\n"
          ],
          "name": "stdout"
        }
      ]
    },
    {
      "cell_type": "markdown",
      "metadata": {
        "id": "7pUaXlD5Z2dh",
        "colab_type": "text"
      },
      "source": [
        "找到最大最小值的索引可以用argmax()和argmin()"
      ]
    },
    {
      "cell_type": "code",
      "metadata": {
        "id": "ngFBbBoSZEzO",
        "colab_type": "code",
        "outputId": "b8dc12db-6a17-4e2f-b1cf-bdb62220b701",
        "colab": {
          "base_uri": "https://localhost:8080/",
          "height": 89
        }
      },
      "source": [
        "print(a)\n",
        "print(f'最大值索引：{np.argmax(a)}')\n",
        "print(f'最小值索引：{np.argmin(a)}')"
      ],
      "execution_count": 14,
      "outputs": [
        {
          "output_type": "stream",
          "text": [
            "[[1 2 3]\n",
            " [4 5 6]]\n",
            "最大值索引：5\n",
            "最小值索引：0\n"
          ],
          "name": "stdout"
        }
      ]
    },
    {
      "cell_type": "markdown",
      "metadata": {
        "id": "4v0jaJ8Ubc3Z",
        "colab_type": "text"
      },
      "source": [
        "求均值可以用np.mean()或np.average()实现，其中np.average()可以通过加参数实现加权平均值的求解。"
      ]
    },
    {
      "cell_type": "code",
      "metadata": {
        "id": "EA1rukaWa3g-",
        "colab_type": "code",
        "outputId": "e3bb0f80-3d5a-47cc-be73-b793ef69c4fd",
        "colab": {
          "base_uri": "https://localhost:8080/",
          "height": 89
        }
      },
      "source": [
        "print(a)\n",
        "print(f'平均值：{np.mean(a)}')\n",
        "print(f'加权平均值：{np.average(a, weights=b)}') # 以b数组为权重"
      ],
      "execution_count": 15,
      "outputs": [
        {
          "output_type": "stream",
          "text": [
            "[[1 2 3]\n",
            " [4 5 6]]\n",
            "平均值：3.5\n",
            "加权平均值：3.948717948717949\n"
          ],
          "name": "stdout"
        }
      ]
    },
    {
      "cell_type": "markdown",
      "metadata": {
        "id": "qBAdLiLHcuMX",
        "colab_type": "text"
      },
      "source": [
        "类似于matlab中的累加函数cumsum(),numpy中也有np.cumsum()，生成的每一项元素都是从首项开始累加到对映项的元素之和"
      ]
    },
    {
      "cell_type": "code",
      "metadata": {
        "id": "-HgXyn-xcTck",
        "colab_type": "code",
        "outputId": "4d990eaf-e02c-415b-8fea-24ee8d716113",
        "colab": {
          "base_uri": "https://localhost:8080/",
          "height": 71
        }
      },
      "source": [
        "print(a)\n",
        "print(f'累加和：{np.cumsum(a)}')"
      ],
      "execution_count": 16,
      "outputs": [
        {
          "output_type": "stream",
          "text": [
            "[[1 2 3]\n",
            " [4 5 6]]\n",
            "累加和：[ 1  3  6 10 15 21]\n"
          ],
          "name": "stdout"
        }
      ]
    },
    {
      "cell_type": "markdown",
      "metadata": {
        "id": "bmrmdpi2eLMR",
        "colab_type": "text"
      },
      "source": [
        "计算相邻元素之间的差用np.diff()"
      ]
    },
    {
      "cell_type": "code",
      "metadata": {
        "id": "FWPw9wZidtcH",
        "colab_type": "code",
        "outputId": "0f1755d3-b165-4d53-a672-d246d647adc3",
        "colab": {
          "base_uri": "https://localhost:8080/",
          "height": 107
        }
      },
      "source": [
        "print(a)\n",
        "print(f'相邻差：\\n{np.diff(a)}')"
      ],
      "execution_count": 17,
      "outputs": [
        {
          "output_type": "stream",
          "text": [
            "[[1 2 3]\n",
            " [4 5 6]]\n",
            "相邻差：\n",
            "[[1 1]\n",
            " [1 1]]\n"
          ],
          "name": "stdout"
        }
      ]
    },
    {
      "cell_type": "markdown",
      "metadata": {
        "id": "Xm35YFPbn5K8",
        "colab_type": "text"
      },
      "source": [
        "np.nonzero()返回两个数组，分别装着输入数组中所有非零元素的坐标，前一个装行数，后一个装位数"
      ]
    },
    {
      "cell_type": "code",
      "metadata": {
        "id": "SwO4muDmeYqk",
        "colab_type": "code",
        "outputId": "346b0bfe-744c-4e19-8d98-6b5ac26e9faa",
        "colab": {
          "base_uri": "https://localhost:8080/",
          "height": 89
        }
      },
      "source": [
        "nz = np.array([[0,1,0], [1,0,0]])\n",
        "print(nz)\n",
        "print(f'非零元素位置：\\n{np.nonzero(nz)}')"
      ],
      "execution_count": 18,
      "outputs": [
        {
          "output_type": "stream",
          "text": [
            "[[0 1 0]\n",
            " [1 0 0]]\n",
            "非零元素位置：\n",
            "(array([0, 1]), array([1, 0]))\n"
          ],
          "name": "stdout"
        }
      ]
    },
    {
      "cell_type": "markdown",
      "metadata": {
        "id": "gs8IJXxYo85m",
        "colab_type": "text"
      },
      "source": [
        "转置函数np.transpose(),还有个更简洁的表达方法a.T"
      ]
    },
    {
      "cell_type": "code",
      "metadata": {
        "id": "tLBqDTfKoszP",
        "colab_type": "code",
        "outputId": "67e4bef7-bd5c-4636-a70b-209a2ab671ef",
        "colab": {
          "base_uri": "https://localhost:8080/",
          "height": 197
        }
      },
      "source": [
        "print(a)\n",
        "print(f'转置后：\\n{np.transpose(a)}\\n或者：\\n{a.T}')"
      ],
      "execution_count": 19,
      "outputs": [
        {
          "output_type": "stream",
          "text": [
            "[[1 2 3]\n",
            " [4 5 6]]\n",
            "转置后：\n",
            "[[1 4]\n",
            " [2 5]\n",
            " [3 6]]\n",
            "或者：\n",
            "[[1 4]\n",
            " [2 5]\n",
            " [3 6]]\n"
          ],
          "name": "stdout"
        }
      ]
    },
    {
      "cell_type": "markdown",
      "metadata": {
        "id": "GMfG2HYNp3GC",
        "colab_type": "text"
      },
      "source": [
        "np.clip()函数可将元素转为某个指定范围内（掐头去尾）"
      ]
    },
    {
      "cell_type": "code",
      "metadata": {
        "id": "pp7JQT0Lpe_I",
        "colab_type": "code",
        "outputId": "7ffcd6c7-dab7-467c-8075-4af653a2ab5b",
        "colab": {
          "base_uri": "https://localhost:8080/",
          "height": 107
        }
      },
      "source": [
        "print(a)\n",
        "print(f'限制区间后：\\n{np.clip(a,3,5)}')"
      ],
      "execution_count": 20,
      "outputs": [
        {
          "output_type": "stream",
          "text": [
            "[[1 2 3]\n",
            " [4 5 6]]\n",
            "限制区间后：\n",
            "[[3 3 3]\n",
            " [4 5 5]]\n"
          ],
          "name": "stdout"
        }
      ]
    },
    {
      "cell_type": "markdown",
      "metadata": {
        "id": "OnzZliH0qN67",
        "colab_type": "text"
      },
      "source": [
        "### 2.4 Numpy 索引\n",
        "\n",
        "用法类似于列表对象list的坐标，用中括号表示。"
      ]
    },
    {
      "cell_type": "code",
      "metadata": {
        "id": "0A0nkaImJS7U",
        "colab_type": "code",
        "colab": {
          "base_uri": "https://localhost:8080/",
          "height": 143
        },
        "outputId": "146d6c84-8c41-421a-b0ea-018cfe425bf9"
      },
      "source": [
        "A = np.arange(3, 15).reshape((3,4))\n",
        "print(A)\n",
        "print(A[2])\n",
        "print(A[2][1]) # 相当于先单独找出行A[2]，再从本行中找出元素A[2][1]\n",
        "print(A[2, 1]) # 以矩阵位置的形式找元素，效果一样\n",
        "print(A[0]) # 注意，Python中的索引从0开始"
      ],
      "execution_count": 21,
      "outputs": [
        {
          "output_type": "stream",
          "text": [
            "[[ 3  4  5  6]\n",
            " [ 7  8  9 10]\n",
            " [11 12 13 14]]\n",
            "[11 12 13 14]\n",
            "12\n",
            "12\n",
            "[3 4 5 6]\n"
          ],
          "name": "stdout"
        }
      ]
    },
    {
      "cell_type": "markdown",
      "metadata": {
        "id": "jROrJFhQKhDU",
        "colab_type": "text"
      },
      "source": [
        "与list对象一致的是，用冒号（英文）可表示某一范围这个操作也叫“切片”。"
      ]
    },
    {
      "cell_type": "code",
      "metadata": {
        "id": "z_hcCeWQKIjK",
        "colab_type": "code",
        "colab": {
          "base_uri": "https://localhost:8080/",
          "height": 35
        },
        "outputId": "0fd112a1-36df-4337-df3a-6dd1c72d45cc"
      },
      "source": [
        "print(A[2, 1:3])"
      ],
      "execution_count": 22,
      "outputs": [
        {
          "output_type": "stream",
          "text": [
            "[12 13]\n"
          ],
          "name": "stdout"
        }
      ]
    },
    {
      "cell_type": "markdown",
      "metadata": {
        "id": "lw9bjKQ8LEpK",
        "colab_type": "text"
      },
      "source": [
        "展开函数flatten()与迭代器属性flat ([延伸阅读](https://blog.csdn.net/bubble_story/article/details/79531495))"
      ]
    },
    {
      "cell_type": "code",
      "metadata": {
        "id": "4CbXCDNjKxZZ",
        "colab_type": "code",
        "colab": {
          "base_uri": "https://localhost:8080/",
          "height": 305
        },
        "outputId": "d87fa50c-e376-4476-abfc-7fdf71ed2b12"
      },
      "source": [
        "print(A)\n",
        "print(A.flatten())\n",
        "for item in A.flat:\n",
        "    print(item)"
      ],
      "execution_count": 23,
      "outputs": [
        {
          "output_type": "stream",
          "text": [
            "[[ 3  4  5  6]\n",
            " [ 7  8  9 10]\n",
            " [11 12 13 14]]\n",
            "[ 3  4  5  6  7  8  9 10 11 12 13 14]\n",
            "3\n",
            "4\n",
            "5\n",
            "6\n",
            "7\n",
            "8\n",
            "9\n",
            "10\n",
            "11\n",
            "12\n",
            "13\n",
            "14\n"
          ],
          "name": "stdout"
        }
      ]
    },
    {
      "cell_type": "markdown",
      "metadata": {
        "id": "GMNHvOVzMODv",
        "colab_type": "text"
      },
      "source": [
        "### 2.5 Numpy array 合并\n",
        "\n",
        "- np.vstack() 按行进行上下合并\n",
        "- np.hstack() 按列进行左右合并"
      ]
    },
    {
      "cell_type": "code",
      "metadata": {
        "id": "qZEU9C0BLUVY",
        "colab_type": "code",
        "colab": {
          "base_uri": "https://localhost:8080/",
          "height": 71
        },
        "outputId": "d1dd6925-7f72-478b-d4fe-444cdfc4fc84"
      },
      "source": [
        "A = np.array([1, 1, 1])\n",
        "B = np.array([2, 2, 2])\n",
        "print(np.vstack((A, B))) # 注意这两种函数接的输入应该是含着所有待合并array的一个tuple对象\n",
        "print(np.hstack((A, B)))"
      ],
      "execution_count": 24,
      "outputs": [
        {
          "output_type": "stream",
          "text": [
            "[[1 1 1]\n",
            " [2 2 2]]\n",
            "[1 1 1 2 2 2]\n"
          ],
          "name": "stdout"
        }
      ]
    },
    {
      "cell_type": "markdown",
      "metadata": {
        "id": "oW_sF4WmOwVP",
        "colab_type": "text"
      },
      "source": [
        "numpy默认生成的单行或单列都是一维，一种有点奇怪的维度，会有个逗号显示第二维度的“1”不存在。"
      ]
    },
    {
      "cell_type": "code",
      "metadata": {
        "id": "i5Itud4nOMSZ",
        "colab_type": "code",
        "colab": {
          "base_uri": "https://localhost:8080/",
          "height": 53
        },
        "outputId": "8e8b7028-73f7-4a09-8b96-fa7595bad8c8"
      },
      "source": [
        "C = np.vstack((A, B))\n",
        "D = np.hstack((A, B))\n",
        "E = D.T\n",
        "print(D.shape)\n",
        "print(E.shape)"
      ],
      "execution_count": 25,
      "outputs": [
        {
          "output_type": "stream",
          "text": [
            "(6,)\n",
            "(6,)\n"
          ],
          "name": "stdout"
        }
      ]
    },
    {
      "cell_type": "markdown",
      "metadata": {
        "id": "t6Xn-alZPr-U",
        "colab_type": "text"
      },
      "source": [
        "因为有时我们需要对这种1维向量进行转置，np.array一维对象又不支持转置，所以我们需要用newaxis()给它加个维度（也是为了避免在计算时产生容易被忽视的Bug）。"
      ]
    },
    {
      "cell_type": "code",
      "metadata": {
        "id": "I9cpxxRsPlfB",
        "colab_type": "code",
        "colab": {
          "base_uri": "https://localhost:8080/",
          "height": 53
        },
        "outputId": "7860e153-6b6e-4d12-9f7f-d9bd0ab68418"
      },
      "source": [
        "D = D[np.newaxis, :]\n",
        "E = E[:, np.newaxis]\n",
        "print(D.shape)\n",
        "print(E.shape)"
      ],
      "execution_count": 26,
      "outputs": [
        {
          "output_type": "stream",
          "text": [
            "(1, 6)\n",
            "(6, 1)\n"
          ],
          "name": "stdout"
        }
      ]
    },
    {
      "cell_type": "markdown",
      "metadata": {
        "id": "_C5fc222Q3GA",
        "colab_type": "text"
      },
      "source": [
        "为了避免遗忘，最好在一开始就补上第二维度"
      ]
    },
    {
      "cell_type": "code",
      "metadata": {
        "id": "A4zH-mU7QvRj",
        "colab_type": "code",
        "colab": {
          "base_uri": "https://localhost:8080/",
          "height": 53
        },
        "outputId": "c845384c-4928-4bbb-978c-7e35a0a954dc"
      },
      "source": [
        "A = np.array([1, 1, 1])[np.newaxis, :]\n",
        "B = np.array([2, 2, 2])[np.newaxis, :]\n",
        "D = np.hstack((A, B))\n",
        "E = D.T\n",
        "print(D.shape)\n",
        "print(E.shape)"
      ],
      "execution_count": 27,
      "outputs": [
        {
          "output_type": "stream",
          "text": [
            "(1, 6)\n",
            "(6, 1)\n"
          ],
          "name": "stdout"
        }
      ]
    },
    {
      "cell_type": "markdown",
      "metadata": {
        "id": "L3DHTcawRwJ0",
        "colab_type": "text"
      },
      "source": [
        "在实践中，用np.concatenate()进行数组拼接更方便，传入参数：\n",
        "\n",
        "- 传入参数是一个多个数组的元组或列表\n",
        "- 需指定拼接方向，默认axis=0指按行进行上下拼接，也就是对0轴进行在1轴上的拼接\n",
        "\n",
        "（[本段来源/延伸阅读](https://blog.csdn.net/brucewong0516/article/details/79158758)）"
      ]
    },
    {
      "cell_type": "code",
      "metadata": {
        "id": "diZ9C-aDRSjz",
        "colab_type": "code",
        "colab": {
          "base_uri": "https://localhost:8080/",
          "height": 269
        },
        "outputId": "b74466c9-1321-4e74-a822-0f6470f499c7"
      },
      "source": [
        "print(A)\n",
        "print(B)\n",
        "print(C)\n",
        "F = np.concatenate((A,B,C,A))\n",
        "print(f'F\\n{F}')\n",
        "G = np.concatenate((A.T,B.T,C.T,A.T), axis=1)\n",
        "print(f'G\\n{G}')"
      ],
      "execution_count": 28,
      "outputs": [
        {
          "output_type": "stream",
          "text": [
            "[[1 1 1]]\n",
            "[[2 2 2]]\n",
            "[[1 1 1]\n",
            " [2 2 2]]\n",
            "F\n",
            "[[1 1 1]\n",
            " [2 2 2]\n",
            " [1 1 1]\n",
            " [2 2 2]\n",
            " [1 1 1]]\n",
            "G\n",
            "[[1 2 1 2 1]\n",
            " [1 2 1 2 1]\n",
            " [1 2 1 2 1]]\n"
          ],
          "name": "stdout"
        }
      ]
    },
    {
      "cell_type": "markdown",
      "metadata": {
        "id": "GRty-DbHU9rf",
        "colab_type": "text"
      },
      "source": [
        "### 2.6 Numpy array 分割"
      ]
    },
    {
      "cell_type": "code",
      "metadata": {
        "id": "gfwtK3_BUX4p",
        "colab_type": "code",
        "colab": {}
      },
      "source": [
        ""
      ],
      "execution_count": 0,
      "outputs": []
    }
  ]
}