{
  "nbformat": 4,
  "nbformat_minor": 0,
  "metadata": {
    "colab": {
      "name": "Python数据处理_Numpy&Pandas.ipynb",
      "provenance": [],
      "authorship_tag": "ABX9TyOXV2wGA2xKUwVXSFpDc0Ph",
      "include_colab_link": true
    },
    "kernelspec": {
      "name": "python3",
      "display_name": "Python 3"
    }
  },
  "cells": [
    {
      "cell_type": "markdown",
      "metadata": {
        "id": "view-in-github",
        "colab_type": "text"
      },
      "source": [
        "<a href=\"https://colab.research.google.com/github/QidiLiu/Python_learning/blob/master/Morvan-python_Notes/Python%E6%95%B0%E6%8D%AE%E5%A4%84%E7%90%86_Numpy%26Pandas.ipynb\" target=\"_parent\"><img src=\"https://colab.research.google.com/assets/colab-badge.svg\" alt=\"Open In Colab\"/></a>"
      ]
    },
    {
      "cell_type": "markdown",
      "metadata": {
        "id": "4ZqcM_qPpsgl",
        "colab_type": "text"
      },
      "source": [
        "# Python数据处理 - Numpy&Pandas\n",
        "\n",
        "## 1. Numpy & Pandas 简介\n",
        "\n",
        "### 1.1 介绍\n",
        "**NumPy**是使用Python进行科学计算的基本软件包。\n",
        "\n",
        "它包含以下内容：\n",
        "- 强大的N维数组对象\n",
        "- 复杂的（广播）函数\n",
        "- 集成C/C++和Fortran代码的工具\n",
        "- 有用的线性代数，傅立叶变换和随机数功能\n",
        "\n",
        "**Pandas**是为Python编程语言编写的用于数据处理和分析的软件库。它提供了用于操纵数值表和时间序列的数据结构和操作。\n",
        "\n",
        "Numpy和Pandas的**优势**：\n",
        "- 运算速度快\n",
        "- 消耗资源少\n",
        "- 业界通用\n",
        "\n",
        "### 1.2 安装\n",
        "\n",
        "Terminal/Powershell执行：\n",
        "\n",
        "```\n",
        "pip install numpy //Windows or MacOS\n",
        "pip install pandas //Windows or MacOS\n",
        "sudo apt-get install python-numpy //Linux\n",
        "sudo apt-get install python-pandas //Linux\n",
        "```\n",
        "\n",
        "## 2. Numpy 学习\n",
        "\n",
        "### 2.1 Numpy 属性\n",
        "\n",
        "引用numpy常简写为np"
      ]
    },
    {
      "cell_type": "code",
      "metadata": {
        "id": "Es5tS3mtoD1a",
        "colab_type": "code",
        "outputId": "1bb23cd5-e58c-4395-989e-d94c516be736",
        "colab": {
          "base_uri": "https://localhost:8080/",
          "height": 52
        }
      },
      "source": [
        "import numpy as np\n",
        "\n",
        "array = np.array([[1,2,3], [2,3,4]])\n",
        "print(array)\n",
        "def show_info(array):\n",
        "    print(f'number of dim: {array.ndim}')\n",
        "    print(f'shape: {array.shape}')\n",
        "    print(f'size: {array.size}')"
      ],
      "execution_count": 1,
      "outputs": [
        {
          "output_type": "stream",
          "text": [
            "[[1 2 3]\n",
            " [2 3 4]]\n"
          ],
          "name": "stdout"
        }
      ]
    },
    {
      "cell_type": "markdown",
      "metadata": {
        "id": "g1rS0zDtvvEB",
        "colab_type": "text"
      },
      "source": [
        "### 2.2 创建数组对象array\n",
        "\n",
        "关键字：\n",
        "- array: 创建数组\n",
        "- dtype: 指定数据类型\n",
        "- zeros: 创建数据全部为0\n",
        "- ones: 创建数据全部为1\n",
        "- empty: 创建数据接近0\n",
        "- arrange: 按指定范围创建数据\n",
        "- linspace: 创建均分线段\n",
        "\n",
        "dtype代表数组对象的数据类型↓↓↓"
      ]
    },
    {
      "cell_type": "code",
      "metadata": {
        "id": "wPvYIwWXvteD",
        "colab_type": "code",
        "outputId": "ead4e444-4529-439d-e2af-457613300a29",
        "colab": {
          "base_uri": "https://localhost:8080/",
          "height": 52
        }
      },
      "source": [
        "a = np.array([2,23,4])\n",
        "print(a.dtype)\n",
        "\n",
        "b = np.array([2,2.2,3.1415926])\n",
        "print(b.dtype)"
      ],
      "execution_count": 2,
      "outputs": [
        {
          "output_type": "stream",
          "text": [
            "int64\n",
            "float64\n"
          ],
          "name": "stdout"
        }
      ]
    },
    {
      "cell_type": "markdown",
      "metadata": {
        "id": "zGP6uvA7y3YP",
        "colab_type": "text"
      },
      "source": [
        "表示多维数组就要“套娃”，如下所示的three_dim_array是一个三维数组"
      ]
    },
    {
      "cell_type": "code",
      "metadata": {
        "id": "HVxohLUvwSsz",
        "colab_type": "code",
        "outputId": "cf549556-fe64-4b2b-cc80-387ada1d6f10",
        "colab": {
          "base_uri": "https://localhost:8080/",
          "height": 69
        }
      },
      "source": [
        "three_dim_array = np.array([[[1,2,3],[4,5,6],[7,8,9]], [[10,11,12],[13,14,15],[16,17,18]], [[19,20,21],[22,23,24],[25,26,27]]])\n",
        "show_info(three_dim_array)"
      ],
      "execution_count": 3,
      "outputs": [
        {
          "output_type": "stream",
          "text": [
            "number of dim: 3\n",
            "shape: (3, 3, 3)\n",
            "size: 27\n"
          ],
          "name": "stdout"
        }
      ]
    },
    {
      "cell_type": "markdown",
      "metadata": {
        "id": "u1gKIAx0No4k",
        "colab_type": "text"
      },
      "source": [
        "创建全零数组"
      ]
    },
    {
      "cell_type": "code",
      "metadata": {
        "id": "O3xUGPzB3Ocv",
        "colab_type": "code",
        "colab": {
          "base_uri": "https://localhost:8080/",
          "height": 69
        },
        "outputId": "f12d67e9-39c5-4825-dd65-706ffcdfd94f"
      },
      "source": [
        "z = np.zeros((3,4))\n",
        "print(z)"
      ],
      "execution_count": 4,
      "outputs": [
        {
          "output_type": "stream",
          "text": [
            "[[0. 0. 0. 0.]\n",
            " [0. 0. 0. 0.]\n",
            " [0. 0. 0. 0.]]\n"
          ],
          "name": "stdout"
        }
      ]
    },
    {
      "cell_type": "markdown",
      "metadata": {
        "id": "7hT0IaYqOChu",
        "colab_type": "text"
      },
      "source": [
        "创建全空数组"
      ]
    },
    {
      "cell_type": "code",
      "metadata": {
        "id": "UcxCEHNBN-WI",
        "colab_type": "code",
        "colab": {
          "base_uri": "https://localhost:8080/",
          "height": 52
        },
        "outputId": "ef67800e-25de-48e6-b34c-48ce0ef719af"
      },
      "source": [
        "e = np.empty((2,3))\n",
        "print(e)"
      ],
      "execution_count": 5,
      "outputs": [
        {
          "output_type": "stream",
          "text": [
            "[[1.2506422e-316 0.0000000e+000 0.0000000e+000]\n",
            " [0.0000000e+000 0.0000000e+000 0.0000000e+000]]\n"
          ],
          "name": "stdout"
        }
      ]
    },
    {
      "cell_type": "markdown",
      "metadata": {
        "id": "8NYT54t6ORfd",
        "colab_type": "text"
      },
      "source": [
        "创建连续数组"
      ]
    },
    {
      "cell_type": "code",
      "metadata": {
        "id": "XQ2dQvmeOPQi",
        "colab_type": "code",
        "colab": {
          "base_uri": "https://localhost:8080/",
          "height": 34
        },
        "outputId": "54e71c2a-2c40-4d03-cf9d-53c5da94b1f7"
      },
      "source": [
        "ar = np.arange(10,21,2) # 10-21的数据，步长为2\n",
        "print(ar)"
      ],
      "execution_count": 6,
      "outputs": [
        {
          "output_type": "stream",
          "text": [
            "[10 12 14 16 18 20]\n"
          ],
          "name": "stdout"
        }
      ]
    },
    {
      "cell_type": "markdown",
      "metadata": {
        "id": "RXqpWrahOtJA",
        "colab_type": "text"
      },
      "source": [
        "使用reshape改变数据形状"
      ]
    },
    {
      "cell_type": "code",
      "metadata": {
        "id": "15-WQGFKOjd_",
        "colab_type": "code",
        "colab": {
          "base_uri": "https://localhost:8080/",
          "height": 87
        },
        "outputId": "25a4fa33-80a3-4995-8467-13875dedd1b1"
      },
      "source": [
        "print(f'数组ar的原型: {ar}')\n",
        "print(f'数组ar变为2行3列: \\n{ar.reshape((2,3))}')"
      ],
      "execution_count": 7,
      "outputs": [
        {
          "output_type": "stream",
          "text": [
            "数组ar的原型: [10 12 14 16 18 20]\n",
            "数组ar变为2行3列: \n",
            "[[10 12 14]\n",
            " [16 18 20]]\n"
          ],
          "name": "stdout"
        }
      ]
    },
    {
      "cell_type": "markdown",
      "metadata": {
        "id": "wI2uMmGKPnBJ",
        "colab_type": "text"
      },
      "source": [
        "用linspace创建均分线段，与arange不同的是，第三个参数指分成几个数（段数+1）"
      ]
    },
    {
      "cell_type": "code",
      "metadata": {
        "id": "00GR_QR4PSBm",
        "colab_type": "code",
        "colab": {
          "base_uri": "https://localhost:8080/",
          "height": 34
        },
        "outputId": "4d4a0d13-c6fd-432d-f0ea-e9ce1fff567a"
      },
      "source": [
        "lin = np.linspace(10,21,6)\n",
        "print(lin)"
      ],
      "execution_count": 8,
      "outputs": [
        {
          "output_type": "stream",
          "text": [
            "[10.  12.2 14.4 16.6 18.8 21. ]\n"
          ],
          "name": "stdout"
        }
      ]
    },
    {
      "cell_type": "markdown",
      "metadata": {
        "id": "oE5Qsic_Qecf",
        "colab_type": "text"
      },
      "source": [
        "也能用reshape重塑"
      ]
    },
    {
      "cell_type": "code",
      "metadata": {
        "id": "X56CWVoqQJcF",
        "colab_type": "code",
        "colab": {
          "base_uri": "https://localhost:8080/",
          "height": 87
        },
        "outputId": "ee5f9994-bca1-467d-d97c-ab1bf318eab4"
      },
      "source": [
        "print(f'数组lin的原型: {lin}')\n",
        "print(f'数组lin变为2行3列: \\n{lin.reshape((2,3))}')"
      ],
      "execution_count": 9,
      "outputs": [
        {
          "output_type": "stream",
          "text": [
            "数组lin的原型: [10.  12.2 14.4 16.6 18.8 21. ]\n",
            "数组lin变为2行3列: \n",
            "[[10.  12.2 14.4]\n",
            " [16.6 18.8 21. ]]\n"
          ],
          "name": "stdout"
        }
      ]
    },
    {
      "cell_type": "markdown",
      "metadata": {
        "id": "AXPmkitPRJfw",
        "colab_type": "text"
      },
      "source": [
        "### 2.3 Numpy 基础运算\n",
        "\n",
        "#### 元素运算\n",
        "\n",
        "形状相同的两个数组可做元素加减乘除运算。元素的几次方用双星符号**实现。"
      ]
    },
    {
      "cell_type": "code",
      "metadata": {
        "id": "xJXm5Q8rQo-u",
        "colab_type": "code",
        "colab": {
          "base_uri": "https://localhost:8080/",
          "height": 384
        },
        "outputId": "15394ed2-ab72-49a5-c556-f736197bcb8a"
      },
      "source": [
        "a = np.array([[1,2,3],[4,5,6]])\n",
        "b = np.array([[4,5,6],[7,8,9]])\n",
        "print(f'a:\\n{a}')\n",
        "print(f'b:\\n{b}')\n",
        "print(f'a+b:\\n{a+b}')\n",
        "print(f'b-a:\\n{b-a}')\n",
        "print(f'a*b:\\n{a*b}')\n",
        "print(f'b/a:\\n{b/a}')\n",
        "print(f'a**2:\\n{a**2}')"
      ],
      "execution_count": 10,
      "outputs": [
        {
          "output_type": "stream",
          "text": [
            "a:\n",
            "[[1 2 3]\n",
            " [4 5 6]]\n",
            "b:\n",
            "[[4 5 6]\n",
            " [7 8 9]]\n",
            "a+b:\n",
            "[[ 5  7  9]\n",
            " [11 13 15]]\n",
            "b-a:\n",
            "[[3 3 3]\n",
            " [3 3 3]]\n",
            "a*b:\n",
            "[[ 4 10 18]\n",
            " [28 40 54]]\n",
            "b/a:\n",
            "[[4.   2.5  2.  ]\n",
            " [1.75 1.6  1.5 ]]\n",
            "a**2:\n",
            "[[ 1  4  9]\n",
            " [16 25 36]]\n"
          ],
          "name": "stdout"
        }
      ]
    },
    {
      "cell_type": "markdown",
      "metadata": {
        "id": "BD9J7DoZVmYz",
        "colab_type": "text"
      },
      "source": [
        "Numpy中还自带一些[基本运算函数](https://www.numpy.org.cn/reference/routines/math.html#%E4%B8%89%E8%A7%92%E5%87%BD%E6%95%B0)，比如np.sin()"
      ]
    },
    {
      "cell_type": "code",
      "metadata": {
        "id": "H4-l44-pVXnB",
        "colab_type": "code",
        "colab": {
          "base_uri": "https://localhost:8080/",
          "height": 52
        },
        "outputId": "9d1aa568-9867-4913-f9e7-2f9b2796491e"
      },
      "source": [
        "c = 10*np.sin(a)\n",
        "print(f'c: {c}')"
      ],
      "execution_count": 11,
      "outputs": [
        {
          "output_type": "stream",
          "text": [
            "c: [[ 8.41470985  9.09297427  1.41120008]\n",
            " [-7.56802495 -9.58924275 -2.79415498]]\n"
          ],
          "name": "stdout"
        }
      ]
    },
    {
      "cell_type": "markdown",
      "metadata": {
        "id": "05hTGM6MXGAL",
        "colab_type": "text"
      },
      "source": [
        "矩阵乘法（点乘）在线性代数运算中经常用到"
      ]
    },
    {
      "cell_type": "code",
      "metadata": {
        "id": "qXU4ivm7WfJP",
        "colab_type": "code",
        "colab": {
          "base_uri": "https://localhost:8080/",
          "height": 192
        },
        "outputId": "54e70592-9558-4a99-9dc0-bef573ab6703"
      },
      "source": [
        "print(f'a:\\n{a}')\n",
        "print(f'b:\\n{b.reshape(3,2)}') # 注意矩阵乘法的条件\n",
        "print(f'a·b:\\n{np.dot(a,b.reshape(3,2))}')"
      ],
      "execution_count": 12,
      "outputs": [
        {
          "output_type": "stream",
          "text": [
            "a:\n",
            "[[1 2 3]\n",
            " [4 5 6]]\n",
            "b:\n",
            "[[4 5]\n",
            " [6 7]\n",
            " [8 9]]\n",
            "a·b:\n",
            "[[ 40  46]\n",
            " [ 94 109]]\n"
          ],
          "name": "stdout"
        }
      ]
    },
    {
      "cell_type": "markdown",
      "metadata": {
        "id": "Pk14h7BpYf_8",
        "colab_type": "text"
      },
      "source": [
        "元素求总和，最大值，最小值"
      ]
    },
    {
      "cell_type": "code",
      "metadata": {
        "id": "bJykf_VQYRY0",
        "colab_type": "code",
        "colab": {
          "base_uri": "https://localhost:8080/",
          "height": 104
        },
        "outputId": "c9ad9cef-810a-4bf9-fd29-fc26a81a98ce"
      },
      "source": [
        "print(a)\n",
        "print(f'元素总和：{np.sum(a)}')\n",
        "print(f'最大值：{np.max(a)}')\n",
        "print(f'最小值：{np.min(a)}')"
      ],
      "execution_count": 13,
      "outputs": [
        {
          "output_type": "stream",
          "text": [
            "[[1 2 3]\n",
            " [4 5 6]]\n",
            "元素总和：21\n",
            "最大值：6\n",
            "最小值：1\n"
          ],
          "name": "stdout"
        }
      ]
    },
    {
      "cell_type": "markdown",
      "metadata": {
        "id": "7pUaXlD5Z2dh",
        "colab_type": "text"
      },
      "source": [
        "找到最大最小值的索引可以用argmax()和argmin()"
      ]
    },
    {
      "cell_type": "code",
      "metadata": {
        "id": "ngFBbBoSZEzO",
        "colab_type": "code",
        "colab": {
          "base_uri": "https://localhost:8080/",
          "height": 87
        },
        "outputId": "56467a5c-5f4b-4723-9b4e-33c9da1eaf46"
      },
      "source": [
        "print(a)\n",
        "print(f'最大值索引：{np.argmax(a)}')\n",
        "print(f'最小值索引：{np.argmin(a)}')"
      ],
      "execution_count": 14,
      "outputs": [
        {
          "output_type": "stream",
          "text": [
            "[[1 2 3]\n",
            " [4 5 6]]\n",
            "最大值索引：5\n",
            "最小值索引：0\n"
          ],
          "name": "stdout"
        }
      ]
    },
    {
      "cell_type": "markdown",
      "metadata": {
        "id": "4v0jaJ8Ubc3Z",
        "colab_type": "text"
      },
      "source": [
        "求均值可以用np.mean()或np.average()实现，其中np.average()可以通过加参数实现加权平均值的求解。"
      ]
    },
    {
      "cell_type": "code",
      "metadata": {
        "id": "EA1rukaWa3g-",
        "colab_type": "code",
        "colab": {
          "base_uri": "https://localhost:8080/",
          "height": 87
        },
        "outputId": "cc53d956-1e5b-466b-fe58-ae2eb9d5679a"
      },
      "source": [
        "print(a)\n",
        "print(f'平均值：{np.mean(a)}')\n",
        "print(f'加权平均值：{np.average(a, weights=b)}') # 以b数组为权重"
      ],
      "execution_count": 15,
      "outputs": [
        {
          "output_type": "stream",
          "text": [
            "[[1 2 3]\n",
            " [4 5 6]]\n",
            "平均值：3.5\n",
            "加权平均值：3.948717948717949\n"
          ],
          "name": "stdout"
        }
      ]
    },
    {
      "cell_type": "markdown",
      "metadata": {
        "id": "qBAdLiLHcuMX",
        "colab_type": "text"
      },
      "source": [
        "类似于matlab中的累加函数cumsum(),numpy中也有np.cumsum()，生成的每一项元素都是从首项开始累加到对映项的元素之和"
      ]
    },
    {
      "cell_type": "code",
      "metadata": {
        "id": "-HgXyn-xcTck",
        "colab_type": "code",
        "colab": {
          "base_uri": "https://localhost:8080/",
          "height": 69
        },
        "outputId": "5547792d-6278-4908-9bce-b5d04a71c481"
      },
      "source": [
        "print(a)\n",
        "print(f'累加和：{np.cumsum(a)}')"
      ],
      "execution_count": 16,
      "outputs": [
        {
          "output_type": "stream",
          "text": [
            "[[1 2 3]\n",
            " [4 5 6]]\n",
            "累加和：[ 1  3  6 10 15 21]\n"
          ],
          "name": "stdout"
        }
      ]
    },
    {
      "cell_type": "markdown",
      "metadata": {
        "id": "bmrmdpi2eLMR",
        "colab_type": "text"
      },
      "source": [
        "计算相邻元素之间的差用np.diff()"
      ]
    },
    {
      "cell_type": "code",
      "metadata": {
        "id": "FWPw9wZidtcH",
        "colab_type": "code",
        "colab": {
          "base_uri": "https://localhost:8080/",
          "height": 104
        },
        "outputId": "52ef580a-8f25-4d1d-9137-4e5d134ca611"
      },
      "source": [
        "print(a)\n",
        "print(f'相邻差：\\n{np.diff(a)}')"
      ],
      "execution_count": 17,
      "outputs": [
        {
          "output_type": "stream",
          "text": [
            "[[1 2 3]\n",
            " [4 5 6]]\n",
            "相邻差：\n",
            "[[1 1]\n",
            " [1 1]]\n"
          ],
          "name": "stdout"
        }
      ]
    },
    {
      "cell_type": "markdown",
      "metadata": {
        "id": "Xm35YFPbn5K8",
        "colab_type": "text"
      },
      "source": [
        "np.nonzero()返回两个数组，分别装着输入数组中所有非零元素的坐标，前一个装行数，后一个装位数"
      ]
    },
    {
      "cell_type": "code",
      "metadata": {
        "id": "SwO4muDmeYqk",
        "colab_type": "code",
        "colab": {
          "base_uri": "https://localhost:8080/",
          "height": 87
        },
        "outputId": "7c719065-05bb-4d02-9f8d-a52c5c391c62"
      },
      "source": [
        "nz = np.array([[0,1,0], [1,0,0]])\n",
        "print(nz)\n",
        "print(f'非零元素位置：\\n{np.nonzero(nz)}')"
      ],
      "execution_count": 18,
      "outputs": [
        {
          "output_type": "stream",
          "text": [
            "[[0 1 0]\n",
            " [1 0 0]]\n",
            "非零元素位置：\n",
            "(array([0, 1]), array([1, 0]))\n"
          ],
          "name": "stdout"
        }
      ]
    },
    {
      "cell_type": "markdown",
      "metadata": {
        "id": "gs8IJXxYo85m",
        "colab_type": "text"
      },
      "source": [
        "转置函数np.transpose(),还有个更简洁的表达方法a.T"
      ]
    },
    {
      "cell_type": "code",
      "metadata": {
        "id": "tLBqDTfKoszP",
        "colab_type": "code",
        "colab": {
          "base_uri": "https://localhost:8080/",
          "height": 192
        },
        "outputId": "0c7fa11d-57aa-486b-c095-0633acc25408"
      },
      "source": [
        "print(a)\n",
        "print(f'转置后：\\n{np.transpose(a)}\\n或者：\\n{a.T}')"
      ],
      "execution_count": 19,
      "outputs": [
        {
          "output_type": "stream",
          "text": [
            "[[1 2 3]\n",
            " [4 5 6]]\n",
            "转置后：\n",
            "[[1 4]\n",
            " [2 5]\n",
            " [3 6]]\n",
            "或者：\n",
            "[[1 4]\n",
            " [2 5]\n",
            " [3 6]]\n"
          ],
          "name": "stdout"
        }
      ]
    },
    {
      "cell_type": "markdown",
      "metadata": {
        "id": "GMfG2HYNp3GC",
        "colab_type": "text"
      },
      "source": [
        "np.clip()函数可将元素转为某个指定范围内（掐头去尾）"
      ]
    },
    {
      "cell_type": "code",
      "metadata": {
        "id": "pp7JQT0Lpe_I",
        "colab_type": "code",
        "colab": {
          "base_uri": "https://localhost:8080/",
          "height": 104
        },
        "outputId": "cb4d06c5-8ec9-4eb2-8972-add9d982930d"
      },
      "source": [
        "print(a)\n",
        "print(f'限制区间后：\\n{np.clip(a,3,5)}')"
      ],
      "execution_count": 20,
      "outputs": [
        {
          "output_type": "stream",
          "text": [
            "[[1 2 3]\n",
            " [4 5 6]]\n",
            "限制区间后：\n",
            "[[3 3 3]\n",
            " [4 5 5]]\n"
          ],
          "name": "stdout"
        }
      ]
    },
    {
      "cell_type": "markdown",
      "metadata": {
        "id": "OnzZliH0qN67",
        "colab_type": "text"
      },
      "source": [
        "### 2.4 Numpy 索引\n",
        "\n",
        "用法类似于列表对象list的坐标，用中括号表示。"
      ]
    }
  ]
}